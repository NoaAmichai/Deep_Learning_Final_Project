{
 "cells": [
  {
   "cell_type": "code",
   "execution_count": 1,
   "id": "ce730d0a",
   "metadata": {},
   "outputs": [
    {
     "name": "stderr",
     "output_type": "stream",
     "text": [
      "C:\\Users\\ASUS\\anaconda3\\lib\\site-packages\\scipy\\__init__.py:146: UserWarning: A NumPy version >=1.16.5 and <1.23.0 is required for this version of SciPy (detected version 1.26.4\n",
      "  warnings.warn(f\"A NumPy version >={np_minversion} and <{np_maxversion}\"\n"
     ]
    },
    {
     "name": "stdout",
     "output_type": "stream",
     "text": [
      "WARNING:tensorflow:From C:\\Users\\ASUS\\anaconda3\\lib\\site-packages\\keras\\src\\losses.py:2976: The name tf.losses.sparse_softmax_cross_entropy is deprecated. Please use tf.compat.v1.losses.sparse_softmax_cross_entropy instead.\n",
      "\n"
     ]
    }
   ],
   "source": [
    "import os\n",
    "import glob\n",
    "import cv2\n",
    "import pandas as pd\n",
    "import matplotlib.pyplot as plt\n",
    "import numpy as np\n",
    "import tensorflow as tf\n",
    "from PIL import Image\n",
    "from sklearn.model_selection import train_test_split\n",
    "from tensorflow.keras.preprocessing.image import ImageDataGenerator\n",
    "from tensorflow.keras.models import Sequential\n",
    "from tensorflow.keras.layers import Dense, Flatten, Conv2D, MaxPool2D, Dropout\n",
    "from sklearn.metrics import confusion_matrix, classification_report,ConfusionMatrixDisplay\n",
    "%matplotlib inline\n",
    "import seaborn as sns\n",
    "import warnings\n",
    "warnings.filterwarnings('ignore')\n",
    "from tqdm import tqdm\n",
    "from numpy import asarray\n",
    "np.set_printoptions(precision=5)#show 5 number after decimal point \n",
    "\n",
    "from sklearn.decomposition import PCA\n",
    "from sklearn.pipeline import Pipeline\n",
    "from sklearn.cluster import KMeans\n",
    "from sklearn.linear_model import LogisticRegression\n",
    "from sklearn.dummy import DummyClassifier\n",
    "\n",
    "from sklearn import metrics\n",
    "from sklearn.metrics import accuracy_score, precision_score, recall_score"
   ]
  },
  {
   "cell_type": "code",
   "execution_count": 2,
   "id": "4c415e3b",
   "metadata": {},
   "outputs": [],
   "source": [
    "base_dir = r\"data\"  # Define your base directory\n",
    "label = []       # Labels for each category\n",
    "images_path = [] # Paths of all images\n",
    "all_images = []  # Names of all images\n",
    "img_label = []   # Labels corresponding to each image\n",
    "\n",
    "for directory in os.listdir(base_dir):\n",
    "    if os.path.isdir(os.path.join(base_dir, directory)):\n",
    "        label.append(directory)\n",
    "        # Using glob to find all jpg, jpeg, and png files\n",
    "        for img_path in glob.glob(os.path.join(base_dir, directory, '*.jpg')) + \\\n",
    "                        glob.glob(os.path.join(base_dir, directory, '*.jpeg')) + \\\n",
    "                        glob.glob(os.path.join(base_dir, directory, '*.png')):\n",
    "            img_name = os.path.basename(img_path)\n",
    "            all_images.append(img_name)\n",
    "            images_path.append(img_path)\n",
    "            img_label.append(directory)"
   ]
  },
  {
   "cell_type": "code",
   "execution_count": 3,
   "id": "656f2744",
   "metadata": {},
   "outputs": [],
   "source": [
    "def upload_data(vehicle_dir, non_vehicle_dir):\n",
    "    data_in_matrix = []\n",
    "    \n",
    "    for img_name in tqdm(os.listdir(vehicle_dir)):\n",
    "        img_path = os.path.join(vehicle_dir, img_name)\n",
    "        image = Image.open(img_path)  # No conversion to 'L' here\n",
    "        image_array = np.asarray(image)\n",
    "        data_in_matrix.append([image_array, 1]) \n",
    "\n",
    "    # Upload non-vehicle images\n",
    "    for img_name in tqdm(os.listdir(non_vehicle_dir)):\n",
    "        img_path = os.path.join(non_vehicle_dir, img_name)\n",
    "        image = Image.open(img_path)  # No conversion to 'L' here\n",
    "        image_array = np.asarray(image)\n",
    "        data_in_matrix.append([image_array, 0])  \n",
    "\n",
    "    # Convert data to a NumPy array\n",
    "    data_in_matrix = np.array(data_in_matrix, dtype=object)\n",
    "    \n",
    "    return data_in_matrix\n",
    "\n",
    "# Define the paths\n",
    "vehicles_url = r\"data\\vehicles\"\n",
    "non_vehicles_url = r\"data\\non-vehicles\""
   ]
  },
  {
   "cell_type": "code",
   "execution_count": 4,
   "id": "ac54394d",
   "metadata": {},
   "outputs": [
    {
     "name": "stderr",
     "output_type": "stream",
     "text": [
      "100%|██████████████████████████████████████████████████████████████████████████████| 8792/8792 [01:55<00:00, 76.01it/s]\n",
      "100%|██████████████████████████████████████████████████████████████████████████████| 8968/8968 [01:52<00:00, 79.55it/s]\n"
     ]
    }
   ],
   "source": [
    "data_in_matrix = upload_data(vehicles_url, non_vehicles_url)"
   ]
  },
  {
   "cell_type": "code",
   "execution_count": 5,
   "id": "6a849628",
   "metadata": {},
   "outputs": [],
   "source": [
    "def extract_features_labels(data):\n",
    "    X = []\n",
    "    y = []\n",
    "\n",
    "    for image_array, label in data:\n",
    "        X.append(image_array)\n",
    "        y.append(label)\n",
    "\n",
    "    X = np.array(X)\n",
    "    y = np.array(y)\n",
    "\n",
    "    return X, y\n"
   ]
  },
  {
   "cell_type": "code",
   "execution_count": 6,
   "id": "c68941d1",
   "metadata": {},
   "outputs": [],
   "source": [
    "# Extract features (X) and labels (y)\n",
    "mat_x, mat_y = extract_features_labels(data_in_matrix)"
   ]
  },
  {
   "cell_type": "code",
   "execution_count": 7,
   "id": "def24962",
   "metadata": {},
   "outputs": [],
   "source": [
    "mat_x = mat_x/255.0"
   ]
  },
  {
   "cell_type": "code",
   "execution_count": 8,
   "id": "c5fd1eda",
   "metadata": {},
   "outputs": [],
   "source": [
    "#split the data to train and test \n",
    "X_train_mat, X_test_mat, y_train_mat, y_test_mat = train_test_split(mat_x,mat_y, test_size=0.2, random_state=42)\n",
    "#split the train\n",
    "X_train_mat, X_val_mat, y_train_mat, y_val_mat = train_test_split(X_train_mat,y_train_mat, test_size=0.2, random_state=42)"
   ]
  },
  {
   "cell_type": "code",
   "execution_count": 9,
   "id": "aa686aa0",
   "metadata": {},
   "outputs": [
    {
     "name": "stdout",
     "output_type": "stream",
     "text": [
      "Labels : ['non-vehicles', 'vehicles']\n",
      "Total Images : 17760\n",
      " Images shape : (64, 64, 3)\n"
     ]
    }
   ],
   "source": [
    "img_shape = cv2.imread(images_path[0])\n",
    "\n",
    "print(f\"Labels : { label}\")\n",
    "print(f\"Total Images : {len(all_images)}\")\n",
    "print(f\" Images shape : {img_shape.shape}\")"
   ]
  },
  {
   "cell_type": "code",
   "execution_count": 10,
   "id": "05ddb1d0",
   "metadata": {},
   "outputs": [
    {
     "data": {
      "text/html": [
       "<div>\n",
       "<style scoped>\n",
       "    .dataframe tbody tr th:only-of-type {\n",
       "        vertical-align: middle;\n",
       "    }\n",
       "\n",
       "    .dataframe tbody tr th {\n",
       "        vertical-align: top;\n",
       "    }\n",
       "\n",
       "    .dataframe thead th {\n",
       "        text-align: right;\n",
       "    }\n",
       "</style>\n",
       "<table border=\"1\" class=\"dataframe\">\n",
       "  <thead>\n",
       "    <tr style=\"text-align: right;\">\n",
       "      <th></th>\n",
       "      <th>image</th>\n",
       "      <th>label</th>\n",
       "    </tr>\n",
       "  </thead>\n",
       "  <tbody>\n",
       "    <tr>\n",
       "      <th>0</th>\n",
       "      <td>data\\non-vehicles\\extra1.png</td>\n",
       "      <td>non-vehicles</td>\n",
       "    </tr>\n",
       "    <tr>\n",
       "      <th>1</th>\n",
       "      <td>data\\non-vehicles\\extra10.png</td>\n",
       "      <td>non-vehicles</td>\n",
       "    </tr>\n",
       "    <tr>\n",
       "      <th>2</th>\n",
       "      <td>data\\non-vehicles\\extra100.png</td>\n",
       "      <td>non-vehicles</td>\n",
       "    </tr>\n",
       "    <tr>\n",
       "      <th>3</th>\n",
       "      <td>data\\non-vehicles\\extra1000.png</td>\n",
       "      <td>non-vehicles</td>\n",
       "    </tr>\n",
       "    <tr>\n",
       "      <th>4</th>\n",
       "      <td>data\\non-vehicles\\extra1001.png</td>\n",
       "      <td>non-vehicles</td>\n",
       "    </tr>\n",
       "    <tr>\n",
       "      <th>...</th>\n",
       "      <td>...</td>\n",
       "      <td>...</td>\n",
       "    </tr>\n",
       "    <tr>\n",
       "      <th>17755</th>\n",
       "      <td>data\\vehicles\\right (95).png</td>\n",
       "      <td>vehicles</td>\n",
       "    </tr>\n",
       "    <tr>\n",
       "      <th>17756</th>\n",
       "      <td>data\\vehicles\\right (96).png</td>\n",
       "      <td>vehicles</td>\n",
       "    </tr>\n",
       "    <tr>\n",
       "      <th>17757</th>\n",
       "      <td>data\\vehicles\\right (97).png</td>\n",
       "      <td>vehicles</td>\n",
       "    </tr>\n",
       "    <tr>\n",
       "      <th>17758</th>\n",
       "      <td>data\\vehicles\\right (98).png</td>\n",
       "      <td>vehicles</td>\n",
       "    </tr>\n",
       "    <tr>\n",
       "      <th>17759</th>\n",
       "      <td>data\\vehicles\\right (99).png</td>\n",
       "      <td>vehicles</td>\n",
       "    </tr>\n",
       "  </tbody>\n",
       "</table>\n",
       "<p>17760 rows × 2 columns</p>\n",
       "</div>"
      ],
      "text/plain": [
       "                                 image         label\n",
       "0         data\\non-vehicles\\extra1.png  non-vehicles\n",
       "1        data\\non-vehicles\\extra10.png  non-vehicles\n",
       "2       data\\non-vehicles\\extra100.png  non-vehicles\n",
       "3      data\\non-vehicles\\extra1000.png  non-vehicles\n",
       "4      data\\non-vehicles\\extra1001.png  non-vehicles\n",
       "...                                ...           ...\n",
       "17755     data\\vehicles\\right (95).png      vehicles\n",
       "17756     data\\vehicles\\right (96).png      vehicles\n",
       "17757     data\\vehicles\\right (97).png      vehicles\n",
       "17758     data\\vehicles\\right (98).png      vehicles\n",
       "17759     data\\vehicles\\right (99).png      vehicles\n",
       "\n",
       "[17760 rows x 2 columns]"
      ]
     },
     "execution_count": 10,
     "metadata": {},
     "output_type": "execute_result"
    }
   ],
   "source": [
    "data =pd.DataFrame({'image':images_path,'label':img_label}) \n",
    "data"
   ]
  },
  {
   "cell_type": "code",
   "execution_count": 11,
   "id": "c03ebbce",
   "metadata": {},
   "outputs": [
    {
     "data": {
      "text/html": [
       "<div>\n",
       "<style scoped>\n",
       "    .dataframe tbody tr th:only-of-type {\n",
       "        vertical-align: middle;\n",
       "    }\n",
       "\n",
       "    .dataframe tbody tr th {\n",
       "        vertical-align: top;\n",
       "    }\n",
       "\n",
       "    .dataframe thead th {\n",
       "        text-align: right;\n",
       "    }\n",
       "</style>\n",
       "<table border=\"1\" class=\"dataframe\">\n",
       "  <thead>\n",
       "    <tr style=\"text-align: right;\">\n",
       "      <th></th>\n",
       "      <th>index</th>\n",
       "      <th>image</th>\n",
       "      <th>label</th>\n",
       "    </tr>\n",
       "  </thead>\n",
       "  <tbody>\n",
       "    <tr>\n",
       "      <th>0</th>\n",
       "      <td>5872</td>\n",
       "      <td>data\\non-vehicles\\image1722.png</td>\n",
       "      <td>non-vehicles</td>\n",
       "    </tr>\n",
       "    <tr>\n",
       "      <th>1</th>\n",
       "      <td>10697</td>\n",
       "      <td>data\\vehicles\\2558.png</td>\n",
       "      <td>vehicles</td>\n",
       "    </tr>\n",
       "    <tr>\n",
       "      <th>2</th>\n",
       "      <td>13670</td>\n",
       "      <td>data\\vehicles\\5233.png</td>\n",
       "      <td>vehicles</td>\n",
       "    </tr>\n",
       "    <tr>\n",
       "      <th>3</th>\n",
       "      <td>8505</td>\n",
       "      <td>data\\non-vehicles\\image582.png</td>\n",
       "      <td>non-vehicles</td>\n",
       "    </tr>\n",
       "    <tr>\n",
       "      <th>4</th>\n",
       "      <td>7643</td>\n",
       "      <td>data\\non-vehicles\\image3316.png</td>\n",
       "      <td>non-vehicles</td>\n",
       "    </tr>\n",
       "  </tbody>\n",
       "</table>\n",
       "</div>"
      ],
      "text/plain": [
       "   index                            image         label\n",
       "0   5872  data\\non-vehicles\\image1722.png  non-vehicles\n",
       "1  10697           data\\vehicles\\2558.png      vehicles\n",
       "2  13670           data\\vehicles\\5233.png      vehicles\n",
       "3   8505   data\\non-vehicles\\image582.png  non-vehicles\n",
       "4   7643  data\\non-vehicles\\image3316.png  non-vehicles"
      ]
     },
     "execution_count": 11,
     "metadata": {},
     "output_type": "execute_result"
    }
   ],
   "source": [
    "data = data.sample(frac=1).reset_index()\n",
    "data.head()"
   ]
  },
  {
   "cell_type": "code",
   "execution_count": 12,
   "id": "70f2f0ce",
   "metadata": {},
   "outputs": [
    {
     "data": {
      "image/png": "[encoded data removed]",
      "text/plain": [
       "<Figure size 1080x1080 with 4 Axes>"
      ]
     },
     "metadata": {
      "needs_background": "light"
     },
     "output_type": "display_data"
    }
   ],
   "source": [
    "fig = plt.figure(figsize=(15,15))\n",
    "\n",
    "for i in range(4):\n",
    "    fig.add_subplot(4,4,i+1).set_title(data['label'][i])\n",
    "    img = cv2.imread(data['image'][i])\n",
    "    plt.imshow(img)\n",
    "    \n",
    "plt.show()"
   ]
  },
  {
   "cell_type": "code",
   "execution_count": 13,
   "id": "7ebebc09",
   "metadata": {},
   "outputs": [
    {
     "name": "stdout",
     "output_type": "stream",
     "text": [
      "<class 'pandas.core.frame.DataFrame'>\n",
      "RangeIndex: 17760 entries, 0 to 17759\n",
      "Data columns (total 3 columns):\n",
      " #   Column  Non-Null Count  Dtype \n",
      "---  ------  --------------  ----- \n",
      " 0   index   17760 non-null  int64 \n",
      " 1   image   17760 non-null  object\n",
      " 2   label   17760 non-null  object\n",
      "dtypes: int64(1), object(2)\n",
      "memory usage: 416.4+ KB\n"
     ]
    }
   ],
   "source": [
    "data.info()"
   ]
  },
  {
   "cell_type": "code",
   "execution_count": 14,
   "id": "c42d5d9c",
   "metadata": {},
   "outputs": [
    {
     "data": {
      "text/plain": [
       "non-vehicles    8968\n",
       "vehicles        8792\n",
       "Name: label, dtype: int64"
      ]
     },
     "execution_count": 14,
     "metadata": {},
     "output_type": "execute_result"
    }
   ],
   "source": [
    "data['label'].value_counts()"
   ]
  },
  {
   "cell_type": "code",
   "execution_count": 15,
   "id": "43661fd4-3748-4c12-8345-bec2cf249197",
   "metadata": {},
   "outputs": [
    {
     "data": {
      "image/png": "[encoded data removed]",
      "text/plain": [
       "<Figure size 432x288 with 1 Axes>"
      ]
     },
     "metadata": {
      "needs_background": "light"
     },
     "output_type": "display_data"
    }
   ],
   "source": [
    "value_counts = data['label'].value_counts()\n",
    "\n",
    "# Plotting\n",
    "plt.bar(value_counts.index, value_counts.values, color=['blue', 'pink'],linewidth=1, edgecolor=\"black\")\n",
    "plt.xlabel('Labels')\n",
    "plt.ylabel('Count')\n",
    "plt.title('Distribution of Labels')\n",
    "plt.show()\n"
   ]
  },
  {
   "cell_type": "markdown",
   "id": "311739f1",
   "metadata": {},
   "source": [
    "# As we can see the data is more or less equally distributed."
   ]
  },
  {
   "cell_type": "code",
   "execution_count": 16,
   "id": "494b0f1e",
   "metadata": {},
   "outputs": [],
   "source": [
    "X = data.drop('index',axis=1)\n",
    "Y = data.label"
   ]
  },
  {
   "cell_type": "code",
   "execution_count": 17,
   "id": "dac94ec8",
   "metadata": {},
   "outputs": [
    {
     "data": {
      "text/html": [
       "<div>\n",
       "<style scoped>\n",
       "    .dataframe tbody tr th:only-of-type {\n",
       "        vertical-align: middle;\n",
       "    }\n",
       "\n",
       "    .dataframe tbody tr th {\n",
       "        vertical-align: top;\n",
       "    }\n",
       "\n",
       "    .dataframe thead th {\n",
       "        text-align: right;\n",
       "    }\n",
       "</style>\n",
       "<table border=\"1\" class=\"dataframe\">\n",
       "  <thead>\n",
       "    <tr style=\"text-align: right;\">\n",
       "      <th></th>\n",
       "      <th>image</th>\n",
       "      <th>label</th>\n",
       "    </tr>\n",
       "  </thead>\n",
       "  <tbody>\n",
       "    <tr>\n",
       "      <th>0</th>\n",
       "      <td>data\\non-vehicles\\image1722.png</td>\n",
       "      <td>non-vehicles</td>\n",
       "    </tr>\n",
       "    <tr>\n",
       "      <th>1</th>\n",
       "      <td>data\\vehicles\\2558.png</td>\n",
       "      <td>vehicles</td>\n",
       "    </tr>\n",
       "    <tr>\n",
       "      <th>2</th>\n",
       "      <td>data\\vehicles\\5233.png</td>\n",
       "      <td>vehicles</td>\n",
       "    </tr>\n",
       "    <tr>\n",
       "      <th>3</th>\n",
       "      <td>data\\non-vehicles\\image582.png</td>\n",
       "      <td>non-vehicles</td>\n",
       "    </tr>\n",
       "    <tr>\n",
       "      <th>4</th>\n",
       "      <td>data\\non-vehicles\\image3316.png</td>\n",
       "      <td>non-vehicles</td>\n",
       "    </tr>\n",
       "    <tr>\n",
       "      <th>...</th>\n",
       "      <td>...</td>\n",
       "      <td>...</td>\n",
       "    </tr>\n",
       "    <tr>\n",
       "      <th>17755</th>\n",
       "      <td>data\\vehicles\\far (125).png</td>\n",
       "      <td>vehicles</td>\n",
       "    </tr>\n",
       "    <tr>\n",
       "      <th>17756</th>\n",
       "      <td>data\\non-vehicles\\image2451.png</td>\n",
       "      <td>non-vehicles</td>\n",
       "    </tr>\n",
       "    <tr>\n",
       "      <th>17757</th>\n",
       "      <td>data\\vehicles\\left (701).png</td>\n",
       "      <td>vehicles</td>\n",
       "    </tr>\n",
       "    <tr>\n",
       "      <th>17758</th>\n",
       "      <td>data\\non-vehicles\\extra3579.png</td>\n",
       "      <td>non-vehicles</td>\n",
       "    </tr>\n",
       "    <tr>\n",
       "      <th>17759</th>\n",
       "      <td>data\\vehicles\\5523.png</td>\n",
       "      <td>vehicles</td>\n",
       "    </tr>\n",
       "  </tbody>\n",
       "</table>\n",
       "<p>17760 rows × 2 columns</p>\n",
       "</div>"
      ],
      "text/plain": [
       "                                 image         label\n",
       "0      data\\non-vehicles\\image1722.png  non-vehicles\n",
       "1               data\\vehicles\\2558.png      vehicles\n",
       "2               data\\vehicles\\5233.png      vehicles\n",
       "3       data\\non-vehicles\\image582.png  non-vehicles\n",
       "4      data\\non-vehicles\\image3316.png  non-vehicles\n",
       "...                                ...           ...\n",
       "17755      data\\vehicles\\far (125).png      vehicles\n",
       "17756  data\\non-vehicles\\image2451.png  non-vehicles\n",
       "17757     data\\vehicles\\left (701).png      vehicles\n",
       "17758  data\\non-vehicles\\extra3579.png  non-vehicles\n",
       "17759           data\\vehicles\\5523.png      vehicles\n",
       "\n",
       "[17760 rows x 2 columns]"
      ]
     },
     "execution_count": 17,
     "metadata": {},
     "output_type": "execute_result"
    }
   ],
   "source": [
    "X"
   ]
  },
  {
   "cell_type": "code",
   "execution_count": 18,
   "id": "3ff51ac0",
   "metadata": {},
   "outputs": [
    {
     "name": "stdout",
     "output_type": "stream",
     "text": [
      "(14208, 2)\n",
      "(3552, 2)\n"
     ]
    }
   ],
   "source": [
    "X_train, X_final_test, y_train, y_final_test = train_test_split(X,Y, test_size=0.2, random_state=42)\n",
    "print(X_train.shape)\n",
    "print(X_final_test.shape)"
   ]
  },
  {
   "cell_type": "code",
   "execution_count": 19,
   "id": "0e369594",
   "metadata": {},
   "outputs": [
    {
     "data": {
      "text/plain": [
       "15610        vehicles\n",
       "5230     non-vehicles\n",
       "15224    non-vehicles\n",
       "83       non-vehicles\n",
       "14570        vehicles\n",
       "             ...     \n",
       "11284    non-vehicles\n",
       "11964        vehicles\n",
       "5390         vehicles\n",
       "860          vehicles\n",
       "15795    non-vehicles\n",
       "Name: label, Length: 14208, dtype: object"
      ]
     },
     "execution_count": 19,
     "metadata": {},
     "output_type": "execute_result"
    }
   ],
   "source": [
    "y_train"
   ]
  },
  {
   "cell_type": "code",
   "execution_count": 20,
   "id": "0086068a",
   "metadata": {},
   "outputs": [],
   "source": [
    "train_datagen = ImageDataGenerator(rescale = 1./255,\n",
    "                                    shear_range = 0.2,\n",
    "                                    zoom_range = 0.1,\n",
    "                                    rotation_range = 25,\n",
    "                                    width_shift_range = 0.1,\n",
    "                                    height_shift_range = 0.1,\n",
    "                                    horizontal_flip = True,\n",
    "                                    validation_split = 0.2)\n",
    "\n",
    "test_datagen = ImageDataGenerator(rescale = 1./255)"
   ]
  },
  {
   "cell_type": "code",
   "execution_count": 21,
   "id": "5b9142ff",
   "metadata": {},
   "outputs": [
    {
     "name": "stdout",
     "output_type": "stream",
     "text": [
      "The DummyClassifier score is: 0.497\n"
     ]
    }
   ],
   "source": [
    "# Before we try real models, we will try a dummyClassifier. we will try to get high score than the dummyModel.\n",
    "dummy_clf = DummyClassifier(strategy=\"most_frequent\", random_state=42)\n",
    "dummy_clf.fit(X_train_mat, y_train_mat)\n",
    "y_pred = dummy_clf.predict(X_val_mat)\n",
    "print(\"The DummyClassifier score is:\" ,round(accuracy_score(y_pred,y_val_mat),3))"
   ]
  },
  {
   "cell_type": "code",
   "execution_count": 66,
   "id": "1e84a4a7",
   "metadata": {},
   "outputs": [
    {
     "name": "stdout",
     "output_type": "stream",
     "text": [
      "Epoch 1/50\n",
      "356/356 [==============================] - 2s 3ms/step - loss: 0.3996 - accuracy: 0.8301 - val_loss: 0.2963 - val_accuracy: 0.8930\n",
      "Epoch 2/50\n",
      "356/356 [==============================] - 1s 3ms/step - loss: 0.3074 - accuracy: 0.8779 - val_loss: 0.2779 - val_accuracy: 0.8973\n",
      "Epoch 3/50\n",
      "356/356 [==============================] - 1s 3ms/step - loss: 0.2787 - accuracy: 0.8968 - val_loss: 0.2554 - val_accuracy: 0.9071\n",
      "Epoch 4/50\n",
      "356/356 [==============================] - 1s 2ms/step - loss: 0.2546 - accuracy: 0.9014 - val_loss: 0.2773 - val_accuracy: 0.8927\n",
      "Epoch 5/50\n",
      "356/356 [==============================] - 1s 3ms/step - loss: 0.2460 - accuracy: 0.9081 - val_loss: 0.2426 - val_accuracy: 0.9124\n",
      "Epoch 6/50\n",
      "356/356 [==============================] - 1s 2ms/step - loss: 0.2369 - accuracy: 0.9099 - val_loss: 0.2364 - val_accuracy: 0.9131\n",
      "Epoch 7/50\n",
      "356/356 [==============================] - 1s 2ms/step - loss: 0.2253 - accuracy: 0.9149 - val_loss: 0.2397 - val_accuracy: 0.9106\n",
      "Epoch 8/50\n",
      "356/356 [==============================] - 1s 3ms/step - loss: 0.2167 - accuracy: 0.9198 - val_loss: 0.2281 - val_accuracy: 0.9229\n",
      "Epoch 9/50\n",
      "356/356 [==============================] - 1s 3ms/step - loss: 0.2065 - accuracy: 0.9248 - val_loss: 0.2231 - val_accuracy: 0.9233\n",
      "Epoch 10/50\n",
      "356/356 [==============================] - 1s 3ms/step - loss: 0.2139 - accuracy: 0.9225 - val_loss: 0.2086 - val_accuracy: 0.9324\n",
      "Epoch 11/50\n",
      "356/356 [==============================] - 1s 3ms/step - loss: 0.1875 - accuracy: 0.9328 - val_loss: 0.2177 - val_accuracy: 0.9233\n",
      "Epoch 12/50\n",
      "356/356 [==============================] - 1s 3ms/step - loss: 0.1919 - accuracy: 0.9287 - val_loss: 0.2135 - val_accuracy: 0.9268\n",
      "Epoch 13/50\n",
      "356/356 [==============================] - 1s 3ms/step - loss: 0.1920 - accuracy: 0.9292 - val_loss: 0.2025 - val_accuracy: 0.9342\n",
      "Epoch 14/50\n",
      "356/356 [==============================] - 1s 3ms/step - loss: 0.1825 - accuracy: 0.9353 - val_loss: 0.2162 - val_accuracy: 0.9240\n",
      "Epoch 15/50\n",
      "356/356 [==============================] - 1s 3ms/step - loss: 0.1871 - accuracy: 0.9334 - val_loss: 0.2099 - val_accuracy: 0.9289\n",
      "Epoch 16/50\n",
      "356/356 [==============================] - 1s 2ms/step - loss: 0.1903 - accuracy: 0.9304 - val_loss: 0.2153 - val_accuracy: 0.9268\n",
      "Epoch 17/50\n",
      "356/356 [==============================] - 1s 2ms/step - loss: 0.1983 - accuracy: 0.9273 - val_loss: 0.3260 - val_accuracy: 0.8934\n",
      "Epoch 18/50\n",
      "356/356 [==============================] - 1s 3ms/step - loss: 0.1748 - accuracy: 0.9374 - val_loss: 0.2763 - val_accuracy: 0.9096\n",
      "Epoch 19/50\n",
      "356/356 [==============================] - 1s 2ms/step - loss: 0.1749 - accuracy: 0.9387 - val_loss: 0.2251 - val_accuracy: 0.9201\n",
      "Epoch 20/50\n",
      "356/356 [==============================] - 1s 2ms/step - loss: 0.1678 - accuracy: 0.9424 - val_loss: 0.3853 - val_accuracy: 0.8286\n",
      "Epoch 21/50\n",
      "356/356 [==============================] - 1s 3ms/step - loss: 0.1656 - accuracy: 0.9436 - val_loss: 0.1978 - val_accuracy: 0.9388\n",
      "Epoch 22/50\n",
      "356/356 [==============================] - 1s 3ms/step - loss: 0.1840 - accuracy: 0.9364 - val_loss: 0.2039 - val_accuracy: 0.9356\n",
      "Epoch 23/50\n",
      "356/356 [==============================] - 1s 3ms/step - loss: 0.1647 - accuracy: 0.9418 - val_loss: 0.2362 - val_accuracy: 0.9173\n",
      "Epoch 24/50\n",
      "356/356 [==============================] - 1s 3ms/step - loss: 0.1664 - accuracy: 0.9426 - val_loss: 0.2046 - val_accuracy: 0.9367\n",
      "Epoch 25/50\n",
      "356/356 [==============================] - 1s 3ms/step - loss: 0.1723 - accuracy: 0.9389 - val_loss: 0.5381 - val_accuracy: 0.8395\n",
      "Epoch 26/50\n",
      "356/356 [==============================] - 1s 3ms/step - loss: 0.1696 - accuracy: 0.9396 - val_loss: 0.2166 - val_accuracy: 0.9282\n",
      "Epoch 27/50\n",
      "356/356 [==============================] - 1s 2ms/step - loss: 0.1556 - accuracy: 0.9443 - val_loss: 0.2061 - val_accuracy: 0.9342\n",
      "Epoch 28/50\n",
      "356/356 [==============================] - 1s 3ms/step - loss: 0.1623 - accuracy: 0.9433 - val_loss: 0.2081 - val_accuracy: 0.9324\n",
      "Epoch 29/50\n",
      "356/356 [==============================] - 1s 2ms/step - loss: 0.1621 - accuracy: 0.9413 - val_loss: 0.1954 - val_accuracy: 0.9398\n",
      "Epoch 30/50\n",
      "356/356 [==============================] - 1s 3ms/step - loss: 0.1575 - accuracy: 0.9451 - val_loss: 0.2011 - val_accuracy: 0.9367\n",
      "Epoch 31/50\n",
      "356/356 [==============================] - 1s 4ms/step - loss: 0.1616 - accuracy: 0.9417 - val_loss: 0.2661 - val_accuracy: 0.9120\n",
      "Epoch 32/50\n",
      "356/356 [==============================] - 1s 2ms/step - loss: 0.1439 - accuracy: 0.9523 - val_loss: 0.2340 - val_accuracy: 0.9212\n",
      "Epoch 33/50\n",
      "356/356 [==============================] - 1s 2ms/step - loss: 0.1501 - accuracy: 0.9477 - val_loss: 0.2508 - val_accuracy: 0.9201\n",
      "Epoch 34/50\n",
      "356/356 [==============================] - 1s 2ms/step - loss: 0.1515 - accuracy: 0.9483 - val_loss: 0.2037 - val_accuracy: 0.9346\n",
      "Epoch 35/50\n",
      "356/356 [==============================] - 1s 3ms/step - loss: 0.1556 - accuracy: 0.9439 - val_loss: 0.1980 - val_accuracy: 0.9402\n",
      "Epoch 36/50\n",
      "356/356 [==============================] - 1s 3ms/step - loss: 0.1481 - accuracy: 0.9504 - val_loss: 0.2990 - val_accuracy: 0.9053\n",
      "Epoch 37/50\n",
      "356/356 [==============================] - 1s 3ms/step - loss: 0.1464 - accuracy: 0.9498 - val_loss: 0.1963 - val_accuracy: 0.9388\n",
      "Epoch 38/50\n",
      "356/356 [==============================] - 1s 2ms/step - loss: 0.1547 - accuracy: 0.9440 - val_loss: 0.1982 - val_accuracy: 0.9377\n",
      "Epoch 39/50\n",
      "356/356 [==============================] - 1s 2ms/step - loss: 0.1395 - accuracy: 0.9496 - val_loss: 0.2148 - val_accuracy: 0.9331\n",
      "Epoch 40/50\n",
      "356/356 [==============================] - 1s 3ms/step - loss: 0.1333 - accuracy: 0.9554 - val_loss: 0.2147 - val_accuracy: 0.9282\n",
      "Epoch 41/50\n",
      "356/356 [==============================] - 1s 2ms/step - loss: 0.1480 - accuracy: 0.9485 - val_loss: 0.2025 - val_accuracy: 0.9391\n",
      "Epoch 42/50\n",
      "356/356 [==============================] - 1s 2ms/step - loss: 0.1415 - accuracy: 0.9515 - val_loss: 0.2036 - val_accuracy: 0.9384\n",
      "Epoch 43/50\n",
      "356/356 [==============================] - 1s 3ms/step - loss: 0.1389 - accuracy: 0.9531 - val_loss: 0.2191 - val_accuracy: 0.9279\n",
      "Epoch 44/50\n",
      "356/356 [==============================] - 1s 3ms/step - loss: 0.1403 - accuracy: 0.9518 - val_loss: 0.2016 - val_accuracy: 0.9395\n",
      "Epoch 45/50\n",
      "356/356 [==============================] - 1s 2ms/step - loss: 0.1378 - accuracy: 0.9520 - val_loss: 0.2264 - val_accuracy: 0.9279\n",
      "Epoch 46/50\n",
      "356/356 [==============================] - 1s 2ms/step - loss: 0.1307 - accuracy: 0.9561 - val_loss: 0.3943 - val_accuracy: 0.8839\n",
      "Epoch 47/50\n",
      "356/356 [==============================] - 1s 3ms/step - loss: 0.1378 - accuracy: 0.9548 - val_loss: 0.2041 - val_accuracy: 0.9342\n",
      "Epoch 48/50\n",
      "356/356 [==============================] - 1s 3ms/step - loss: 0.1309 - accuracy: 0.9536 - val_loss: 0.2752 - val_accuracy: 0.9145\n",
      "Epoch 49/50\n",
      "356/356 [==============================] - 1s 3ms/step - loss: 0.1376 - accuracy: 0.9528 - val_loss: 0.2052 - val_accuracy: 0.9356\n",
      "Epoch 50/50\n",
      "356/356 [==============================] - 1s 3ms/step - loss: 0.1402 - accuracy: 0.9515 - val_loss: 0.2891 - val_accuracy: 0.9127\n",
      "111/111 [==============================] - 0s 2ms/step - loss: 0.2870 - accuracy: 0.9082\n",
      "Test Accuracy: 0.9082207083702087\n",
      "111/111 [==============================] - 0s 2ms/step\n",
      "Accuracy Score: 0.9082207207207207\n"
     ]
    }
   ],
   "source": [
    "# Define logistic regression model using TensorFlow 2.x\n",
    "class LogisticRegression(tf.keras.Model):\n",
    "    def __init__(self):\n",
    "        super(LogisticRegression, self).__init__()\n",
    "        self.flatten = tf.keras.layers.Flatten(input_shape=(64, 64))  # Flatten input images\n",
    "        self.dense = tf.keras.layers.Dense(1, activation='sigmoid')  # Output layer with sigmoid activation\n",
    "\n",
    "    def call(self, x):\n",
    "        x = self.flatten(x)\n",
    "        return self.dense(x)\n",
    "\n",
    "# Create an instance of the logistic regression model\n",
    "model = LogisticRegression()\n",
    "\n",
    "# Compile the model\n",
    "model.compile(optimizer='adam',\n",
    "              loss='binary_crossentropy',\n",
    "              metrics=['accuracy'])\n",
    "\n",
    "# Train the model\n",
    "history = model.fit(X_train_mat, y_train_mat, epochs=50, batch_size=32, validation_data=(X_val_mat, y_val_mat))\n",
    "\n",
    "# Evaluate the model on the test set\n",
    "test_loss, test_acc = model.evaluate(X_test_mat, y_test_mat)\n",
    "\n",
    "print(\"Test Accuracy:\", test_acc)\n",
    "\n",
    "# Predictions on the test set\n",
    "y_pred_prob = model.predict(X_test_mat)\n",
    "\n",
    "# Convert probabilities to class labels based on a threshold (e.g., 0.5)\n",
    "y_pred = (y_pred_prob > 0.5).astype(int)\n",
    "\n",
    "# Calculate accuracy\n",
    "accuracy = accuracy_score(y_test_mat, y_pred)\n",
    "print(\"Accuracy Score:\", accuracy)"
   ]
  },
  {
   "cell_type": "code",
   "execution_count": null,
   "id": "24d59c6a-2905-4646-a0de-658ace6d5ff5",
   "metadata": {},
   "outputs": [],
   "source": []
  },
  {
   "cell_type": "code",
   "execution_count": null,
   "id": "11df2d9f-0fd0-4884-b57f-767a131f4afc",
   "metadata": {},
   "outputs": [],
   "source": [
    "class LogisticRegression(tf.keras.Model):\n",
    "    def __init__(self):  # Make sure to use double underscores for __init_\n",
    "        super(LogisticRegression, self).__init__()\n",
    "        self.flatten = tf.keras.layers.Flatten()\n",
    "        self.dense = tf.keras.layers.Dense(1, activation='sigmoid')\n",
    "\n",
    "    def call(self, x):\n",
    "        x = self.flatten(x)\n",
    "        return self.dense(x)\n",
    "\n",
    "def build_model(learning_rate=0.001):\n",
    "    model = LogisticRegression()\n",
    "    optimizer = tf.keras.optimizers.Adam(learning_rate=learning_rate)\n",
    "    model.compile(optimizer=optimizer, loss='binary_crossentropy', metrics=['accuracy'])\n",
    "    return model\n",
    "\n",
    "from sklearn.model_selection import RandomizedSearchCV\n",
    "from sklearn.metrics import make_scorer, accuracy_score\n",
    "import numpy as np\n",
    "\n",
    "# Wrap the model with KerasClassifier\n",
    "model = tf.keras.wrappers.scikit_learn.KerasClassifier(build_fn=build_model, epochs=50, verbose=0)\n",
    "\n",
    "# Define the search space\n",
    "param_distributions = {\n",
    "    'learning_rate': np.logspace(-4, 0, 20),\n",
    "    'batch_size': [16, 32, 64, 128]\n",
    "}\n",
    "\n",
    "# Create RandomizedSearchCV instance\n",
    "random_search = RandomizedSearchCV(estimator=model, param_distributions=param_distributions, \n",
    "                                   n_iter=10, scoring=make_scorer(accuracy_score), cv=3)\n",
    "\n",
    "# Perform the random search (without validation_data in fit method)\n",
    "random_search.fit(X_train_mat, y_train_mat)\n",
    "\n",
    "\n",
    "# Get the best model and its parameters\n",
    "best_model = random_search.best_estimator_\n",
    "best_params = random_search.best_params_\n",
    "\n",
    "print(\"Best parameters:\", best_params)\n",
    "\n",
    "# Evaluate the best model on the test set\n",
    "test_loss, test_acc = best_model.evaluate(X_test_mat, y_test_mat)\n",
    "print(\"Test Accuracy of the best model:\", test_acc)\n"
   ]
  },
  {
   "cell_type": "code",
   "execution_count": 22,
   "id": "5568eb89",
   "metadata": {},
   "outputs": [
    {
     "name": "stdout",
     "output_type": "stream",
     "text": [
      "Found 11367 validated image filenames belonging to 2 classes.\n",
      "Found 2841 validated image filenames belonging to 2 classes.\n",
      "WARNING:tensorflow:From C:\\Users\\ASUS\\anaconda3\\lib\\site-packages\\keras\\src\\backend.py:873: The name tf.get_default_graph is deprecated. Please use tf.compat.v1.get_default_graph instead.\n",
      "\n",
      "WARNING:tensorflow:From C:\\Users\\ASUS\\anaconda3\\lib\\site-packages\\keras\\src\\layers\\pooling\\max_pooling2d.py:161: The name tf.nn.max_pool is deprecated. Please use tf.nn.max_pool2d instead.\n",
      "\n"
     ]
    },
    {
     "name": "stderr",
     "output_type": "stream",
     "text": [
      "WARNING:absl:`lr` is deprecated in Keras optimizer, please use `learning_rate` or use the legacy optimizer, e.g.,tf.keras.optimizers.legacy.Adam.\n"
     ]
    },
    {
     "name": "stdout",
     "output_type": "stream",
     "text": [
      "Epoch 1/10\n",
      "WARNING:tensorflow:From C:\\Users\\ASUS\\anaconda3\\lib\\site-packages\\keras\\src\\utils\\tf_utils.py:492: The name tf.ragged.RaggedTensorValue is deprecated. Please use tf.compat.v1.ragged.RaggedTensorValue instead.\n",
      "\n"
     ]
    },
    {
     "name": "stderr",
     "output_type": "stream",
     "text": [
      "WARNING:tensorflow:From C:\\Users\\ASUS\\anaconda3\\lib\\site-packages\\keras\\src\\utils\\tf_utils.py:492: The name tf.ragged.RaggedTensorValue is deprecated. Please use tf.compat.v1.ragged.RaggedTensorValue instead.\n",
      "\n"
     ]
    },
    {
     "name": "stdout",
     "output_type": "stream",
     "text": [
      "WARNING:tensorflow:From C:\\Users\\ASUS\\anaconda3\\lib\\site-packages\\keras\\src\\engine\\base_layer_utils.py:384: The name tf.executing_eagerly_outside_functions is deprecated. Please use tf.compat.v1.executing_eagerly_outside_functions instead.\n",
      "\n"
     ]
    },
    {
     "name": "stderr",
     "output_type": "stream",
     "text": [
      "WARNING:tensorflow:From C:\\Users\\ASUS\\anaconda3\\lib\\site-packages\\keras\\src\\engine\\base_layer_utils.py:384: The name tf.executing_eagerly_outside_functions is deprecated. Please use tf.compat.v1.executing_eagerly_outside_functions instead.\n",
      "\n"
     ]
    },
    {
     "name": "stdout",
     "output_type": "stream",
     "text": [
      "356/356 - 92s - loss: 0.2083 - accuracy: 0.9182 - val_loss: 0.1152 - val_accuracy: 0.9609 - 92s/epoch - 259ms/step\n",
      "Epoch 2/10\n",
      "356/356 - 87s - loss: 0.1014 - accuracy: 0.9632 - val_loss: 0.0667 - val_accuracy: 0.9729 - 87s/epoch - 244ms/step\n",
      "Epoch 3/10\n",
      "356/356 - 85s - loss: 0.0735 - accuracy: 0.9730 - val_loss: 0.0474 - val_accuracy: 0.9820 - 85s/epoch - 238ms/step\n",
      "Epoch 4/10\n",
      "356/356 - 85s - loss: 0.0670 - accuracy: 0.9762 - val_loss: 0.0997 - val_accuracy: 0.9669 - 85s/epoch - 240ms/step\n",
      "Epoch 5/10\n",
      "356/356 - 81s - loss: 0.0588 - accuracy: 0.9793 - val_loss: 0.0359 - val_accuracy: 0.9866 - 81s/epoch - 228ms/step\n",
      "Epoch 6/10\n",
      "356/356 - 87s - loss: 0.0560 - accuracy: 0.9799 - val_loss: 0.0472 - val_accuracy: 0.9835 - 87s/epoch - 245ms/step\n",
      "Epoch 7/10\n",
      "356/356 - 85s - loss: 0.0532 - accuracy: 0.9816 - val_loss: 0.0384 - val_accuracy: 0.9870 - 85s/epoch - 238ms/step\n",
      "Epoch 8/10\n",
      "356/356 - 1205s - loss: 0.0433 - accuracy: 0.9843 - val_loss: 0.0411 - val_accuracy: 0.9852 - 1205s/epoch - 3s/step\n",
      "Epoch 9/10\n",
      "356/356 - 86s - loss: 0.0413 - accuracy: 0.9852 - val_loss: 0.0321 - val_accuracy: 0.9901 - 86s/epoch - 242ms/step\n",
      "Epoch 10/10\n",
      "356/356 - 85s - loss: 0.0463 - accuracy: 0.9843 - val_loss: 0.0441 - val_accuracy: 0.9838 - 85s/epoch - 239ms/step\n",
      "Trial 1/10: Improved accuracy to 0.9813 with parameters {'learning_rate': 0.0011421052631578948, 'batch_size': 32, 'shear_range': 0.1, 'zoom_range': 0.1, 'rotation_range': 35, 'width_shift_range': 0.1, 'height_shift_range': 0.2}\n",
      "Found 11367 validated image filenames belonging to 2 classes.\n",
      "Found 2841 validated image filenames belonging to 2 classes.\n"
     ]
    },
    {
     "name": "stderr",
     "output_type": "stream",
     "text": [
      "WARNING:absl:`lr` is deprecated in Keras optimizer, please use `learning_rate` or use the legacy optimizer, e.g.,tf.keras.optimizers.legacy.Adam.\n"
     ]
    },
    {
     "name": "stdout",
     "output_type": "stream",
     "text": [
      "Epoch 1/10\n",
      "356/356 - 89s - loss: 0.2588 - accuracy: 0.8924 - val_loss: 0.2124 - val_accuracy: 0.9176 - 89s/epoch - 249ms/step\n",
      "Epoch 2/10\n",
      "356/356 - 87s - loss: 0.1531 - accuracy: 0.9422 - val_loss: 0.1686 - val_accuracy: 0.9412 - 87s/epoch - 245ms/step\n",
      "Epoch 3/10\n",
      "356/356 - 73s - loss: 0.1001 - accuracy: 0.9643 - val_loss: 0.0965 - val_accuracy: 0.9634 - 73s/epoch - 205ms/step\n",
      "Epoch 4/10\n",
      "356/356 - 62s - loss: 0.0874 - accuracy: 0.9692 - val_loss: 0.0630 - val_accuracy: 0.9782 - 62s/epoch - 173ms/step\n",
      "Epoch 5/10\n",
      "356/356 - 1744s - loss: 0.0797 - accuracy: 0.9715 - val_loss: 0.0569 - val_accuracy: 0.9796 - 1744s/epoch - 5s/step\n",
      "Epoch 6/10\n",
      "356/356 - 62s - loss: 0.0663 - accuracy: 0.9751 - val_loss: 0.0636 - val_accuracy: 0.9764 - 62s/epoch - 173ms/step\n",
      "Epoch 7/10\n",
      "356/356 - 61s - loss: 0.0646 - accuracy: 0.9747 - val_loss: 0.0712 - val_accuracy: 0.9697 - 61s/epoch - 171ms/step\n",
      "Epoch 8/10\n",
      "356/356 - 61s - loss: 0.0625 - accuracy: 0.9770 - val_loss: 0.0574 - val_accuracy: 0.9771 - 61s/epoch - 172ms/step\n",
      "Epoch 9/10\n",
      "356/356 - 62s - loss: 0.0729 - accuracy: 0.9753 - val_loss: 0.0518 - val_accuracy: 0.9820 - 62s/epoch - 174ms/step\n",
      "Epoch 10/10\n",
      "356/356 - 1839s - loss: 0.0569 - accuracy: 0.9795 - val_loss: 0.0363 - val_accuracy: 0.9870 - 1839s/epoch - 5s/step\n",
      "Trial 2/10: Improved accuracy to 0.9831 with parameters {'learning_rate': 0.0068736842105263166, 'batch_size': 32, 'shear_range': 0.2, 'zoom_range': 0.3, 'rotation_range': 25, 'width_shift_range': 0.2, 'height_shift_range': 0.2}\n",
      "Found 11367 validated image filenames belonging to 2 classes.\n",
      "Found 2841 validated image filenames belonging to 2 classes.\n"
     ]
    },
    {
     "name": "stderr",
     "output_type": "stream",
     "text": [
      "WARNING:absl:`lr` is deprecated in Keras optimizer, please use `learning_rate` or use the legacy optimizer, e.g.,tf.keras.optimizers.legacy.Adam.\n"
     ]
    },
    {
     "name": "stdout",
     "output_type": "stream",
     "text": [
      "Epoch 1/10\n",
      "356/356 - 49s - loss: 0.2565 - accuracy: 0.8950 - val_loss: 0.1254 - val_accuracy: 0.9556 - 49s/epoch - 139ms/step\n",
      "Epoch 2/10\n",
      "356/356 - 43s - loss: 0.1122 - accuracy: 0.9598 - val_loss: 0.1108 - val_accuracy: 0.9567 - 43s/epoch - 120ms/step\n",
      "Epoch 3/10\n",
      "356/356 - 43s - loss: 0.0877 - accuracy: 0.9687 - val_loss: 0.0586 - val_accuracy: 0.9792 - 43s/epoch - 122ms/step\n",
      "Epoch 4/10\n",
      "356/356 - 45s - loss: 0.0818 - accuracy: 0.9691 - val_loss: 0.0753 - val_accuracy: 0.9701 - 45s/epoch - 125ms/step\n",
      "Epoch 5/10\n",
      "356/356 - 43s - loss: 0.0667 - accuracy: 0.9772 - val_loss: 0.0687 - val_accuracy: 0.9740 - 43s/epoch - 122ms/step\n",
      "Epoch 6/10\n",
      "356/356 - 43s - loss: 0.0635 - accuracy: 0.9784 - val_loss: 0.0873 - val_accuracy: 0.9722 - 43s/epoch - 122ms/step\n",
      "Epoch 7/10\n",
      "356/356 - 48s - loss: 0.0595 - accuracy: 0.9777 - val_loss: 0.0395 - val_accuracy: 0.9856 - 48s/epoch - 135ms/step\n",
      "Epoch 8/10\n",
      "356/356 - 45s - loss: 0.0662 - accuracy: 0.9771 - val_loss: 0.0516 - val_accuracy: 0.9813 - 45s/epoch - 126ms/step\n",
      "Epoch 9/10\n",
      "356/356 - 43s - loss: 0.0547 - accuracy: 0.9815 - val_loss: 0.0659 - val_accuracy: 0.9768 - 43s/epoch - 121ms/step\n",
      "Epoch 10/10\n",
      "356/356 - 44s - loss: 0.0521 - accuracy: 0.9813 - val_loss: 0.0374 - val_accuracy: 0.9859 - 44s/epoch - 124ms/step\n",
      "Trial 3/10: Improved accuracy to 0.9842 with parameters {'learning_rate': 0.0068736842105263166, 'batch_size': 32, 'shear_range': 0.2, 'zoom_range': 0.3, 'rotation_range': 25, 'width_shift_range': 0.2, 'height_shift_range': 0.2}\n",
      "Found 11367 validated image filenames belonging to 2 classes.\n",
      "Found 2841 validated image filenames belonging to 2 classes.\n"
     ]
    },
    {
     "name": "stderr",
     "output_type": "stream",
     "text": [
      "WARNING:absl:`lr` is deprecated in Keras optimizer, please use `learning_rate` or use the legacy optimizer, e.g.,tf.keras.optimizers.legacy.Adam.\n"
     ]
    },
    {
     "name": "stdout",
     "output_type": "stream",
     "text": [
      "Epoch 1/10\n",
      "356/356 - 45s - loss: 0.2610 - accuracy: 0.8875 - val_loss: 0.1357 - val_accuracy: 0.9497 - 45s/epoch - 126ms/step\n",
      "Epoch 2/10\n",
      "356/356 - 44s - loss: 0.1304 - accuracy: 0.9511 - val_loss: 0.0964 - val_accuracy: 0.9599 - 44s/epoch - 125ms/step\n",
      "Epoch 3/10\n",
      "356/356 - 43s - loss: 0.1112 - accuracy: 0.9573 - val_loss: 0.0854 - val_accuracy: 0.9673 - 43s/epoch - 122ms/step\n",
      "Epoch 4/10\n",
      "356/356 - 44s - loss: 0.0971 - accuracy: 0.9655 - val_loss: 0.0982 - val_accuracy: 0.9609 - 44s/epoch - 123ms/step\n",
      "Epoch 5/10\n",
      "356/356 - 44s - loss: 0.0833 - accuracy: 0.9695 - val_loss: 0.1164 - val_accuracy: 0.9542 - 44s/epoch - 123ms/step\n",
      "Epoch 6/10\n",
      "356/356 - 44s - loss: 0.0744 - accuracy: 0.9724 - val_loss: 0.0786 - val_accuracy: 0.9655 - 44s/epoch - 124ms/step\n",
      "Epoch 7/10\n",
      "356/356 - 43s - loss: 0.0713 - accuracy: 0.9742 - val_loss: 0.1212 - val_accuracy: 0.9574 - 43s/epoch - 121ms/step\n",
      "Epoch 8/10\n",
      "356/356 - 43s - loss: 0.0643 - accuracy: 0.9764 - val_loss: 0.0551 - val_accuracy: 0.9789 - 43s/epoch - 122ms/step\n",
      "Epoch 9/10\n",
      "356/356 - 41s - loss: 0.0622 - accuracy: 0.9781 - val_loss: 0.0386 - val_accuracy: 0.9877 - 41s/epoch - 116ms/step\n",
      "Epoch 10/10\n",
      "356/356 - 42s - loss: 0.0649 - accuracy: 0.9785 - val_loss: 0.0665 - val_accuracy: 0.9750 - 42s/epoch - 119ms/step\n",
      "Found 11367 validated image filenames belonging to 2 classes.\n",
      "Found 2841 validated image filenames belonging to 2 classes.\n"
     ]
    },
    {
     "name": "stderr",
     "output_type": "stream",
     "text": [
      "WARNING:absl:`lr` is deprecated in Keras optimizer, please use `learning_rate` or use the legacy optimizer, e.g.,tf.keras.optimizers.legacy.Adam.\n"
     ]
    },
    {
     "name": "stdout",
     "output_type": "stream",
     "text": [
      "Epoch 1/10\n",
      "356/356 - 49s - loss: 0.2284 - accuracy: 0.9038 - val_loss: 0.0959 - val_accuracy: 0.9673 - 49s/epoch - 139ms/step\n",
      "Epoch 2/10\n",
      "356/356 - 49s - loss: 0.0995 - accuracy: 0.9625 - val_loss: 0.0926 - val_accuracy: 0.9616 - 49s/epoch - 138ms/step\n",
      "Epoch 3/10\n",
      "356/356 - 51s - loss: 0.0831 - accuracy: 0.9699 - val_loss: 0.0693 - val_accuracy: 0.9775 - 51s/epoch - 142ms/step\n",
      "Epoch 4/10\n",
      "356/356 - 54s - loss: 0.0795 - accuracy: 0.9711 - val_loss: 0.0656 - val_accuracy: 0.9764 - 54s/epoch - 152ms/step\n",
      "Epoch 5/10\n",
      "356/356 - 56s - loss: 0.0664 - accuracy: 0.9773 - val_loss: 0.0974 - val_accuracy: 0.9659 - 56s/epoch - 156ms/step\n",
      "Epoch 6/10\n",
      "356/356 - 54s - loss: 0.0699 - accuracy: 0.9733 - val_loss: 0.0520 - val_accuracy: 0.9789 - 54s/epoch - 152ms/step\n",
      "Epoch 7/10\n",
      "356/356 - 54s - loss: 0.0588 - accuracy: 0.9815 - val_loss: 0.0411 - val_accuracy: 0.9866 - 54s/epoch - 153ms/step\n",
      "Epoch 8/10\n",
      "356/356 - 55s - loss: 0.0560 - accuracy: 0.9803 - val_loss: 0.0448 - val_accuracy: 0.9873 - 55s/epoch - 154ms/step\n",
      "Epoch 9/10\n",
      "356/356 - 54s - loss: 0.0544 - accuracy: 0.9821 - val_loss: 0.0430 - val_accuracy: 0.9856 - 54s/epoch - 153ms/step\n",
      "Epoch 10/10\n",
      "356/356 - 54s - loss: 0.0676 - accuracy: 0.9755 - val_loss: 0.0478 - val_accuracy: 0.9824 - 54s/epoch - 153ms/step\n",
      "Found 11367 validated image filenames belonging to 2 classes.\n",
      "Found 2841 validated image filenames belonging to 2 classes.\n"
     ]
    },
    {
     "name": "stderr",
     "output_type": "stream",
     "text": [
      "WARNING:absl:`lr` is deprecated in Keras optimizer, please use `learning_rate` or use the legacy optimizer, e.g.,tf.keras.optimizers.legacy.Adam.\n"
     ]
    },
    {
     "name": "stdout",
     "output_type": "stream",
     "text": [
      "Epoch 1/10\n",
      "356/356 - 56s - loss: 0.2247 - accuracy: 0.9089 - val_loss: 0.1261 - val_accuracy: 0.9504 - 56s/epoch - 158ms/step\n",
      "Epoch 2/10\n",
      "356/356 - 51s - loss: 0.1147 - accuracy: 0.9571 - val_loss: 0.1636 - val_accuracy: 0.9437 - 51s/epoch - 143ms/step\n",
      "Epoch 3/10\n",
      "356/356 - 44s - loss: 0.1153 - accuracy: 0.9570 - val_loss: 0.0746 - val_accuracy: 0.9736 - 44s/epoch - 123ms/step\n",
      "Epoch 4/10\n",
      "356/356 - 44s - loss: 0.0788 - accuracy: 0.9712 - val_loss: 0.0675 - val_accuracy: 0.9768 - 44s/epoch - 124ms/step\n",
      "Epoch 5/10\n",
      "356/356 - 46s - loss: 0.0640 - accuracy: 0.9764 - val_loss: 0.0972 - val_accuracy: 0.9725 - 46s/epoch - 128ms/step\n",
      "Epoch 6/10\n",
      "356/356 - 55s - loss: 0.0689 - accuracy: 0.9744 - val_loss: 0.0511 - val_accuracy: 0.9831 - 55s/epoch - 154ms/step\n",
      "Epoch 7/10\n",
      "356/356 - 57s - loss: 0.0606 - accuracy: 0.9786 - val_loss: 0.0597 - val_accuracy: 0.9771 - 57s/epoch - 159ms/step\n",
      "Epoch 8/10\n",
      "356/356 - 59s - loss: 0.0618 - accuracy: 0.9782 - val_loss: 0.0341 - val_accuracy: 0.9891 - 59s/epoch - 167ms/step\n",
      "Epoch 9/10\n",
      "356/356 - 55s - loss: 0.0497 - accuracy: 0.9835 - val_loss: 0.0456 - val_accuracy: 0.9810 - 55s/epoch - 155ms/step\n",
      "Epoch 10/10\n",
      "356/356 - 53s - loss: 0.0577 - accuracy: 0.9806 - val_loss: 0.0400 - val_accuracy: 0.9856 - 53s/epoch - 150ms/step\n",
      "Found 11367 validated image filenames belonging to 2 classes.\n",
      "Found 2841 validated image filenames belonging to 2 classes.\n"
     ]
    },
    {
     "name": "stderr",
     "output_type": "stream",
     "text": [
      "WARNING:absl:`lr` is deprecated in Keras optimizer, please use `learning_rate` or use the legacy optimizer, e.g.,tf.keras.optimizers.legacy.Adam.\n"
     ]
    },
    {
     "name": "stdout",
     "output_type": "stream",
     "text": [
      "Epoch 1/10\n",
      "356/356 - 57s - loss: 0.2678 - accuracy: 0.8788 - val_loss: 0.1604 - val_accuracy: 0.9345 - 57s/epoch - 160ms/step\n",
      "Epoch 2/10\n",
      "356/356 - 56s - loss: 0.1096 - accuracy: 0.9582 - val_loss: 0.0942 - val_accuracy: 0.9662 - 56s/epoch - 158ms/step\n",
      "Epoch 3/10\n",
      "356/356 - 56s - loss: 0.0915 - accuracy: 0.9661 - val_loss: 0.0828 - val_accuracy: 0.9687 - 56s/epoch - 157ms/step\n",
      "Epoch 4/10\n",
      "356/356 - 56s - loss: 0.0964 - accuracy: 0.9657 - val_loss: 0.0861 - val_accuracy: 0.9673 - 56s/epoch - 156ms/step\n",
      "Epoch 5/10\n",
      "356/356 - 55s - loss: 0.0734 - accuracy: 0.9755 - val_loss: 0.0598 - val_accuracy: 0.9799 - 55s/epoch - 154ms/step\n",
      "Epoch 6/10\n",
      "356/356 - 57s - loss: 0.0704 - accuracy: 0.9744 - val_loss: 0.0615 - val_accuracy: 0.9778 - 57s/epoch - 160ms/step\n",
      "Epoch 7/10\n",
      "356/356 - 55s - loss: 0.0626 - accuracy: 0.9797 - val_loss: 0.0639 - val_accuracy: 0.9820 - 55s/epoch - 155ms/step\n",
      "Epoch 8/10\n",
      "356/356 - 57s - loss: 0.0553 - accuracy: 0.9802 - val_loss: 0.0354 - val_accuracy: 0.9866 - 57s/epoch - 161ms/step\n",
      "Epoch 9/10\n",
      "356/356 - 55s - loss: 0.0581 - accuracy: 0.9786 - val_loss: 0.0439 - val_accuracy: 0.9820 - 55s/epoch - 155ms/step\n",
      "Epoch 10/10\n",
      "356/356 - 46s - loss: 0.0594 - accuracy: 0.9794 - val_loss: 0.0472 - val_accuracy: 0.9838 - 46s/epoch - 128ms/step\n",
      "Found 11367 validated image filenames belonging to 2 classes.\n",
      "Found 2841 validated image filenames belonging to 2 classes.\n"
     ]
    },
    {
     "name": "stderr",
     "output_type": "stream",
     "text": [
      "WARNING:absl:`lr` is deprecated in Keras optimizer, please use `learning_rate` or use the legacy optimizer, e.g.,tf.keras.optimizers.legacy.Adam.\n"
     ]
    },
    {
     "name": "stdout",
     "output_type": "stream",
     "text": [
      "Epoch 1/10\n",
      "356/356 - 50s - loss: 0.2509 - accuracy: 0.8933 - val_loss: 0.2469 - val_accuracy: 0.9117 - 50s/epoch - 139ms/step\n",
      "Epoch 2/10\n",
      "356/356 - 52s - loss: 0.1171 - accuracy: 0.9587 - val_loss: 0.0702 - val_accuracy: 0.9701 - 52s/epoch - 145ms/step\n",
      "Epoch 3/10\n",
      "356/356 - 54s - loss: 0.0941 - accuracy: 0.9643 - val_loss: 0.1373 - val_accuracy: 0.9398 - 54s/epoch - 152ms/step\n",
      "Epoch 4/10\n",
      "356/356 - 54s - loss: 0.0768 - accuracy: 0.9732 - val_loss: 0.0705 - val_accuracy: 0.9778 - 54s/epoch - 151ms/step\n",
      "Epoch 5/10\n",
      "356/356 - 53s - loss: 0.0798 - accuracy: 0.9711 - val_loss: 0.0563 - val_accuracy: 0.9813 - 53s/epoch - 149ms/step\n",
      "Epoch 6/10\n",
      "356/356 - 54s - loss: 0.0603 - accuracy: 0.9792 - val_loss: 0.0602 - val_accuracy: 0.9754 - 54s/epoch - 152ms/step\n",
      "Epoch 7/10\n",
      "356/356 - 54s - loss: 0.0549 - accuracy: 0.9798 - val_loss: 0.0538 - val_accuracy: 0.9817 - 54s/epoch - 151ms/step\n",
      "Epoch 8/10\n",
      "356/356 - 55s - loss: 0.0813 - accuracy: 0.9713 - val_loss: 0.0453 - val_accuracy: 0.9863 - 55s/epoch - 154ms/step\n",
      "Epoch 9/10\n",
      "356/356 - 54s - loss: 0.0564 - accuracy: 0.9810 - val_loss: 0.0439 - val_accuracy: 0.9866 - 54s/epoch - 153ms/step\n",
      "Epoch 10/10\n",
      "356/356 - 54s - loss: 0.0466 - accuracy: 0.9839 - val_loss: 0.0521 - val_accuracy: 0.9842 - 54s/epoch - 151ms/step\n",
      "Found 11367 validated image filenames belonging to 2 classes.\n",
      "Found 2841 validated image filenames belonging to 2 classes.\n"
     ]
    },
    {
     "name": "stderr",
     "output_type": "stream",
     "text": [
      "WARNING:absl:`lr` is deprecated in Keras optimizer, please use `learning_rate` or use the legacy optimizer, e.g.,tf.keras.optimizers.legacy.Adam.\n"
     ]
    },
    {
     "name": "stdout",
     "output_type": "stream",
     "text": [
      "Epoch 1/10\n",
      "356/356 - 55s - loss: 0.2494 - accuracy: 0.8990 - val_loss: 0.1596 - val_accuracy: 0.9483 - 55s/epoch - 153ms/step\n",
      "Epoch 2/10\n",
      "356/356 - 53s - loss: 0.1131 - accuracy: 0.9571 - val_loss: 0.0690 - val_accuracy: 0.9736 - 53s/epoch - 148ms/step\n",
      "Epoch 3/10\n",
      "356/356 - 53s - loss: 0.0862 - accuracy: 0.9690 - val_loss: 0.0854 - val_accuracy: 0.9662 - 53s/epoch - 148ms/step\n",
      "Epoch 4/10\n",
      "356/356 - 53s - loss: 0.0967 - accuracy: 0.9641 - val_loss: 0.0648 - val_accuracy: 0.9747 - 53s/epoch - 150ms/step\n",
      "Epoch 5/10\n",
      "356/356 - 54s - loss: 0.0676 - accuracy: 0.9762 - val_loss: 0.0518 - val_accuracy: 0.9817 - 54s/epoch - 151ms/step\n",
      "Epoch 6/10\n",
      "356/356 - 53s - loss: 0.0648 - accuracy: 0.9767 - val_loss: 0.0452 - val_accuracy: 0.9835 - 53s/epoch - 149ms/step\n",
      "Epoch 7/10\n",
      "356/356 - 53s - loss: 0.0658 - accuracy: 0.9760 - val_loss: 0.0597 - val_accuracy: 0.9796 - 53s/epoch - 148ms/step\n",
      "Epoch 8/10\n",
      "356/356 - 53s - loss: 0.0505 - accuracy: 0.9821 - val_loss: 0.0368 - val_accuracy: 0.9891 - 53s/epoch - 150ms/step\n",
      "Epoch 9/10\n",
      "356/356 - 53s - loss: 0.0623 - accuracy: 0.9784 - val_loss: 0.0653 - val_accuracy: 0.9729 - 53s/epoch - 150ms/step\n",
      "Epoch 10/10\n",
      "356/356 - 55s - loss: 0.0662 - accuracy: 0.9772 - val_loss: 0.0405 - val_accuracy: 0.9856 - 55s/epoch - 153ms/step\n",
      "Found 11367 validated image filenames belonging to 2 classes.\n",
      "Found 2841 validated image filenames belonging to 2 classes.\n"
     ]
    },
    {
     "name": "stderr",
     "output_type": "stream",
     "text": [
      "WARNING:absl:`lr` is deprecated in Keras optimizer, please use `learning_rate` or use the legacy optimizer, e.g.,tf.keras.optimizers.legacy.Adam.\n"
     ]
    },
    {
     "name": "stdout",
     "output_type": "stream",
     "text": [
      "Epoch 1/10\n",
      "356/356 - 56s - loss: 0.2924 - accuracy: 0.8767 - val_loss: 0.1336 - val_accuracy: 0.9493 - 56s/epoch - 156ms/step\n",
      "Epoch 2/10\n",
      "356/356 - 56s - loss: 0.1123 - accuracy: 0.9591 - val_loss: 0.0930 - val_accuracy: 0.9637 - 56s/epoch - 157ms/step\n",
      "Epoch 3/10\n",
      "356/356 - 54s - loss: 0.0767 - accuracy: 0.9726 - val_loss: 0.0798 - val_accuracy: 0.9704 - 54s/epoch - 151ms/step\n",
      "Epoch 4/10\n",
      "356/356 - 53s - loss: 0.0734 - accuracy: 0.9747 - val_loss: 0.0591 - val_accuracy: 0.9803 - 53s/epoch - 150ms/step\n",
      "Epoch 5/10\n",
      "356/356 - 48s - loss: 0.0760 - accuracy: 0.9721 - val_loss: 0.0504 - val_accuracy: 0.9813 - 48s/epoch - 136ms/step\n",
      "Epoch 6/10\n",
      "356/356 - 44s - loss: 0.0652 - accuracy: 0.9770 - val_loss: 0.0469 - val_accuracy: 0.9852 - 44s/epoch - 123ms/step\n",
      "Epoch 7/10\n",
      "356/356 - 44s - loss: 0.0601 - accuracy: 0.9795 - val_loss: 0.0612 - val_accuracy: 0.9771 - 44s/epoch - 123ms/step\n",
      "Epoch 8/10\n",
      "356/356 - 44s - loss: 0.0518 - accuracy: 0.9823 - val_loss: 0.0349 - val_accuracy: 0.9887 - 44s/epoch - 123ms/step\n",
      "Epoch 9/10\n",
      "356/356 - 44s - loss: 0.0553 - accuracy: 0.9813 - val_loss: 0.0437 - val_accuracy: 0.9856 - 44s/epoch - 123ms/step\n",
      "Epoch 10/10\n",
      "356/356 - 45s - loss: 0.0582 - accuracy: 0.9787 - val_loss: 0.0519 - val_accuracy: 0.9806 - 45s/epoch - 126ms/step\n",
      "Best parameters: {'learning_rate': 0.0068736842105263166, 'batch_size': 32, 'shear_range': 0.2, 'zoom_range': 0.3, 'rotation_range': 25, 'width_shift_range': 0.2, 'height_shift_range': 0.2}, Best accuracy: 0.9841604828834534\n"
     ]
    }
   ],
   "source": [
    "import numpy as np\n",
    "import tensorflow as tf\n",
    "from tensorflow.keras.preprocessing.image import ImageDataGenerator\n",
    "from tensorflow.keras.models import Sequential\n",
    "from tensorflow.keras.layers import Conv2D, MaxPool2D, Flatten, Dense, Dropout\n",
    "from tensorflow.keras.optimizers import Adam\n",
    "\n",
    "# Function to create model\n",
    "def create_model(learning_rate=0.001):\n",
    "    model = Sequential([\n",
    "        Conv2D(filters=32, kernel_size=(3,3), padding='Same', activation='relu', input_shape=(64,64,3)),\n",
    "        MaxPool2D(pool_size=(2,2)),\n",
    "        Conv2D(filters=64, kernel_size=(3,3), padding='Same', activation='relu'),\n",
    "        MaxPool2D(pool_size=(2,2)),\n",
    "        Flatten(),\n",
    "        Dense(512, activation=\"relu\"),\n",
    "        Dropout(0.2),\n",
    "        Dense(256, activation=\"relu\"),\n",
    "        Dropout(0.2),\n",
    "        Dense(64, activation=\"relu\"),\n",
    "        Dense(2, activation=\"softmax\")\n",
    "    ])\n",
    "\n",
    "    optimizer = Adam(lr=learning_rate)\n",
    "    model.compile(optimizer=optimizer, loss='categorical_crossentropy', metrics=['accuracy'])\n",
    "    return model\n",
    "\n",
    "# Hyperparameter ranges\n",
    "learning_rate_range = np.linspace(0.0001, 0.01, 20)\n",
    "batch_size_options = [16, 32, 64, 128]\n",
    "shear_range_options = [0.1, 0.2, 0.3]\n",
    "zoom_range_options = [0.1, 0.2, 0.3]\n",
    "rotation_range_options = [15, 25, 35]\n",
    "width_shift_range_options = [0.1, 0.2, 0.3]\n",
    "height_shift_range_options = [0.1, 0.2, 0.3]\n",
    "\n",
    "num_trials = 10\n",
    "best_accuracy = 0\n",
    "best_params = {}\n",
    "\n",
    "# Assuming X_train and X_test are your datasets, set up appropriately\n",
    "# ...\n",
    "\n",
    "for trial in range(num_trials):\n",
    "    # Randomly pick hyperparameters from the ranges\n",
    "    learning_rate = np.random.choice(learning_rate_range)\n",
    "    batch_size = np.random.choice(batch_size_options)\n",
    "    shear_range = np.random.choice(shear_range_options)\n",
    "    zoom_range = np.random.choice(zoom_range_options)\n",
    "    rotation_range = np.random.choice(rotation_range_options)\n",
    "    width_shift_range = np.random.choice(width_shift_range_options)\n",
    "    height_shift_range = np.random.choice(height_shift_range_options)\n",
    "\n",
    "    # Create ImageDataGenerator with the chosen parameters\n",
    "    train_datagen = ImageDataGenerator(\n",
    "        rescale=1./255,\n",
    "        shear_range=shear_range,\n",
    "        zoom_range=zoom_range,\n",
    "        rotation_range=rotation_range,\n",
    "        width_shift_range=width_shift_range,\n",
    "        height_shift_range=height_shift_range,\n",
    "        horizontal_flip=True,\n",
    "        validation_split=0.2\n",
    "    )\n",
    "\n",
    "    test_datagen = ImageDataGenerator(rescale=1./255)\n",
    "\n",
    "    # Set up your data generators as before\n",
    "    train_generator = train_datagen.flow_from_dataframe(\n",
    "        dataframe=X_train,\n",
    "        x_col=\"image\",\n",
    "        y_col=\"label\",\n",
    "        target_size=(64, 64),\n",
    "        color_mode=\"rgb\",\n",
    "        class_mode=\"categorical\",\n",
    "        batch_size=batch_size,\n",
    "        shuffle=True,\n",
    "        seed=2,\n",
    "        subset=\"training\")\n",
    "\n",
    "    validation_generator = train_datagen.flow_from_dataframe(\n",
    "        dataframe=X_train,\n",
    "        x_col=\"image\",\n",
    "        y_col=\"label\",\n",
    "        target_size=(64, 64),\n",
    "        color_mode=\"rgb\",\n",
    "        class_mode=\"categorical\",\n",
    "        batch_size=batch_size,\n",
    "        shuffle=True,\n",
    "        seed=2,\n",
    "        subset=\"validation\")\n",
    "\n",
    "    # Create and compile a new model with the chosen learning rate\n",
    "    model = create_model(learning_rate)\n",
    "\n",
    "    # Train the model using the train generator with the chosen batch size\n",
    "    model.fit(train_generator, epochs=10, validation_data=validation_generator, verbose=2)\n",
    "\n",
    "    # Evaluate the model using the validation generator\n",
    "    loss, accuracy = model.evaluate(validation_generator, verbose=0)\n",
    "\n",
    "    # Update the best hyperparameters if the current model is better\n",
    "    if accuracy > best_accuracy:\n",
    "        best_accuracy = accuracy\n",
    "        best_params = {\n",
    "            'learning_rate': learning_rate,\n",
    "            'batch_size': batch_size,\n",
    "            'shear_range': shear_range,\n",
    "            'zoom_range': zoom_range,\n",
    "            'rotation_range': rotation_range,\n",
    "            'width_shift_range': width_shift_range,\n",
    "            'height_shift_range': height_shift_range\n",
    "        }\n",
    "        print(f\"Trial {trial+1}/{num_trials}: Improved accuracy to {best_accuracy:.4f} with parameters {best_params}\")\n",
    "\n",
    "print(f\"Best parameters: {best_params}, Best accuracy: {best_accuracy}\")\n"
   ]
  },
  {
   "cell_type": "code",
   "execution_count": 28,
   "id": "1436eb1a",
   "metadata": {},
   "outputs": [
    {
     "name": "stdout",
     "output_type": "stream",
     "text": [
      "Found 11367 validated image filenames belonging to 2 classes.\n",
      "Found 2841 validated image filenames belonging to 2 classes.\n",
      "Found 3552 validated image filenames belonging to 2 classes.\n"
     ]
    }
   ],
   "source": [
    "training_set = train_datagen.flow_from_dataframe(\n",
    "    dataframe = X_train,\n",
    "    x_col = \"image\",\n",
    "    y_col = \"label\",\n",
    "    target_size = (64, 64),\n",
    "    color_mode = \"rgb\",\n",
    "    class_mode = \"categorical\",\n",
    "    batch_size = 32,\n",
    "    shuffle = True,\n",
    "    seed = 2,\n",
    "    subset = \"training\")\n",
    "\n",
    "validation_set = train_datagen.flow_from_dataframe(\n",
    "    dataframe = X_train,\n",
    "    x_col = \"image\",\n",
    "    y_col = \"label\",\n",
    "    target_size = (64, 64),\n",
    "    color_mode =\"rgb\",\n",
    "    class_mode = \"categorical\",\n",
    "    batch_size = 32,\n",
    "    shuffle = True,\n",
    "    seed = 2,\n",
    "    subset = \"validation\")\n",
    "\n",
    "test_set = test_datagen.flow_from_dataframe(\n",
    "    dataframe = X_final_test,\n",
    "    x_col = \"image\",\n",
    "    y_col = \"label\",\n",
    "    target_size = (64, 64),\n",
    "    color_mode =\"rgb\",\n",
    "    class_mode = \"categorical\",\n",
    "    shuffle = False,\n",
    "    batch_size = 32)"
   ]
  },
  {
   "cell_type": "code",
   "execution_count": 99,
   "id": "91dea706",
   "metadata": {},
   "outputs": [],
   "source": [
    "model = Sequential()\n",
    "model.add(Conv2D(filters = 32, kernel_size = (3,3),padding = 'Same', \n",
    "                 activation ='relu', input_shape = (64,64,3)))\n",
    "model.add(MaxPool2D(pool_size=(2,2)))\n",
    "model.add(Conv2D(filters = 64, kernel_size = (3,3),padding = 'Same', \n",
    "                 activation ='relu'))\n",
    "model.add(MaxPool2D(pool_size=(2,2)))\n",
    "model.add(Conv2D(filters = 128, kernel_size = (3,3),padding = 'Same', \n",
    "                 activation ='relu'))\n",
    "model.add(MaxPool2D(pool_size=(2,2)))\n",
    "model.add(Conv2D(filters = 512, kernel_size = (3,3),padding = 'Same', \n",
    "                 activation ='relu'))\n",
    "model.add(MaxPool2D(pool_size=(2,2)))\n",
    "model.add(Conv2D(filters = 512, kernel_size = (3,3),padding = 'Same', \n",
    "                 activation ='relu'))\n",
    "model.add(MaxPool2D(pool_size=(2,2)))\n",
    "model.add(Flatten())\n",
    "model.add(Dense(512, activation = \"relu\"))\n",
    "model.add(Dropout(0.2))\n",
    "model.add(Dense(256, activation = \"relu\"))\n",
    "model.add(Dropout(0.2))\n",
    "model.add(Dense(64, activation = \"relu\"))\n",
    "model.add(Dense(2, activation = \"softmax\"))"
   ]
  },
  {
   "cell_type": "code",
   "execution_count": 100,
   "id": "d74f31b7",
   "metadata": {},
   "outputs": [],
   "source": [
    "model.compile(optimizer = 'adam', loss= \"categorical_crossentropy\", metrics=[\"acc\"])"
   ]
  },
  {
   "cell_type": "code",
   "execution_count": 101,
   "id": "57cab079",
   "metadata": {},
   "outputs": [],
   "source": [
    "from tensorflow.keras.callbacks import EarlyStopping\n",
    "early_stopping = EarlyStopping(monitor='val_loss', patience=1, verbose=1)"
   ]
  },
  {
   "cell_type": "code",
   "execution_count": 102,
   "id": "b517c646",
   "metadata": {},
   "outputs": [
    {
     "name": "stdout",
     "output_type": "stream",
     "text": [
      "Epoch 1/10\n",
      "356/356 [==============================] - 60s 166ms/step - loss: 0.2516 - acc: 0.8906 - val_loss: 0.1172 - val_acc: 0.9539\n",
      "Epoch 2/10\n",
      "356/356 [==============================] - 59s 165ms/step - loss: 0.1043 - acc: 0.9629 - val_loss: 0.0999 - val_acc: 0.9676\n",
      "Epoch 3/10\n",
      "356/356 [==============================] - 60s 169ms/step - loss: 0.0665 - acc: 0.9770 - val_loss: 0.0637 - val_acc: 0.9799\n",
      "Epoch 4/10\n",
      "356/356 [==============================] - 60s 167ms/step - loss: 0.0613 - acc: 0.9792 - val_loss: 0.0368 - val_acc: 0.9880\n",
      "Epoch 5/10\n",
      "356/356 [==============================] - 60s 169ms/step - loss: 0.0532 - acc: 0.9842 - val_loss: 0.0277 - val_acc: 0.9901\n",
      "Epoch 6/10\n",
      "356/356 [==============================] - 60s 169ms/step - loss: 0.0325 - acc: 0.9885 - val_loss: 0.0350 - val_acc: 0.9884\n",
      "Epoch 6: early stopping\n"
     ]
    }
   ],
   "source": [
    "history = model.fit(training_set, epochs=10,validation_data = validation_set, callbacks=[early_stopping],batch_size=32)"
   ]
  },
  {
   "cell_type": "code",
   "execution_count": 103,
   "id": "214b6ca9",
   "metadata": {},
   "outputs": [
    {
     "name": "stdout",
     "output_type": "stream",
     "text": [
      "111/111 [==============================] - 6s 57ms/step - loss: 0.0266 - acc: 0.9896\n"
     ]
    }
   ],
   "source": [
    "test_score = model.evaluate(test_set)"
   ]
  },
  {
   "cell_type": "code",
   "execution_count": 104,
   "id": "12ad2749",
   "metadata": {},
   "outputs": [
    {
     "name": "stdout",
     "output_type": "stream",
     "text": [
      "Test Score:0.9895833134651184\n",
      "Test Loss:0.026605362072587013\n"
     ]
    }
   ],
   "source": [
    "print(f'Test Score:{test_score[1]}')\n",
    "print(f'Test Loss:{test_score[0]}')"
   ]
  },
  {
   "cell_type": "code",
   "execution_count": 32,
   "id": "c6380b2d",
   "metadata": {},
   "outputs": [
    {
     "name": "stdout",
     "output_type": "stream",
     "text": [
      "Found 11367 validated image filenames belonging to 2 classes.\n",
      "Found 2841 validated image filenames belonging to 2 classes.\n"
     ]
    },
    {
     "name": "stderr",
     "output_type": "stream",
     "text": [
      "WARNING:absl:`lr` is deprecated in Keras optimizer, please use `learning_rate` or use the legacy optimizer, e.g.,tf.keras.optimizers.legacy.Adam.\n"
     ]
    },
    {
     "name": "stdout",
     "output_type": "stream",
     "text": [
      "Epoch 1/10\n",
      "285/285 - 32s - loss: 0.2501 - accuracy: 0.8904 - val_loss: 0.1202 - val_accuracy: 0.9507 - 32s/epoch - 113ms/step\n",
      "Epoch 2/10\n",
      "285/285 - 34s - loss: 0.0874 - accuracy: 0.9691 - val_loss: 0.0441 - val_accuracy: 0.9859 - 34s/epoch - 120ms/step\n",
      "Epoch 3/10\n",
      "285/285 - 35s - loss: 0.0569 - accuracy: 0.9804 - val_loss: 0.0345 - val_accuracy: 0.9901 - 35s/epoch - 122ms/step\n",
      "Epoch 4/10\n",
      "285/285 - 36s - loss: 0.0466 - accuracy: 0.9840 - val_loss: 0.0504 - val_accuracy: 0.9792 - 36s/epoch - 125ms/step\n",
      "Epoch 5/10\n",
      "285/285 - 36s - loss: 0.0400 - accuracy: 0.9861 - val_loss: 0.0341 - val_accuracy: 0.9894 - 36s/epoch - 126ms/step\n",
      "Epoch 6/10\n",
      "285/285 - 37s - loss: 0.0393 - accuracy: 0.9867 - val_loss: 0.0259 - val_accuracy: 0.9916 - 37s/epoch - 130ms/step\n",
      "Epoch 7/10\n",
      "285/285 - 37s - loss: 0.0397 - accuracy: 0.9858 - val_loss: 0.0232 - val_accuracy: 0.9930 - 37s/epoch - 131ms/step\n",
      "Epoch 8/10\n",
      "285/285 - 38s - loss: 0.0340 - accuracy: 0.9872 - val_loss: 0.0207 - val_accuracy: 0.9912 - 38s/epoch - 134ms/step\n",
      "Epoch 9/10\n",
      "285/285 - 40s - loss: 0.0304 - accuracy: 0.9900 - val_loss: 0.0221 - val_accuracy: 0.9933 - 40s/epoch - 139ms/step\n",
      "Epoch 10/10\n",
      "285/285 - 41s - loss: 0.0384 - accuracy: 0.9868 - val_loss: 0.0234 - val_accuracy: 0.9926 - 41s/epoch - 143ms/step\n",
      "Loss: {}, accuracy: 0.9926082491874695\n"
     ]
    }
   ],
   "source": [
    "import numpy as np\n",
    "import tensorflow as tf\n",
    "from tensorflow.keras.preprocessing.image import ImageDataGenerator\n",
    "from tensorflow.keras.models import Sequential\n",
    "from tensorflow.keras.layers import Conv2D, MaxPool2D, Flatten, Dense, Dropout\n",
    "from tensorflow.keras.optimizers import Adam\n",
    "\n",
    "# Function to create model\n",
    "def create_model(learning_rate=0.001):\n",
    "    model = Sequential([\n",
    "        Conv2D(filters=32, kernel_size=(3,3), padding='Same', activation='relu', input_shape=(64,64,3)),\n",
    "        MaxPool2D(pool_size=(2,2)),\n",
    "        Conv2D(filters=64, kernel_size=(3,3), padding='Same', activation='relu'),\n",
    "        MaxPool2D(pool_size=(2,2)),\n",
    "        Flatten(),\n",
    "        Dense(512, activation=\"relu\"),\n",
    "        Dropout(0.2),\n",
    "        Dense(256, activation=\"relu\"),\n",
    "        Dropout(0.2),\n",
    "        Dense(64, activation=\"relu\"),\n",
    "        Dense(2, activation=\"softmax\")\n",
    "    ])\n",
    "\n",
    "    optimizer = Adam(lr=learning_rate)\n",
    "    model.compile(optimizer=optimizer, loss='categorical_crossentropy', metrics=['accuracy'])\n",
    "    return model\n",
    "\n",
    "# Hyperparameter ranges\n",
    "\n",
    "num_trials = 10\n",
    "best_accuracy = 0\n",
    "best_params = {}\n",
    "\n",
    "# Assuming X_train and X_test are your datasets, set up appropriately\n",
    "# ...\n",
    "\n",
    "train_datagen = ImageDataGenerator(rescale = 1./255,\n",
    "                                    shear_range = 0.2,\n",
    "                                    zoom_range = 0.1,\n",
    "                                    rotation_range = 25,\n",
    "                                    width_shift_range = 0.1,\n",
    "                                    height_shift_range = 0.1,\n",
    "                                    horizontal_flip = True,\n",
    "                                    validation_split = 0.2)\n",
    "\n",
    "test_datagen = ImageDataGenerator(rescale = 1./255)\n",
    "    \n",
    "\n",
    "\n",
    "\n",
    "    # Set up your data generators as before\n",
    "train_generator = train_datagen.flow_from_dataframe(\n",
    "    dataframe=X_train,\n",
    "    x_col=\"image\",\n",
    "    y_col=\"label\",\n",
    "    target_size=(64, 64),\n",
    "    color_mode=\"rgb\",\n",
    "    class_mode=\"categorical\",\n",
    "    batch_size=40,\n",
    "    shuffle=True,\n",
    "    seed=2,\n",
    "    subset=\"training\")\n",
    "\n",
    "validation_generator = train_datagen.flow_from_dataframe(\n",
    "    dataframe=X_train,\n",
    "    x_col=\"image\",\n",
    "    y_col=\"label\",\n",
    "    target_size=(64, 64),\n",
    "    color_mode=\"rgb\",\n",
    "    class_mode=\"categorical\",\n",
    "    batch_size=40,\n",
    "    shuffle=True,\n",
    "    seed=2,\n",
    "    subset=\"validation\")\n",
    "\n",
    "    # Create and compile a new model with the chosen learning rate\n",
    "model = create_model(0.001)\n",
    "\n",
    "    # Train the model using the train generator with the chosen batch size\n",
    "model.fit(train_generator, epochs=10, validation_data=validation_generator, verbose=2)\n",
    "\n",
    "    # Evaluate the model using the validation generator\n",
    "loss, accuracy = model.evaluate(validation_generator, verbose=0)\n",
    "\n",
    "    # Update the best hyperparameters if the current model is better\n",
    "\n",
    "print(f\"Loss: {best_params}, accuracy: {accuracy}\")\n"
   ]
  },
  {
   "cell_type": "code",
   "execution_count": 33,
   "id": "ee1267b1-d6f5-43fc-8b1e-d91690dfef4b",
   "metadata": {},
   "outputs": [
    {
     "name": "stdout",
     "output_type": "stream",
     "text": [
      "Accuracy: [0.02831442281603813, 0.991272509098053]\n"
     ]
    }
   ],
   "source": [
    "accuracy = model.evaluate(test_set, verbose=0)\n",
    "print(f\"Accuracy: {accuracy}\")"
   ]
  },
  {
   "cell_type": "code",
   "execution_count": null,
   "id": "26116594-2cbd-46e5-8a9b-663465be305c",
   "metadata": {},
   "outputs": [],
   "source": []
  },
  {
   "cell_type": "code",
   "execution_count": null,
   "id": "ac302fad-8bed-4514-aee0-1c4bfd9deab0",
   "metadata": {},
   "outputs": [],
   "source": []
  },
  {
   "cell_type": "code",
   "execution_count": null,
   "id": "c7ddf486-3105-4845-8c04-771d5b4d4772",
   "metadata": {},
   "outputs": [],
   "source": []
  }
 ],
 "metadata": {
  "kernelspec": {
   "display_name": "Python 3 (ipykernel)",
   "language": "python",
   "name": "python3"
  },
  "language_info": {
   "codemirror_mode": {
    "name": "ipython",
    "version": 3
   },
   "file_extension": ".py",
   "mimetype": "text/x-python",
   "name": "python",
   "nbconvert_exporter": "python",
   "pygments_lexer": "ipython3",
   "version": "3.9.12"
  }
 },
 "nbformat": 4,
 "nbformat_minor": 5
}
