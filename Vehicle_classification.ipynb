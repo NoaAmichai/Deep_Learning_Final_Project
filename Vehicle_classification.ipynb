{
 "cells": [
  {
   "cell_type": "code",
   "execution_count": 1,
   "id": "ce730d0a",
   "metadata": {},
   "outputs": [
    {
     "name": "stdout",
     "output_type": "stream",
     "text": [
      "WARNING:tensorflow:From D:\\Anaconda\\Lib\\site-packages\\keras\\src\\losses.py:2976: The name tf.losses.sparse_softmax_cross_entropy is deprecated. Please use tf.compat.v1.losses.sparse_softmax_cross_entropy instead.\n",
      "\n"
     ]
    }
   ],
   "source": [
    "import os\n",
    "import glob\n",
    "import cv2\n",
    "import pandas as pd\n",
    "import matplotlib.pyplot as plt\n",
    "import numpy as np\n",
    "import tensorflow as tf\n",
    "from PIL import Image\n",
    "from sklearn.model_selection import train_test_split\n",
    "from tensorflow.keras.preprocessing.image import ImageDataGenerator\n",
    "from tensorflow.keras.models import Sequential\n",
    "from tensorflow.keras.layers import Dense, Flatten, Conv2D, MaxPool2D, Dropout\n",
    "from sklearn.metrics import confusion_matrix, classification_report,ConfusionMatrixDisplay\n",
    "%matplotlib inline\n",
    "import seaborn as sns\n",
    "import warnings\n",
    "warnings.filterwarnings('ignore')\n",
    "from tqdm import tqdm\n",
    "from numpy import asarray\n",
    "np.set_printoptions(precision=5)#show 5 number after decimal point \n",
    "\n",
    "from sklearn.decomposition import PCA\n",
    "from sklearn.pipeline import Pipeline\n",
    "from sklearn.cluster import KMeans\n",
    "from sklearn.linear_model import LogisticRegression\n",
    "from sklearn.dummy import DummyClassifier\n",
    "\n",
    "from sklearn import metrics\n",
    "from sklearn.metrics import accuracy_score, precision_score, recall_score\n",
    "from tensorflow.keras.optimizers import Adam"
   ]
  },
  {
   "cell_type": "code",
   "execution_count": 2,
   "id": "4c415e3b",
   "metadata": {},
   "outputs": [],
   "source": [
    "base_dir = r\"data\"  # Define your base directory\n",
    "label = []       # Labels for each category\n",
    "images_path = [] # Paths of all images\n",
    "all_images = []  # Names of all images\n",
    "img_label = []   # Labels corresponding to each image\n",
    "\n",
    "for directory in os.listdir(base_dir):\n",
    "    if os.path.isdir(os.path.join(base_dir, directory)):\n",
    "        label.append(directory)\n",
    "        # Using glob to find all jpg, jpeg, and png files\n",
    "        for img_path in glob.glob(os.path.join(base_dir, directory, '*.jpg')) + \\\n",
    "                        glob.glob(os.path.join(base_dir, directory, '*.jpeg')) + \\\n",
    "                        glob.glob(os.path.join(base_dir, directory, '*.png')):\n",
    "            img_name = os.path.basename(img_path)\n",
    "            all_images.append(img_name)\n",
    "            images_path.append(img_path)\n",
    "            img_label.append(directory)"
   ]
  },
  {
   "cell_type": "code",
   "execution_count": 3,
   "id": "656f2744",
   "metadata": {},
   "outputs": [],
   "source": [
    "def upload_data(vehicle_dir, non_vehicle_dir):\n",
    "    data_in_matrix = []\n",
    "    \n",
    "    for img_name in tqdm(os.listdir(vehicle_dir)):\n",
    "        img_path = os.path.join(vehicle_dir, img_name)\n",
    "        image = Image.open(img_path)  # No conversion to 'L' here\n",
    "        image_array = np.asarray(image)\n",
    "        data_in_matrix.append([image_array, 1]) \n",
    "\n",
    "    # Upload non-vehicle images\n",
    "    for img_name in tqdm(os.listdir(non_vehicle_dir)):\n",
    "        img_path = os.path.join(non_vehicle_dir, img_name)\n",
    "        image = Image.open(img_path)  # No conversion to 'L' here\n",
    "        image_array = np.asarray(image)\n",
    "        data_in_matrix.append([image_array, 0])  \n",
    "\n",
    "    # Convert data to a NumPy array\n",
    "    data_in_matrix = np.array(data_in_matrix, dtype=object)\n",
    "    \n",
    "    return data_in_matrix\n",
    "\n",
    "# Define the paths\n",
    "vehicles_url = r\"data\\vehicles\"\n",
    "non_vehicles_url = r\"data\\non-vehicles\""
   ]
  },
  {
   "cell_type": "code",
   "execution_count": 7,
   "id": "ac54394d",
   "metadata": {},
   "outputs": [
    {
     "name": "stderr",
     "output_type": "stream",
     "text": [
      "100%|██████████████████████████████████████████████████████████████████████████████| 8792/8792 [01:46<00:00, 82.69it/s]\n",
      "100%|██████████████████████████████████████████████████████████████████████████████| 8968/8968 [01:52<00:00, 79.63it/s]\n"
     ]
    }
   ],
   "source": [
    "data_in_matrix = upload_data(vehicles_url, non_vehicles_url)"
   ]
  },
  {
   "cell_type": "code",
   "execution_count": 8,
   "id": "120f8278-4add-4cdd-87a8-2a382cab0efb",
   "metadata": {},
   "outputs": [],
   "source": [
    "# Save the data_in_matrix variable\n",
    "np.save('data_in_matrix.npy',data_in_matrix)"
   ]
  },
  {
   "cell_type": "code",
   "execution_count": 4,
   "id": "6fcf7326",
   "metadata": {},
   "outputs": [],
   "source": [
    "# Load the data_in_matrix variable\n",
    "data_in_matrix = np.load('data_in_matrix.npy',allow_pickle=True)"
   ]
  },
  {
   "cell_type": "code",
   "execution_count": 5,
   "id": "6a849628",
   "metadata": {},
   "outputs": [],
   "source": [
    "def extract_features_labels(data):\n",
    "    X = []\n",
    "    y = []\n",
    "\n",
    "    for image_array, label in data:\n",
    "        X.append(image_array)\n",
    "        y.append(label)\n",
    "\n",
    "    X = np.array(X)\n",
    "    y = np.array(y)\n",
    "\n",
    "    return X, y\n"
   ]
  },
  {
   "cell_type": "code",
   "execution_count": 6,
   "id": "c68941d1",
   "metadata": {},
   "outputs": [],
   "source": [
    "# Extract features (X) and labels (y)\n",
    "mat_x, mat_y = extract_features_labels(data_in_matrix)"
   ]
  },
  {
   "cell_type": "code",
   "execution_count": 7,
   "id": "def24962",
   "metadata": {},
   "outputs": [],
   "source": [
    "mat_x = mat_x/255.0"
   ]
  },
  {
   "cell_type": "code",
   "execution_count": 8,
   "id": "c5fd1eda",
   "metadata": {},
   "outputs": [],
   "source": [
    "#split the data to train and test \n",
    "X_train_mat, X_test_mat, y_train_mat, y_test_mat = train_test_split(mat_x,mat_y, test_size=0.2, random_state=42)\n",
    "#split the train\n",
    "X_train_mat, X_val_mat, y_train_mat, y_val_mat = train_test_split(X_train_mat,y_train_mat, test_size=0.2, random_state=42)"
   ]
  },
  {
   "cell_type": "code",
   "execution_count": 9,
   "id": "aa686aa0",
   "metadata": {},
   "outputs": [
    {
     "name": "stdout",
     "output_type": "stream",
     "text": [
      "Labels : ['non-vehicles', 'vehicles']\n",
      "Total Images : 17760\n",
      " Images shape : (64, 64, 3)\n"
     ]
    }
   ],
   "source": [
    "img_shape = cv2.imread(images_path[0])\n",
    "\n",
    "print(f\"Labels : { label}\")\n",
    "print(f\"Total Images : {len(all_images)}\")\n",
    "print(f\" Images shape : {img_shape.shape}\")"
   ]
  },
  {
   "cell_type": "code",
   "execution_count": 10,
   "id": "05ddb1d0",
   "metadata": {},
   "outputs": [
    {
     "data": {
      "text/html": [
       "<div>\n",
       "<style scoped>\n",
       "    .dataframe tbody tr th:only-of-type {\n",
       "        vertical-align: middle;\n",
       "    }\n",
       "\n",
       "    .dataframe tbody tr th {\n",
       "        vertical-align: top;\n",
       "    }\n",
       "\n",
       "    .dataframe thead th {\n",
       "        text-align: right;\n",
       "    }\n",
       "</style>\n",
       "<table border=\"1\" class=\"dataframe\">\n",
       "  <thead>\n",
       "    <tr style=\"text-align: right;\">\n",
       "      <th></th>\n",
       "      <th>image</th>\n",
       "      <th>label</th>\n",
       "    </tr>\n",
       "  </thead>\n",
       "  <tbody>\n",
       "    <tr>\n",
       "      <th>0</th>\n",
       "      <td>data\\non-vehicles\\extra1.png</td>\n",
       "      <td>non-vehicles</td>\n",
       "    </tr>\n",
       "    <tr>\n",
       "      <th>1</th>\n",
       "      <td>data\\non-vehicles\\extra10.png</td>\n",
       "      <td>non-vehicles</td>\n",
       "    </tr>\n",
       "    <tr>\n",
       "      <th>2</th>\n",
       "      <td>data\\non-vehicles\\extra100.png</td>\n",
       "      <td>non-vehicles</td>\n",
       "    </tr>\n",
       "    <tr>\n",
       "      <th>3</th>\n",
       "      <td>data\\non-vehicles\\extra1000.png</td>\n",
       "      <td>non-vehicles</td>\n",
       "    </tr>\n",
       "    <tr>\n",
       "      <th>4</th>\n",
       "      <td>data\\non-vehicles\\extra1001.png</td>\n",
       "      <td>non-vehicles</td>\n",
       "    </tr>\n",
       "  </tbody>\n",
       "</table>\n",
       "</div>"
      ],
      "text/plain": [
       "                             image         label\n",
       "0     data\\non-vehicles\\extra1.png  non-vehicles\n",
       "1    data\\non-vehicles\\extra10.png  non-vehicles\n",
       "2   data\\non-vehicles\\extra100.png  non-vehicles\n",
       "3  data\\non-vehicles\\extra1000.png  non-vehicles\n",
       "4  data\\non-vehicles\\extra1001.png  non-vehicles"
      ]
     },
     "execution_count": 10,
     "metadata": {},
     "output_type": "execute_result"
    }
   ],
   "source": [
    "data =pd.DataFrame({'image':images_path,'label':img_label}) \n",
    "data.head()"
   ]
  },
  {
   "cell_type": "code",
   "execution_count": 11,
   "id": "c03ebbce",
   "metadata": {},
   "outputs": [
    {
     "data": {
      "text/html": [
       "<div>\n",
       "<style scoped>\n",
       "    .dataframe tbody tr th:only-of-type {\n",
       "        vertical-align: middle;\n",
       "    }\n",
       "\n",
       "    .dataframe tbody tr th {\n",
       "        vertical-align: top;\n",
       "    }\n",
       "\n",
       "    .dataframe thead th {\n",
       "        text-align: right;\n",
       "    }\n",
       "</style>\n",
       "<table border=\"1\" class=\"dataframe\">\n",
       "  <thead>\n",
       "    <tr style=\"text-align: right;\">\n",
       "      <th></th>\n",
       "      <th>index</th>\n",
       "      <th>image</th>\n",
       "      <th>label</th>\n",
       "    </tr>\n",
       "  </thead>\n",
       "  <tbody>\n",
       "    <tr>\n",
       "      <th>0</th>\n",
       "      <td>7057</td>\n",
       "      <td>data\\non-vehicles\\image279.png</td>\n",
       "      <td>non-vehicles</td>\n",
       "    </tr>\n",
       "    <tr>\n",
       "      <th>1</th>\n",
       "      <td>12434</td>\n",
       "      <td>data\\vehicles\\4120.png</td>\n",
       "      <td>vehicles</td>\n",
       "    </tr>\n",
       "    <tr>\n",
       "      <th>2</th>\n",
       "      <td>42</td>\n",
       "      <td>data\\non-vehicles\\extra1050.png</td>\n",
       "      <td>non-vehicles</td>\n",
       "    </tr>\n",
       "    <tr>\n",
       "      <th>3</th>\n",
       "      <td>5548</td>\n",
       "      <td>data\\non-vehicles\\image1430.png</td>\n",
       "      <td>non-vehicles</td>\n",
       "    </tr>\n",
       "    <tr>\n",
       "      <th>4</th>\n",
       "      <td>8963</td>\n",
       "      <td>data\\non-vehicles\\image995.png</td>\n",
       "      <td>non-vehicles</td>\n",
       "    </tr>\n",
       "  </tbody>\n",
       "</table>\n",
       "</div>"
      ],
      "text/plain": [
       "   index                            image         label\n",
       "0   7057   data\\non-vehicles\\image279.png  non-vehicles\n",
       "1  12434           data\\vehicles\\4120.png      vehicles\n",
       "2     42  data\\non-vehicles\\extra1050.png  non-vehicles\n",
       "3   5548  data\\non-vehicles\\image1430.png  non-vehicles\n",
       "4   8963   data\\non-vehicles\\image995.png  non-vehicles"
      ]
     },
     "execution_count": 11,
     "metadata": {},
     "output_type": "execute_result"
    }
   ],
   "source": [
    "data = data.sample(frac=1).reset_index()\n",
    "data.head()"
   ]
  },
  {
   "cell_type": "code",
   "execution_count": 12,
   "id": "70f2f0ce",
   "metadata": {},
   "outputs": [
    {
     "data": {
      "image/png": "[encoded data removed]",
      "text/plain": [
       "<Figure size 1500x1500 with 8 Axes>"
      ]
     },
     "metadata": {},
     "output_type": "display_data"
    }
   ],
   "source": [
    "fig = plt.figure(figsize=(15,15))\n",
    "\n",
    "for i in range(8):\n",
    "    fig.add_subplot(4,4,i+1).set_title(data['label'][i])\n",
    "    img = cv2.imread(data['image'][i])\n",
    "    plt.imshow(img)\n",
    "    \n",
    "plt.show()"
   ]
  },
  {
   "cell_type": "code",
   "execution_count": 13,
   "id": "7ebebc09",
   "metadata": {},
   "outputs": [
    {
     "name": "stdout",
     "output_type": "stream",
     "text": [
      "<class 'pandas.core.frame.DataFrame'>\n",
      "RangeIndex: 17760 entries, 0 to 17759\n",
      "Data columns (total 3 columns):\n",
      " #   Column  Non-Null Count  Dtype \n",
      "---  ------  --------------  ----- \n",
      " 0   index   17760 non-null  int64 \n",
      " 1   image   17760 non-null  object\n",
      " 2   label   17760 non-null  object\n",
      "dtypes: int64(1), object(2)\n",
      "memory usage: 416.4+ KB\n"
     ]
    }
   ],
   "source": [
    "data.info()"
   ]
  },
  {
   "cell_type": "code",
   "execution_count": 14,
   "id": "c42d5d9c",
   "metadata": {},
   "outputs": [
    {
     "data": {
      "text/plain": [
       "label\n",
       "non-vehicles    8968\n",
       "vehicles        8792\n",
       "Name: count, dtype: int64"
      ]
     },
     "execution_count": 14,
     "metadata": {},
     "output_type": "execute_result"
    }
   ],
   "source": [
    "data['label'].value_counts()"
   ]
  },
  {
   "cell_type": "code",
   "execution_count": 15,
   "id": "43661fd4-3748-4c12-8345-bec2cf249197",
   "metadata": {},
   "outputs": [
    {
     "data": {
      "image/png": "[encoded data removed]",
      "text/plain": [
       "<Figure size 640x480 with 1 Axes>"
      ]
     },
     "metadata": {},
     "output_type": "display_data"
    }
   ],
   "source": [
    "value_counts = data['label'].value_counts()\n",
    "\n",
    "# Plotting\n",
    "plt.bar(value_counts.index, value_counts.values, color=['blue', 'pink'],linewidth=1, edgecolor=\"black\")\n",
    "plt.xlabel('Labels')\n",
    "plt.ylabel('Count')\n",
    "plt.title('Distribution of Labels')\n",
    "plt.show()\n"
   ]
  },
  {
   "cell_type": "markdown",
   "id": "311739f1",
   "metadata": {},
   "source": [
    "### As we can see the data is more or less equally distributed."
   ]
  },
  {
   "cell_type": "code",
   "execution_count": 34,
   "id": "494b0f1e",
   "metadata": {},
   "outputs": [],
   "source": [
    "X = data.drop('index',axis=1)\n",
    "Y = data.label"
   ]
  },
  {
   "cell_type": "code",
   "execution_count": 35,
   "id": "dac94ec8",
   "metadata": {},
   "outputs": [
    {
     "data": {
      "text/html": [
       "<div>\n",
       "<style scoped>\n",
       "    .dataframe tbody tr th:only-of-type {\n",
       "        vertical-align: middle;\n",
       "    }\n",
       "\n",
       "    .dataframe tbody tr th {\n",
       "        vertical-align: top;\n",
       "    }\n",
       "\n",
       "    .dataframe thead th {\n",
       "        text-align: right;\n",
       "    }\n",
       "</style>\n",
       "<table border=\"1\" class=\"dataframe\">\n",
       "  <thead>\n",
       "    <tr style=\"text-align: right;\">\n",
       "      <th></th>\n",
       "      <th>image</th>\n",
       "      <th>label</th>\n",
       "    </tr>\n",
       "  </thead>\n",
       "  <tbody>\n",
       "    <tr>\n",
       "      <th>0</th>\n",
       "      <td>data\\non-vehicles\\image279.png</td>\n",
       "      <td>non-vehicles</td>\n",
       "    </tr>\n",
       "    <tr>\n",
       "      <th>1</th>\n",
       "      <td>data\\vehicles\\4120.png</td>\n",
       "      <td>vehicles</td>\n",
       "    </tr>\n",
       "    <tr>\n",
       "      <th>2</th>\n",
       "      <td>data\\non-vehicles\\extra1050.png</td>\n",
       "      <td>non-vehicles</td>\n",
       "    </tr>\n",
       "    <tr>\n",
       "      <th>3</th>\n",
       "      <td>data\\non-vehicles\\image1430.png</td>\n",
       "      <td>non-vehicles</td>\n",
       "    </tr>\n",
       "    <tr>\n",
       "      <th>4</th>\n",
       "      <td>data\\non-vehicles\\image995.png</td>\n",
       "      <td>non-vehicles</td>\n",
       "    </tr>\n",
       "  </tbody>\n",
       "</table>\n",
       "</div>"
      ],
      "text/plain": [
       "                             image         label\n",
       "0   data\\non-vehicles\\image279.png  non-vehicles\n",
       "1           data\\vehicles\\4120.png      vehicles\n",
       "2  data\\non-vehicles\\extra1050.png  non-vehicles\n",
       "3  data\\non-vehicles\\image1430.png  non-vehicles\n",
       "4   data\\non-vehicles\\image995.png  non-vehicles"
      ]
     },
     "execution_count": 35,
     "metadata": {},
     "output_type": "execute_result"
    }
   ],
   "source": [
    "X.head()"
   ]
  },
  {
   "cell_type": "code",
   "execution_count": 36,
   "id": "3ff51ac0",
   "metadata": {},
   "outputs": [
    {
     "name": "stdout",
     "output_type": "stream",
     "text": [
      "(14208, 2)\n",
      "(3552, 2)\n"
     ]
    }
   ],
   "source": [
    "X_train, X_final_test, y_train, y_final_test = train_test_split(X,Y, test_size=0.2, random_state=42)\n",
    "print(X_train.shape)\n",
    "print(X_final_test.shape)"
   ]
  },
  {
   "cell_type": "code",
   "execution_count": 37,
   "id": "0e369594",
   "metadata": {},
   "outputs": [
    {
     "data": {
      "text/plain": [
       "15610    non-vehicles\n",
       "5230         vehicles\n",
       "15224        vehicles\n",
       "83       non-vehicles\n",
       "14570        vehicles\n",
       "             ...     \n",
       "11284        vehicles\n",
       "11964    non-vehicles\n",
       "5390         vehicles\n",
       "860          vehicles\n",
       "15795    non-vehicles\n",
       "Name: label, Length: 14208, dtype: object"
      ]
     },
     "execution_count": 37,
     "metadata": {},
     "output_type": "execute_result"
    }
   ],
   "source": [
    "y_train"
   ]
  },
  {
   "cell_type": "code",
   "execution_count": 20,
   "id": "5b9142ff",
   "metadata": {},
   "outputs": [
    {
     "name": "stdout",
     "output_type": "stream",
     "text": [
      "The DummyClassifier score is: 0.497\n"
     ]
    }
   ],
   "source": [
    "# Before we try real models, we will try a dummyClassifier. we will try to get high score than the dummyModel.\n",
    "dummy_clf = DummyClassifier(strategy=\"most_frequent\", random_state=42)\n",
    "dummy_clf.fit(X_train_mat, y_train_mat)\n",
    "y_pred = dummy_clf.predict(X_val_mat)\n",
    "print(\"The DummyClassifier score is:\" ,round(accuracy_score(y_pred,y_val_mat),3))"
   ]
  },
  {
   "cell_type": "code",
   "execution_count": 21,
   "id": "1e84a4a7",
   "metadata": {},
   "outputs": [
    {
     "name": "stdout",
     "output_type": "stream",
     "text": [
      "WARNING:tensorflow:From D:\\Anaconda\\Lib\\site-packages\\keras\\src\\backend.py:873: The name tf.get_default_graph is deprecated. Please use tf.compat.v1.get_default_graph instead.\n",
      "\n",
      "Epoch 1/50\n",
      "WARNING:tensorflow:From D:\\Anaconda\\Lib\\site-packages\\keras\\src\\utils\\tf_utils.py:492: The name tf.ragged.RaggedTensorValue is deprecated. Please use tf.compat.v1.ragged.RaggedTensorValue instead.\n",
      "\n",
      "WARNING:tensorflow:From D:\\Anaconda\\Lib\\site-packages\\keras\\src\\engine\\base_layer_utils.py:384: The name tf.executing_eagerly_outside_functions is deprecated. Please use tf.compat.v1.executing_eagerly_outside_functions instead.\n",
      "\n",
      "356/356 [==============================] - 6s 6ms/step - loss: 0.4226 - accuracy: 0.8232 - val_loss: 0.3060 - val_accuracy: 0.8937\n",
      "Epoch 2/50\n",
      "356/356 [==============================] - 2s 4ms/step - loss: 0.3156 - accuracy: 0.8775 - val_loss: 0.2699 - val_accuracy: 0.9050\n",
      "Epoch 3/50\n",
      "356/356 [==============================] - 2s 4ms/step - loss: 0.2717 - accuracy: 0.8967 - val_loss: 0.3032 - val_accuracy: 0.8839\n",
      "Epoch 4/50\n",
      "356/356 [==============================] - 2s 5ms/step - loss: 0.2718 - accuracy: 0.8961 - val_loss: 0.2439 - val_accuracy: 0.9141\n",
      "Epoch 5/50\n",
      "356/356 [==============================] - 1s 4ms/step - loss: 0.2391 - accuracy: 0.9099 - val_loss: 0.2433 - val_accuracy: 0.9110\n",
      "Epoch 6/50\n",
      "356/356 [==============================] - 2s 4ms/step - loss: 0.2344 - accuracy: 0.9118 - val_loss: 0.2613 - val_accuracy: 0.8994\n",
      "Epoch 7/50\n",
      "356/356 [==============================] - 1s 4ms/step - loss: 0.2241 - accuracy: 0.9147 - val_loss: 0.3275 - val_accuracy: 0.8614\n",
      "Epoch 8/50\n",
      "356/356 [==============================] - 2s 4ms/step - loss: 0.2393 - accuracy: 0.9111 - val_loss: 0.2175 - val_accuracy: 0.9243\n",
      "Epoch 9/50\n",
      "356/356 [==============================] - 1s 4ms/step - loss: 0.2197 - accuracy: 0.9203 - val_loss: 0.2260 - val_accuracy: 0.9208\n",
      "Epoch 10/50\n",
      "356/356 [==============================] - 2s 5ms/step - loss: 0.2059 - accuracy: 0.9253 - val_loss: 0.2436 - val_accuracy: 0.9138\n",
      "Epoch 11/50\n",
      "356/356 [==============================] - 2s 4ms/step - loss: 0.2037 - accuracy: 0.9274 - val_loss: 0.2769 - val_accuracy: 0.8980\n",
      "Epoch 12/50\n",
      "356/356 [==============================] - 1s 4ms/step - loss: 0.1904 - accuracy: 0.9296 - val_loss: 0.2087 - val_accuracy: 0.9293\n",
      "Epoch 13/50\n",
      "356/356 [==============================] - 2s 4ms/step - loss: 0.1967 - accuracy: 0.9276 - val_loss: 0.2133 - val_accuracy: 0.9303\n",
      "Epoch 14/50\n",
      "356/356 [==============================] - 2s 4ms/step - loss: 0.1955 - accuracy: 0.9272 - val_loss: 0.2599 - val_accuracy: 0.9124\n",
      "Epoch 15/50\n",
      "356/356 [==============================] - 2s 4ms/step - loss: 0.1812 - accuracy: 0.9365 - val_loss: 0.2139 - val_accuracy: 0.9275\n",
      "Epoch 16/50\n",
      "356/356 [==============================] - 2s 4ms/step - loss: 0.1832 - accuracy: 0.9359 - val_loss: 0.2849 - val_accuracy: 0.8997\n",
      "Epoch 17/50\n",
      "356/356 [==============================] - 2s 4ms/step - loss: 0.1784 - accuracy: 0.9355 - val_loss: 0.2138 - val_accuracy: 0.9279\n",
      "Epoch 18/50\n",
      "356/356 [==============================] - 2s 4ms/step - loss: 0.1860 - accuracy: 0.9321 - val_loss: 0.2025 - val_accuracy: 0.9324\n",
      "Epoch 19/50\n",
      "356/356 [==============================] - 2s 4ms/step - loss: 0.1925 - accuracy: 0.9308 - val_loss: 0.2494 - val_accuracy: 0.9092\n",
      "Epoch 20/50\n",
      "356/356 [==============================] - 2s 4ms/step - loss: 0.1774 - accuracy: 0.9381 - val_loss: 0.2229 - val_accuracy: 0.9261\n",
      "Epoch 21/50\n",
      "356/356 [==============================] - 2s 4ms/step - loss: 0.1848 - accuracy: 0.9351 - val_loss: 0.2012 - val_accuracy: 0.9360\n",
      "Epoch 22/50\n",
      "356/356 [==============================] - 2s 4ms/step - loss: 0.1668 - accuracy: 0.9431 - val_loss: 0.1993 - val_accuracy: 0.9363\n",
      "Epoch 23/50\n",
      "356/356 [==============================] - 2s 5ms/step - loss: 0.1837 - accuracy: 0.9317 - val_loss: 0.1951 - val_accuracy: 0.9391\n",
      "Epoch 24/50\n",
      "356/356 [==============================] - 2s 4ms/step - loss: 0.1632 - accuracy: 0.9447 - val_loss: 0.2003 - val_accuracy: 0.9374\n",
      "Epoch 25/50\n",
      "356/356 [==============================] - 2s 5ms/step - loss: 0.1700 - accuracy: 0.9414 - val_loss: 0.1987 - val_accuracy: 0.9360\n",
      "Epoch 26/50\n",
      "356/356 [==============================] - 1s 4ms/step - loss: 0.1630 - accuracy: 0.9435 - val_loss: 0.2592 - val_accuracy: 0.9120\n",
      "Epoch 27/50\n",
      "356/356 [==============================] - 2s 4ms/step - loss: 0.1741 - accuracy: 0.9378 - val_loss: 0.1956 - val_accuracy: 0.9367\n",
      "Epoch 28/50\n",
      "356/356 [==============================] - 2s 4ms/step - loss: 0.1632 - accuracy: 0.9448 - val_loss: 0.2028 - val_accuracy: 0.9328\n",
      "Epoch 29/50\n",
      "356/356 [==============================] - 2s 4ms/step - loss: 0.1537 - accuracy: 0.9461 - val_loss: 0.2331 - val_accuracy: 0.9251\n",
      "Epoch 30/50\n",
      "356/356 [==============================] - 1s 4ms/step - loss: 0.1575 - accuracy: 0.9477 - val_loss: 0.2055 - val_accuracy: 0.9335\n",
      "Epoch 31/50\n",
      "356/356 [==============================] - 1s 4ms/step - loss: 0.1518 - accuracy: 0.9448 - val_loss: 0.2127 - val_accuracy: 0.9321\n",
      "Epoch 32/50\n",
      "356/356 [==============================] - 2s 5ms/step - loss: 0.1548 - accuracy: 0.9452 - val_loss: 0.1950 - val_accuracy: 0.9388\n",
      "Epoch 33/50\n",
      "356/356 [==============================] - 2s 4ms/step - loss: 0.1488 - accuracy: 0.9495 - val_loss: 0.2133 - val_accuracy: 0.9296\n",
      "Epoch 34/50\n",
      "356/356 [==============================] - 2s 4ms/step - loss: 0.1573 - accuracy: 0.9442 - val_loss: 0.2196 - val_accuracy: 0.9286\n",
      "Epoch 35/50\n",
      "356/356 [==============================] - 2s 4ms/step - loss: 0.1439 - accuracy: 0.9497 - val_loss: 0.3487 - val_accuracy: 0.8941\n",
      "Epoch 36/50\n",
      "356/356 [==============================] - 2s 5ms/step - loss: 0.1536 - accuracy: 0.9470 - val_loss: 0.2280 - val_accuracy: 0.9215\n",
      "Epoch 37/50\n",
      "356/356 [==============================] - 1s 4ms/step - loss: 0.1491 - accuracy: 0.9483 - val_loss: 0.2426 - val_accuracy: 0.9201\n",
      "Epoch 38/50\n",
      "356/356 [==============================] - 2s 4ms/step - loss: 0.1500 - accuracy: 0.9468 - val_loss: 0.2125 - val_accuracy: 0.9317\n",
      "Epoch 39/50\n",
      "356/356 [==============================] - 1s 4ms/step - loss: 0.1473 - accuracy: 0.9506 - val_loss: 0.2087 - val_accuracy: 0.9356\n",
      "Epoch 40/50\n",
      "356/356 [==============================] - 2s 4ms/step - loss: 0.1444 - accuracy: 0.9511 - val_loss: 0.1989 - val_accuracy: 0.9363\n",
      "Epoch 41/50\n",
      "356/356 [==============================] - 1s 4ms/step - loss: 0.1389 - accuracy: 0.9518 - val_loss: 0.2460 - val_accuracy: 0.9229\n",
      "Epoch 42/50\n",
      "356/356 [==============================] - 1s 4ms/step - loss: 0.1496 - accuracy: 0.9494 - val_loss: 0.1963 - val_accuracy: 0.9395\n",
      "Epoch 43/50\n",
      "356/356 [==============================] - 1s 4ms/step - loss: 0.1453 - accuracy: 0.9506 - val_loss: 0.2352 - val_accuracy: 0.9258\n",
      "Epoch 44/50\n",
      "356/356 [==============================] - 1s 4ms/step - loss: 0.1383 - accuracy: 0.9525 - val_loss: 0.2056 - val_accuracy: 0.9338\n",
      "Epoch 45/50\n",
      "356/356 [==============================] - 1s 4ms/step - loss: 0.1329 - accuracy: 0.9549 - val_loss: 0.2124 - val_accuracy: 0.9300\n",
      "Epoch 46/50\n",
      "356/356 [==============================] - 2s 4ms/step - loss: 0.1298 - accuracy: 0.9557 - val_loss: 0.2020 - val_accuracy: 0.9370\n",
      "Epoch 47/50\n",
      "356/356 [==============================] - 1s 3ms/step - loss: 0.1416 - accuracy: 0.9497 - val_loss: 0.1958 - val_accuracy: 0.9402\n",
      "Epoch 48/50\n",
      "356/356 [==============================] - 1s 4ms/step - loss: 0.1404 - accuracy: 0.9506 - val_loss: 0.2345 - val_accuracy: 0.9205\n",
      "Epoch 49/50\n",
      "356/356 [==============================] - 2s 5ms/step - loss: 0.1290 - accuracy: 0.9570 - val_loss: 0.3263 - val_accuracy: 0.9022\n",
      "Epoch 50/50\n",
      "356/356 [==============================] - 1s 3ms/step - loss: 0.1463 - accuracy: 0.9490 - val_loss: 0.2089 - val_accuracy: 0.9321\n",
      "111/111 [==============================] - 0s 3ms/step - loss: 0.2254 - accuracy: 0.9260\n",
      "Test Accuracy: 0.925957202911377\n",
      "111/111 [==============================] - 0s 2ms/step\n",
      "Accuracy Score: 0.9259572072072072\n"
     ]
    }
   ],
   "source": [
    "# Define logistic regression model \n",
    "class LogisticRegression(tf.keras.Model):\n",
    "    def __init__(self):\n",
    "        super(LogisticRegression, self).__init__()\n",
    "        self.flatten = tf.keras.layers.Flatten(input_shape=(64, 64))  # Flatten input images\n",
    "        self.dense = tf.keras.layers.Dense(1, activation='sigmoid')  # Output layer with sigmoid activation\n",
    "\n",
    "    def call(self, x):\n",
    "        x = self.flatten(x)\n",
    "        return self.dense(x)\n",
    "\n",
    "# Create an instance of the logistic regression model\n",
    "model = LogisticRegression()\n",
    "\n",
    "# Define your own learning rate\n",
    "learning_rate = 0.001\n",
    "\n",
    "# Create an optimizer with the specified learning rate\n",
    "optimizer = tf.keras.optimizers.Adam(learning_rate)\n",
    "\n",
    "# Compile the model\n",
    "model.compile(optimizer=optimizer,\n",
    "              loss='binary_crossentropy',\n",
    "              metrics=['accuracy'])\n",
    "\n",
    "# Train the model\n",
    "history = model.fit(X_train_mat, y_train_mat, epochs=50, batch_size=32, validation_data=(X_val_mat, y_val_mat))\n",
    "\n",
    "# Evaluate the model on the test set\n",
    "test_loss, test_acc = model.evaluate(X_test_mat, y_test_mat)\n",
    "\n",
    "print(\"Test Accuracy:\", test_acc)\n",
    "\n",
    "# Predictions on the test set\n",
    "y_pred_prob = model.predict(X_test_mat)\n",
    "\n",
    "# Convert probabilities to class labels based on a threshold (e.g., 0.5)\n",
    "y_pred = (y_pred_prob > 0.5).astype(int)\n",
    "\n",
    "# Calculate accuracy\n",
    "accuracy = accuracy_score(y_test_mat, y_pred)\n",
    "print(\"Accuracy Score:\", accuracy)"
   ]
  },
  {
   "cell_type": "code",
   "execution_count": 33,
   "id": "11df2d9f-0fd0-4884-b57f-767a131f4afc",
   "metadata": {},
   "outputs": [
    {
     "name": "stdout",
     "output_type": "stream",
     "text": [
      "New best model found: Accuracy = 0.9211822748184204, Hyperparameters = {'learning_rate': 0.002976351441631319, 'batch_size': 32}\n",
      "New best model found: Accuracy = 0.935960590839386, Hyperparameters = {'learning_rate': 0.0018329807108324356, 'batch_size': 32}\n",
      "New best model found: Accuracy = 0.9401829838752747, Hyperparameters = {'learning_rate': 0.00042813323987193956, 'batch_size': 32}\n",
      "Best model: Accuracy = 0.9401829838752747, Hyperparameters = {'learning_rate': 0.00042813323987193956, 'batch_size': 32}\n"
     ]
    }
   ],
   "source": [
    "import numpy as np\n",
    "import tensorflow as tf\n",
    "from sklearn.metrics import accuracy_score\n",
    "\n",
    "# Function to create and compile the model with given hyperparameters\n",
    "def build_and_compile_model(learning_rate):\n",
    "    model = LogisticRegression()\n",
    "    optimizer = tf.keras.optimizers.Adam(learning_rate=learning_rate)\n",
    "    model.compile(optimizer=optimizer, loss='binary_crossentropy', metrics=['accuracy'])\n",
    "    return model\n",
    "\n",
    "# Hyperparameter search space\n",
    "learning_rates = np.logspace(-4, 0, 20)\n",
    "batch_sizes = [16, 32, 64, 128]\n",
    "n_iterations = 10  # Number of random search iterations\n",
    "\n",
    "best_accuracy = 0\n",
    "best_hyperparams = {}\n",
    "\n",
    "for i in range(n_iterations):\n",
    "    # Randomly pick a set of hyperparameters\n",
    "    lr = np.random.choice(learning_rates)\n",
    "    batch_size = np.random.choice(batch_sizes)\n",
    "\n",
    "    # Build and compile the model\n",
    "    model = build_and_compile_model(lr)\n",
    "\n",
    "    # Train the model\n",
    "    model.fit(X_train_mat, y_train_mat, epochs=50, batch_size=batch_size, verbose=0)\n",
    "\n",
    "    # Evaluate the model\n",
    "    _, accuracy = model.evaluate(X_val_mat, y_val_mat, verbose=0)\n",
    "\n",
    "    # Check if this is the best model so far\n",
    "    if accuracy > best_accuracy:\n",
    "        best_accuracy = accuracy\n",
    "        best_hyperparams = {'learning_rate': lr, 'batch_size': batch_size}\n",
    "        print(f\"New best model found: Accuracy = {best_accuracy}, Hyperparameters = {best_hyperparams}\")\n",
    "\n",
    "print(f\"Best model: Accuracy = {best_accuracy}, Hyperparameters = {best_hyperparams}\")\n"
   ]
  },
  {
   "cell_type": "markdown",
   "id": "87f530ca",
   "metadata": {},
   "source": [
    "Best Hyperparameters: 'learning_rate': 0.00042813323987193956, 'batch_size': 32"
   ]
  },
  {
   "cell_type": "code",
   "execution_count": null,
   "id": "98fa9d28-9f91-40bd-b808-ae88a3becbe7",
   "metadata": {},
   "outputs": [],
   "source": []
  },
  {
   "cell_type": "code",
   "execution_count": null,
   "id": "8a384561-ad20-4a71-a5d4-73e5081269de",
   "metadata": {},
   "outputs": [],
   "source": []
  },
  {
   "cell_type": "code",
   "execution_count": 32,
   "id": "790fe570",
   "metadata": {},
   "outputs": [
    {
     "name": "stdout",
     "output_type": "stream",
     "text": [
      "Model: \"sequential_2\"\n",
      "_________________________________________________________________\n",
      " Layer (type)                Output Shape              Param #   \n",
      "=================================================================\n",
      " flatten_3 (Flatten)         (None, 12288)             0         \n",
      "                                                                 \n",
      " dense_8 (Dense)             (None, 128)               1572992   \n",
      "                                                                 \n",
      " dropout_3 (Dropout)         (None, 128)               0         \n",
      "                                                                 \n",
      " dense_9 (Dense)             (None, 64)                8256      \n",
      "                                                                 \n",
      " dense_10 (Dense)            (None, 1)                 65        \n",
      "                                                                 \n",
      "=================================================================\n",
      "Total params: 1581313 (6.03 MB)\n",
      "Trainable params: 1581313 (6.03 MB)\n",
      "Non-trainable params: 0 (0.00 Byte)\n",
      "_________________________________________________________________\n"
     ]
    }
   ],
   "source": [
    "# Define the neural network model\n",
    "model = Sequential([\n",
    "    Flatten(input_shape=(64, 64, 3)),  # Flatten the input images\n",
    "    Dense(128, activation='relu'),     # Dense layer with 128 neurons and ReLU activation\n",
    "    Dropout(0.5),                       # Dropout layer with dropout rate of 0.5\n",
    "    Dense(64, activation='relu'),      # Dense layer with 64 neurons and ReLU activation\n",
    "    Dense(1, activation='sigmoid')      # Output layer with 1 neuron and sigmoid activation for binary classification\n",
    "])\n",
    "\n",
    "# Compile the model\n",
    "model.compile(optimizer='adam',     # Adam optimizer\n",
    "              loss='binary_crossentropy',  # Binary cross-entropy loss for binary classification\n",
    "              metrics=['accuracy'])        # Monitor accuracy during training\n",
    "\n",
    "# Print model summary\n",
    "model.summary()"
   ]
  },
  {
   "cell_type": "code",
   "execution_count": 36,
   "id": "95e36148",
   "metadata": {},
   "outputs": [
    {
     "name": "stdout",
     "output_type": "stream",
     "text": [
      "Epoch 1/50\n",
      "356/356 [==============================] - 5s 13ms/step - loss: 0.4955 - accuracy: 0.7794 - val_loss: 0.3376 - val_accuracy: 0.8853\n",
      "Epoch 2/50\n",
      "356/356 [==============================] - 5s 13ms/step - loss: 0.3961 - accuracy: 0.8219 - val_loss: 0.2870 - val_accuracy: 0.9050\n",
      "Epoch 3/50\n",
      "356/356 [==============================] - 4s 12ms/step - loss: 0.3794 - accuracy: 0.8245 - val_loss: 0.2794 - val_accuracy: 0.9025\n",
      "Epoch 4/50\n",
      "356/356 [==============================] - 4s 12ms/step - loss: 0.3774 - accuracy: 0.8239 - val_loss: 0.2843 - val_accuracy: 0.9022\n",
      "Epoch 5/50\n",
      "356/356 [==============================] - 4s 12ms/step - loss: 0.3473 - accuracy: 0.8463 - val_loss: 0.2983 - val_accuracy: 0.8916\n",
      "Epoch 6/50\n",
      "356/356 [==============================] - 4s 12ms/step - loss: 0.3472 - accuracy: 0.8482 - val_loss: 0.2632 - val_accuracy: 0.9001\n",
      "Epoch 7/50\n",
      "356/356 [==============================] - 5s 13ms/step - loss: 0.3286 - accuracy: 0.8611 - val_loss: 0.2307 - val_accuracy: 0.9177\n",
      "Epoch 8/50\n",
      "356/356 [==============================] - 5s 13ms/step - loss: 0.3220 - accuracy: 0.8677 - val_loss: 0.2642 - val_accuracy: 0.9184\n",
      "Epoch 9/50\n",
      "356/356 [==============================] - 4s 13ms/step - loss: 0.2998 - accuracy: 0.8823 - val_loss: 0.2358 - val_accuracy: 0.9251\n",
      "Epoch 10/50\n",
      "356/356 [==============================] - 4s 12ms/step - loss: 0.2993 - accuracy: 0.8785 - val_loss: 0.2287 - val_accuracy: 0.9177\n",
      "Epoch 11/50\n",
      "356/356 [==============================] - 4s 13ms/step - loss: 0.2898 - accuracy: 0.8810 - val_loss: 0.2196 - val_accuracy: 0.9286\n",
      "Epoch 12/50\n",
      "356/356 [==============================] - 5s 13ms/step - loss: 0.2901 - accuracy: 0.8868 - val_loss: 0.2226 - val_accuracy: 0.9275\n",
      "Epoch 13/50\n",
      "356/356 [==============================] - 4s 12ms/step - loss: 0.2798 - accuracy: 0.8889 - val_loss: 0.2534 - val_accuracy: 0.9103\n",
      "Epoch 14/50\n",
      "356/356 [==============================] - 4s 12ms/step - loss: 0.2794 - accuracy: 0.8857 - val_loss: 0.2335 - val_accuracy: 0.9314\n",
      "Epoch 15/50\n",
      "356/356 [==============================] - 4s 12ms/step - loss: 0.2658 - accuracy: 0.8942 - val_loss: 0.2140 - val_accuracy: 0.9307\n",
      "Epoch 16/50\n",
      "356/356 [==============================] - 4s 12ms/step - loss: 0.2696 - accuracy: 0.8949 - val_loss: 0.1948 - val_accuracy: 0.9303\n",
      "Epoch 17/50\n",
      "356/356 [==============================] - 4s 12ms/step - loss: 0.2662 - accuracy: 0.8901 - val_loss: 0.1875 - val_accuracy: 0.9412\n",
      "Epoch 18/50\n",
      "356/356 [==============================] - 5s 13ms/step - loss: 0.2548 - accuracy: 0.9031 - val_loss: 0.2013 - val_accuracy: 0.9402\n",
      "Epoch 19/50\n",
      "356/356 [==============================] - 4s 12ms/step - loss: 0.2508 - accuracy: 0.8994 - val_loss: 0.1888 - val_accuracy: 0.9349\n",
      "Epoch 20/50\n",
      "356/356 [==============================] - 4s 12ms/step - loss: 0.2690 - accuracy: 0.8924 - val_loss: 0.2006 - val_accuracy: 0.9317\n",
      "Epoch 21/50\n",
      "356/356 [==============================] - 4s 12ms/step - loss: 0.2610 - accuracy: 0.8928 - val_loss: 0.2216 - val_accuracy: 0.9145\n",
      "Epoch 22/50\n",
      "356/356 [==============================] - 4s 12ms/step - loss: 0.2544 - accuracy: 0.8993 - val_loss: 0.2244 - val_accuracy: 0.9222\n",
      "Epoch 23/50\n",
      "356/356 [==============================] - 4s 13ms/step - loss: 0.2420 - accuracy: 0.9007 - val_loss: 0.1959 - val_accuracy: 0.9314\n",
      "Epoch 24/50\n",
      "356/356 [==============================] - 4s 12ms/step - loss: 0.2455 - accuracy: 0.9012 - val_loss: 0.1818 - val_accuracy: 0.9377\n",
      "Epoch 25/50\n",
      "356/356 [==============================] - 4s 12ms/step - loss: 0.2335 - accuracy: 0.9097 - val_loss: 0.1948 - val_accuracy: 0.9458\n",
      "Epoch 26/50\n",
      "356/356 [==============================] - 4s 12ms/step - loss: 0.2318 - accuracy: 0.9082 - val_loss: 0.1918 - val_accuracy: 0.9412\n",
      "Epoch 27/50\n",
      "356/356 [==============================] - 4s 12ms/step - loss: 0.2338 - accuracy: 0.9067 - val_loss: 0.2249 - val_accuracy: 0.9342\n",
      "Epoch 28/50\n",
      "356/356 [==============================] - 4s 13ms/step - loss: 0.2240 - accuracy: 0.9142 - val_loss: 0.1880 - val_accuracy: 0.9437\n",
      "Epoch 29/50\n",
      "356/356 [==============================] - 4s 12ms/step - loss: 0.2250 - accuracy: 0.9125 - val_loss: 0.1644 - val_accuracy: 0.9433\n",
      "Epoch 30/50\n",
      "356/356 [==============================] - 4s 12ms/step - loss: 0.2130 - accuracy: 0.9180 - val_loss: 0.1799 - val_accuracy: 0.9451\n",
      "Epoch 31/50\n",
      "356/356 [==============================] - 4s 12ms/step - loss: 0.2310 - accuracy: 0.9070 - val_loss: 0.1819 - val_accuracy: 0.9395\n",
      "Epoch 32/50\n",
      "356/356 [==============================] - 4s 12ms/step - loss: 0.2170 - accuracy: 0.9172 - val_loss: 0.1683 - val_accuracy: 0.9483\n",
      "Epoch 33/50\n",
      "356/356 [==============================] - 4s 13ms/step - loss: 0.2205 - accuracy: 0.9150 - val_loss: 0.2181 - val_accuracy: 0.9360\n",
      "Epoch 34/50\n",
      "356/356 [==============================] - 5s 13ms/step - loss: 0.2144 - accuracy: 0.9165 - val_loss: 0.1869 - val_accuracy: 0.9367\n",
      "Epoch 35/50\n",
      "356/356 [==============================] - 4s 13ms/step - loss: 0.2199 - accuracy: 0.9142 - val_loss: 0.1640 - val_accuracy: 0.9514\n",
      "Epoch 36/50\n",
      "356/356 [==============================] - 5s 13ms/step - loss: 0.2033 - accuracy: 0.9228 - val_loss: 0.1700 - val_accuracy: 0.9391\n",
      "Epoch 37/50\n",
      "356/356 [==============================] - 4s 12ms/step - loss: 0.2029 - accuracy: 0.9241 - val_loss: 0.1836 - val_accuracy: 0.9409\n",
      "Epoch 38/50\n",
      "356/356 [==============================] - 5s 13ms/step - loss: 0.2013 - accuracy: 0.9235 - val_loss: 0.1684 - val_accuracy: 0.9395\n",
      "Epoch 39/50\n",
      "356/356 [==============================] - 5s 13ms/step - loss: 0.2113 - accuracy: 0.9170 - val_loss: 0.1821 - val_accuracy: 0.9377\n",
      "Epoch 40/50\n",
      "356/356 [==============================] - 4s 13ms/step - loss: 0.2076 - accuracy: 0.9171 - val_loss: 0.2222 - val_accuracy: 0.9331\n",
      "Epoch 41/50\n",
      "356/356 [==============================] - 4s 12ms/step - loss: 0.2412 - accuracy: 0.9066 - val_loss: 0.1785 - val_accuracy: 0.9433\n",
      "Epoch 42/50\n",
      "356/356 [==============================] - 4s 12ms/step - loss: 0.2043 - accuracy: 0.9242 - val_loss: 0.1648 - val_accuracy: 0.9497\n",
      "Epoch 43/50\n",
      "356/356 [==============================] - 4s 12ms/step - loss: 0.2036 - accuracy: 0.9235 - val_loss: 0.1842 - val_accuracy: 0.9324\n",
      "Epoch 44/50\n",
      "356/356 [==============================] - 4s 12ms/step - loss: 0.2109 - accuracy: 0.9172 - val_loss: 0.1721 - val_accuracy: 0.9504\n",
      "Epoch 45/50\n",
      "356/356 [==============================] - 4s 12ms/step - loss: 0.1980 - accuracy: 0.9248 - val_loss: 0.1737 - val_accuracy: 0.9430\n",
      "Epoch 46/50\n",
      "356/356 [==============================] - 5s 13ms/step - loss: 0.2078 - accuracy: 0.9170 - val_loss: 0.1764 - val_accuracy: 0.9409\n",
      "Epoch 47/50\n",
      "356/356 [==============================] - 4s 12ms/step - loss: 0.1963 - accuracy: 0.9266 - val_loss: 0.1727 - val_accuracy: 0.9391\n",
      "Epoch 48/50\n",
      "356/356 [==============================] - 4s 12ms/step - loss: 0.1991 - accuracy: 0.9224 - val_loss: 0.1641 - val_accuracy: 0.9500\n",
      "Epoch 49/50\n",
      "356/356 [==============================] - 4s 12ms/step - loss: 0.1944 - accuracy: 0.9277 - val_loss: 0.1546 - val_accuracy: 0.9536\n",
      "Epoch 50/50\n",
      "356/356 [==============================] - 5s 13ms/step - loss: 0.1872 - accuracy: 0.9311 - val_loss: 0.1506 - val_accuracy: 0.9500\n",
      "89/89 [==============================] - 0s 3ms/step - loss: 0.1506 - accuracy: 0.9500\n",
      "Test Loss: 0.15061533451080322\n",
      "Test Accuracy: 0.9500352144241333\n"
     ]
    }
   ],
   "source": [
    "# Train the model\n",
    "history = model.fit(X_train_mat, y_train_mat, epochs=50, batch_size=32, validation_data=(X_val_mat, y_val_mat))\n",
    "\n",
    "# Evaluate the model on the test set\n",
    "test_loss, test_accuracy = model.evaluate(X_val_mat, y_val_mat)\n",
    "print(\"Test Loss:\", test_loss)\n",
    "print(\"Test Accuracy:\",test_accuracy)"
   ]
  },
  {
   "cell_type": "code",
   "execution_count": 42,
   "id": "548e1442-688b-4821-8925-e09421ea8a35",
   "metadata": {},
   "outputs": [],
   "source": [
    "model = Sequential()\n",
    "model.add(Conv2D(filters = 32, kernel_size = (3,3),padding = 'Same', \n",
    "                 activation ='relu', input_shape = (64,64,3)))\n",
    "model.add(MaxPool2D(pool_size=(2,2)))\n",
    "model.add(Conv2D(filters = 64, kernel_size = (3,3),padding = 'Same', \n",
    "                 activation ='relu'))\n",
    "model.add(MaxPool2D(pool_size=(2,2)))\n",
    "model.add(Flatten())\n",
    "model.add(Dense(512, activation = \"relu\"))\n",
    "model.add(Dropout(0.2))\n",
    "model.add(Dense(256, activation = \"relu\"))\n",
    "model.add(Dropout(0.2))\n",
    "model.add(Dense(64, activation = \"relu\"))\n",
    "model.add(Dense(2, activation = \"softmax\"))"
   ]
  },
  {
   "cell_type": "code",
   "execution_count": 43,
   "id": "40e5e37e-db14-47b1-9f76-9a7884b93823",
   "metadata": {},
   "outputs": [
    {
     "name": "stdout",
     "output_type": "stream",
     "text": [
      "Model: \"sequential_13\"\n",
      "_________________________________________________________________\n",
      " Layer (type)                Output Shape              Param #   \n",
      "=================================================================\n",
      " conv2d_22 (Conv2D)          (None, 64, 64, 32)        896       \n",
      "                                                                 \n",
      " max_pooling2d_22 (MaxPooli  (None, 32, 32, 32)        0         \n",
      " ng2D)                                                           \n",
      "                                                                 \n",
      " conv2d_23 (Conv2D)          (None, 32, 32, 64)        18496     \n",
      "                                                                 \n",
      " max_pooling2d_23 (MaxPooli  (None, 16, 16, 64)        0         \n",
      " ng2D)                                                           \n",
      "                                                                 \n",
      " flatten_14 (Flatten)        (None, 16384)             0         \n",
      "                                                                 \n",
      " dense_51 (Dense)            (None, 512)               8389120   \n",
      "                                                                 \n",
      " dropout_24 (Dropout)        (None, 512)               0         \n",
      "                                                                 \n",
      " dense_52 (Dense)            (None, 256)               131328    \n",
      "                                                                 \n",
      " dropout_25 (Dropout)        (None, 256)               0         \n",
      "                                                                 \n",
      " dense_53 (Dense)            (None, 64)                16448     \n",
      "                                                                 \n",
      " dense_54 (Dense)            (None, 2)                 130       \n",
      "                                                                 \n",
      "=================================================================\n",
      "Total params: 8556418 (32.64 MB)\n",
      "Trainable params: 8556418 (32.64 MB)\n",
      "Non-trainable params: 0 (0.00 Byte)\n",
      "_________________________________________________________________\n"
     ]
    }
   ],
   "source": [
    "model.compile(optimizer = 'adam', loss= \"categorical_crossentropy\", metrics=[\"acc\"])\n",
    "model.summary()"
   ]
  },
  {
   "cell_type": "code",
   "execution_count": 44,
   "id": "4e20718c-5242-4b72-903f-bb504287a839",
   "metadata": {},
   "outputs": [],
   "source": [
    "from tensorflow.keras.callbacks import EarlyStopping\n",
    "early_stopping = EarlyStopping(monitor='val_loss', patience=1, verbose=1)"
   ]
  },
  {
   "cell_type": "code",
   "execution_count": 28,
   "id": "534eb0e7-5e53-494f-ae23-f0d942d3a027",
   "metadata": {},
   "outputs": [],
   "source": [
    "train_datagen = ImageDataGenerator(rescale = 1./255,\n",
    "                                    shear_range = 0.2,\n",
    "                                    zoom_range = 0.1,\n",
    "                                    rotation_range = 25,\n",
    "                                    width_shift_range = 0.1,\n",
    "                                    height_shift_range = 0.1,\n",
    "                                    horizontal_flip = True,\n",
    "                                    validation_split = 0.2)\n",
    "\n",
    "test_datagen = ImageDataGenerator(rescale = 1./255)"
   ]
  },
  {
   "cell_type": "code",
   "execution_count": 38,
   "id": "98d552fd-cb62-4410-9367-37b98b80d80c",
   "metadata": {},
   "outputs": [
    {
     "name": "stdout",
     "output_type": "stream",
     "text": [
      "Found 11367 validated image filenames belonging to 2 classes.\n",
      "Found 2841 validated image filenames belonging to 2 classes.\n",
      "Found 3552 validated image filenames belonging to 2 classes.\n"
     ]
    }
   ],
   "source": [
    "training_set = train_datagen.flow_from_dataframe(\n",
    "    dataframe = X_train,\n",
    "    x_col = \"image\",\n",
    "    y_col = \"label\",\n",
    "    target_size = (64, 64),\n",
    "    color_mode = \"rgb\",\n",
    "    class_mode = \"categorical\",\n",
    "    batch_size = 32,\n",
    "    shuffle = True,\n",
    "    seed = 2,\n",
    "    subset = \"training\")\n",
    "\n",
    "validation_set = train_datagen.flow_from_dataframe(\n",
    "    dataframe = X_train,\n",
    "    x_col = \"image\",\n",
    "    y_col = \"label\",\n",
    "    target_size = (64, 64),\n",
    "    color_mode =\"rgb\",\n",
    "    class_mode = \"categorical\",\n",
    "    batch_size = 32,\n",
    "    shuffle = True,\n",
    "    seed = 2,\n",
    "    subset = \"validation\")\n",
    "\n",
    "test_set = test_datagen.flow_from_dataframe(\n",
    "    dataframe = X_final_test,\n",
    "    x_col = \"image\",\n",
    "    y_col = \"label\",\n",
    "    target_size = (64, 64),\n",
    "    color_mode =\"rgb\",\n",
    "    class_mode = \"categorical\",\n",
    "    shuffle = False,\n",
    "    batch_size = 32)"
   ]
  },
  {
   "cell_type": "code",
   "execution_count": 45,
   "id": "016e9486-78fe-401b-8415-5d81dc3f0f41",
   "metadata": {},
   "outputs": [
    {
     "name": "stdout",
     "output_type": "stream",
     "text": [
      "Epoch 1/10\n",
      "356/356 [==============================] - 67s 182ms/step - loss: 0.2325 - acc: 0.9018 - val_loss: 0.1320 - val_acc: 0.9514\n",
      "Epoch 2/10\n",
      "356/356 [==============================] - 64s 179ms/step - loss: 0.1010 - acc: 0.9645 - val_loss: 0.0520 - val_acc: 0.9831\n",
      "Epoch 3/10\n",
      "356/356 [==============================] - 72s 203ms/step - loss: 0.0660 - acc: 0.9770 - val_loss: 0.0754 - val_acc: 0.9725\n",
      "Epoch 3: early stopping\n"
     ]
    }
   ],
   "source": [
    "history = model.fit(training_set, epochs=10,validation_data = validation_set, callbacks=[early_stopping],batch_size=32)"
   ]
  },
  {
   "cell_type": "code",
   "execution_count": 46,
   "id": "2c2d95ab-8cd3-41c6-9129-605216091ed1",
   "metadata": {},
   "outputs": [
    {
     "name": "stdout",
     "output_type": "stream",
     "text": [
      "89/89 [==============================] - 8s 92ms/step - loss: 0.0712 - acc: 0.9715\n"
     ]
    }
   ],
   "source": [
    "test_score = model.evaluate(validation_set)"
   ]
  },
  {
   "cell_type": "code",
   "execution_count": 41,
   "id": "5568eb89",
   "metadata": {},
   "outputs": [
    {
     "name": "stdout",
     "output_type": "stream",
     "text": [
      "Found 11367 validated image filenames belonging to 2 classes.\n",
      "Found 2841 validated image filenames belonging to 2 classes.\n"
     ]
    },
    {
     "name": "stderr",
     "output_type": "stream",
     "text": [
      "WARNING:absl:`lr` is deprecated in Keras optimizer, please use `learning_rate` or use the legacy optimizer, e.g.,tf.keras.optimizers.legacy.Adam.\n"
     ]
    },
    {
     "name": "stdout",
     "output_type": "stream",
     "text": [
      "Epoch 1/10\n",
      "89/89 - 49s - loss: 0.3577 - accuracy: 0.8358 - val_loss: 0.1613 - val_accuracy: 0.9419 - 49s/epoch - 552ms/step\n",
      "Epoch 2/10\n",
      "89/89 - 46s - loss: 0.1734 - accuracy: 0.9347 - val_loss: 0.1487 - val_accuracy: 0.9398 - 46s/epoch - 521ms/step\n",
      "Epoch 3/10\n",
      "89/89 - 52s - loss: 0.1056 - accuracy: 0.9619 - val_loss: 0.0651 - val_accuracy: 0.9764 - 52s/epoch - 585ms/step\n",
      "Epoch 4/10\n",
      "89/89 - 68s - loss: 0.0799 - accuracy: 0.9718 - val_loss: 0.0743 - val_accuracy: 0.9729 - 68s/epoch - 763ms/step\n",
      "Epoch 5/10\n",
      "89/89 - 56s - loss: 0.0755 - accuracy: 0.9714 - val_loss: 0.0746 - val_accuracy: 0.9718 - 56s/epoch - 634ms/step\n",
      "Epoch 6/10\n",
      "89/89 - 47s - loss: 0.0814 - accuracy: 0.9718 - val_loss: 0.0604 - val_accuracy: 0.9806 - 47s/epoch - 525ms/step\n",
      "Epoch 7/10\n",
      "89/89 - 49s - loss: 0.0599 - accuracy: 0.9786 - val_loss: 0.0532 - val_accuracy: 0.9789 - 49s/epoch - 553ms/step\n",
      "Epoch 8/10\n",
      "89/89 - 46s - loss: 0.0539 - accuracy: 0.9807 - val_loss: 0.0463 - val_accuracy: 0.9828 - 46s/epoch - 519ms/step\n",
      "Epoch 9/10\n",
      "89/89 - 44s - loss: 0.0647 - accuracy: 0.9779 - val_loss: 0.0596 - val_accuracy: 0.9785 - 44s/epoch - 500ms/step\n",
      "Epoch 10/10\n",
      "89/89 - 46s - loss: 0.0605 - accuracy: 0.9792 - val_loss: 0.0371 - val_accuracy: 0.9870 - 46s/epoch - 514ms/step\n",
      "Trial 1/10: Improved accuracy to 0.9887 with parameters {'learning_rate': 0.0011421052631578948, 'batch_size': 128, 'shear_range': 0.2, 'zoom_range': 0.3, 'rotation_range': 35, 'width_shift_range': 0.3, 'height_shift_range': 0.1}\n",
      "Found 11367 validated image filenames belonging to 2 classes.\n",
      "Found 2841 validated image filenames belonging to 2 classes.\n"
     ]
    },
    {
     "name": "stderr",
     "output_type": "stream",
     "text": [
      "WARNING:absl:`lr` is deprecated in Keras optimizer, please use `learning_rate` or use the legacy optimizer, e.g.,tf.keras.optimizers.legacy.Adam.\n"
     ]
    },
    {
     "name": "stdout",
     "output_type": "stream",
     "text": [
      "Epoch 1/10\n",
      "89/89 - 47s - loss: 0.3678 - accuracy: 0.8316 - val_loss: 0.1683 - val_accuracy: 0.9349 - 47s/epoch - 532ms/step\n",
      "Epoch 2/10\n",
      "89/89 - 46s - loss: 0.1748 - accuracy: 0.9325 - val_loss: 0.1129 - val_accuracy: 0.9588 - 46s/epoch - 515ms/step\n",
      "Epoch 3/10\n",
      "89/89 - 48s - loss: 0.1352 - accuracy: 0.9512 - val_loss: 0.1482 - val_accuracy: 0.9423 - 48s/epoch - 545ms/step\n",
      "Epoch 4/10\n",
      "89/89 - 46s - loss: 0.1156 - accuracy: 0.9568 - val_loss: 0.0784 - val_accuracy: 0.9736 - 46s/epoch - 515ms/step\n",
      "Epoch 5/10\n",
      "89/89 - 45s - loss: 0.0904 - accuracy: 0.9674 - val_loss: 0.0844 - val_accuracy: 0.9704 - 45s/epoch - 509ms/step\n",
      "Epoch 6/10\n",
      "89/89 - 47s - loss: 0.0749 - accuracy: 0.9729 - val_loss: 0.0593 - val_accuracy: 0.9778 - 47s/epoch - 529ms/step\n",
      "Epoch 7/10\n",
      "89/89 - 48s - loss: 0.0692 - accuracy: 0.9747 - val_loss: 0.0518 - val_accuracy: 0.9803 - 48s/epoch - 539ms/step\n",
      "Epoch 8/10\n",
      "89/89 - 50s - loss: 0.0612 - accuracy: 0.9788 - val_loss: 0.0536 - val_accuracy: 0.9820 - 50s/epoch - 559ms/step\n",
      "Epoch 9/10\n",
      "89/89 - 48s - loss: 0.0546 - accuracy: 0.9818 - val_loss: 0.0638 - val_accuracy: 0.9757 - 48s/epoch - 538ms/step\n",
      "Epoch 10/10\n",
      "89/89 - 49s - loss: 0.0608 - accuracy: 0.9797 - val_loss: 0.0523 - val_accuracy: 0.9817 - 49s/epoch - 549ms/step\n",
      "Found 11367 validated image filenames belonging to 2 classes.\n",
      "Found 2841 validated image filenames belonging to 2 classes.\n"
     ]
    },
    {
     "name": "stderr",
     "output_type": "stream",
     "text": [
      "WARNING:absl:`lr` is deprecated in Keras optimizer, please use `learning_rate` or use the legacy optimizer, e.g.,tf.keras.optimizers.legacy.Adam.\n"
     ]
    },
    {
     "name": "stdout",
     "output_type": "stream",
     "text": [
      "Epoch 1/10\n",
      "89/89 - 54s - loss: 0.4112 - accuracy: 0.8043 - val_loss: 0.2151 - val_accuracy: 0.9127 - 54s/epoch - 612ms/step\n",
      "Epoch 2/10\n",
      "89/89 - 54s - loss: 0.2128 - accuracy: 0.9137 - val_loss: 0.1450 - val_accuracy: 0.9433 - 54s/epoch - 611ms/step\n",
      "Epoch 3/10\n",
      "89/89 - 47s - loss: 0.1436 - accuracy: 0.9440 - val_loss: 0.1091 - val_accuracy: 0.9578 - 47s/epoch - 523ms/step\n",
      "Epoch 4/10\n",
      "89/89 - 48s - loss: 0.1254 - accuracy: 0.9533 - val_loss: 0.1157 - val_accuracy: 0.9528 - 48s/epoch - 541ms/step\n",
      "Epoch 5/10\n",
      "89/89 - 46s - loss: 0.0902 - accuracy: 0.9671 - val_loss: 0.0720 - val_accuracy: 0.9747 - 46s/epoch - 522ms/step\n",
      "Epoch 6/10\n",
      "89/89 - 47s - loss: 0.0888 - accuracy: 0.9681 - val_loss: 0.0749 - val_accuracy: 0.9687 - 47s/epoch - 529ms/step\n",
      "Epoch 7/10\n",
      "89/89 - 47s - loss: 0.0944 - accuracy: 0.9667 - val_loss: 0.0568 - val_accuracy: 0.9789 - 47s/epoch - 533ms/step\n",
      "Epoch 8/10\n",
      "89/89 - 46s - loss: 0.0729 - accuracy: 0.9740 - val_loss: 0.0685 - val_accuracy: 0.9729 - 46s/epoch - 522ms/step\n",
      "Epoch 9/10\n",
      "89/89 - 49s - loss: 0.0688 - accuracy: 0.9759 - val_loss: 0.0501 - val_accuracy: 0.9796 - 49s/epoch - 551ms/step\n",
      "Epoch 10/10\n",
      "89/89 - 46s - loss: 0.0629 - accuracy: 0.9775 - val_loss: 0.0534 - val_accuracy: 0.9810 - 46s/epoch - 522ms/step\n",
      "Found 11367 validated image filenames belonging to 2 classes.\n",
      "Found 2841 validated image filenames belonging to 2 classes.\n"
     ]
    },
    {
     "name": "stderr",
     "output_type": "stream",
     "text": [
      "WARNING:absl:`lr` is deprecated in Keras optimizer, please use `learning_rate` or use the legacy optimizer, e.g.,tf.keras.optimizers.legacy.Adam.\n"
     ]
    },
    {
     "name": "stdout",
     "output_type": "stream",
     "text": [
      "Epoch 1/10\n",
      "89/89 - 52s - loss: 0.4248 - accuracy: 0.7885 - val_loss: 0.2656 - val_accuracy: 0.8916 - 52s/epoch - 583ms/step\n",
      "Epoch 2/10\n",
      "89/89 - 49s - loss: 0.1762 - accuracy: 0.9307 - val_loss: 0.1411 - val_accuracy: 0.9472 - 49s/epoch - 555ms/step\n",
      "Epoch 3/10\n",
      "89/89 - 47s - loss: 0.1144 - accuracy: 0.9567 - val_loss: 0.0808 - val_accuracy: 0.9747 - 47s/epoch - 525ms/step\n",
      "Epoch 4/10\n",
      "89/89 - 46s - loss: 0.0912 - accuracy: 0.9680 - val_loss: 0.0682 - val_accuracy: 0.9750 - 46s/epoch - 518ms/step\n",
      "Epoch 5/10\n",
      "89/89 - 47s - loss: 0.0738 - accuracy: 0.9730 - val_loss: 0.0846 - val_accuracy: 0.9694 - 47s/epoch - 526ms/step\n",
      "Epoch 6/10\n",
      "89/89 - 46s - loss: 0.0824 - accuracy: 0.9714 - val_loss: 0.0970 - val_accuracy: 0.9613 - 46s/epoch - 515ms/step\n",
      "Epoch 7/10\n",
      "89/89 - 48s - loss: 0.0667 - accuracy: 0.9755 - val_loss: 0.0546 - val_accuracy: 0.9789 - 48s/epoch - 538ms/step\n",
      "Epoch 8/10\n",
      "89/89 - 47s - loss: 0.0568 - accuracy: 0.9801 - val_loss: 0.0448 - val_accuracy: 0.9873 - 47s/epoch - 524ms/step\n",
      "Epoch 9/10\n",
      "89/89 - 46s - loss: 0.0538 - accuracy: 0.9812 - val_loss: 0.0488 - val_accuracy: 0.9820 - 46s/epoch - 518ms/step\n",
      "Epoch 10/10\n",
      "89/89 - 51s - loss: 0.0563 - accuracy: 0.9810 - val_loss: 0.0666 - val_accuracy: 0.9718 - 51s/epoch - 572ms/step\n",
      "Found 11367 validated image filenames belonging to 2 classes.\n",
      "Found 2841 validated image filenames belonging to 2 classes.\n"
     ]
    },
    {
     "name": "stderr",
     "output_type": "stream",
     "text": [
      "WARNING:absl:`lr` is deprecated in Keras optimizer, please use `learning_rate` or use the legacy optimizer, e.g.,tf.keras.optimizers.legacy.Adam.\n"
     ]
    },
    {
     "name": "stdout",
     "output_type": "stream",
     "text": [
      "Epoch 1/10\n",
      "89/89 - 48s - loss: 0.4100 - accuracy: 0.8030 - val_loss: 0.2054 - val_accuracy: 0.9131 - 48s/epoch - 544ms/step\n",
      "Epoch 2/10\n",
      "89/89 - 49s - loss: 0.1834 - accuracy: 0.9288 - val_loss: 0.1120 - val_accuracy: 0.9588 - 49s/epoch - 546ms/step\n",
      "Epoch 3/10\n",
      "89/89 - 47s - loss: 0.1168 - accuracy: 0.9570 - val_loss: 0.0760 - val_accuracy: 0.9736 - 47s/epoch - 527ms/step\n",
      "Epoch 4/10\n",
      "89/89 - 45s - loss: 0.0905 - accuracy: 0.9651 - val_loss: 0.0821 - val_accuracy: 0.9729 - 45s/epoch - 508ms/step\n",
      "Epoch 5/10\n",
      "89/89 - 46s - loss: 0.0828 - accuracy: 0.9703 - val_loss: 0.0575 - val_accuracy: 0.9799 - 46s/epoch - 522ms/step\n",
      "Epoch 6/10\n",
      "89/89 - 45s - loss: 0.0753 - accuracy: 0.9739 - val_loss: 0.0527 - val_accuracy: 0.9820 - 45s/epoch - 508ms/step\n",
      "Epoch 7/10\n",
      "89/89 - 48s - loss: 0.0648 - accuracy: 0.9780 - val_loss: 0.0570 - val_accuracy: 0.9799 - 48s/epoch - 536ms/step\n",
      "Epoch 8/10\n",
      "89/89 - 48s - loss: 0.0630 - accuracy: 0.9760 - val_loss: 0.0489 - val_accuracy: 0.9852 - 48s/epoch - 537ms/step\n",
      "Epoch 9/10\n",
      "89/89 - 46s - loss: 0.0502 - accuracy: 0.9820 - val_loss: 0.0483 - val_accuracy: 0.9824 - 46s/epoch - 513ms/step\n",
      "Epoch 10/10\n",
      "89/89 - 44s - loss: 0.0594 - accuracy: 0.9792 - val_loss: 0.0617 - val_accuracy: 0.9750 - 44s/epoch - 494ms/step\n",
      "Found 11367 validated image filenames belonging to 2 classes.\n",
      "Found 2841 validated image filenames belonging to 2 classes.\n"
     ]
    },
    {
     "name": "stderr",
     "output_type": "stream",
     "text": [
      "WARNING:absl:`lr` is deprecated in Keras optimizer, please use `learning_rate` or use the legacy optimizer, e.g.,tf.keras.optimizers.legacy.Adam.\n"
     ]
    },
    {
     "name": "stdout",
     "output_type": "stream",
     "text": [
      "Epoch 1/10\n",
      "89/89 - 57s - loss: 0.3917 - accuracy: 0.8126 - val_loss: 0.2467 - val_accuracy: 0.9046 - 57s/epoch - 642ms/step\n",
      "Epoch 2/10\n",
      "89/89 - 48s - loss: 0.1615 - accuracy: 0.9382 - val_loss: 0.1435 - val_accuracy: 0.9528 - 48s/epoch - 536ms/step\n",
      "Epoch 3/10\n",
      "89/89 - 48s - loss: 0.1161 - accuracy: 0.9592 - val_loss: 0.0922 - val_accuracy: 0.9662 - 48s/epoch - 543ms/step\n",
      "Epoch 4/10\n",
      "89/89 - 48s - loss: 0.0814 - accuracy: 0.9689 - val_loss: 0.0665 - val_accuracy: 0.9764 - 48s/epoch - 536ms/step\n",
      "Epoch 5/10\n",
      "89/89 - 46s - loss: 0.0781 - accuracy: 0.9698 - val_loss: 0.0734 - val_accuracy: 0.9750 - 46s/epoch - 516ms/step\n",
      "Epoch 6/10\n",
      "89/89 - 45s - loss: 0.0812 - accuracy: 0.9693 - val_loss: 0.0477 - val_accuracy: 0.9831 - 45s/epoch - 509ms/step\n",
      "Epoch 7/10\n",
      "89/89 - 45s - loss: 0.0703 - accuracy: 0.9751 - val_loss: 0.0650 - val_accuracy: 0.9778 - 45s/epoch - 500ms/step\n",
      "Epoch 8/10\n",
      "89/89 - 46s - loss: 0.0608 - accuracy: 0.9773 - val_loss: 0.0500 - val_accuracy: 0.9838 - 46s/epoch - 513ms/step\n",
      "Epoch 9/10\n",
      "89/89 - 49s - loss: 0.0643 - accuracy: 0.9760 - val_loss: 0.0545 - val_accuracy: 0.9782 - 49s/epoch - 547ms/step\n",
      "Epoch 10/10\n",
      "89/89 - 47s - loss: 0.0601 - accuracy: 0.9788 - val_loss: 0.0497 - val_accuracy: 0.9789 - 47s/epoch - 527ms/step\n",
      "Found 11367 validated image filenames belonging to 2 classes.\n",
      "Found 2841 validated image filenames belonging to 2 classes.\n"
     ]
    },
    {
     "name": "stderr",
     "output_type": "stream",
     "text": [
      "WARNING:absl:`lr` is deprecated in Keras optimizer, please use `learning_rate` or use the legacy optimizer, e.g.,tf.keras.optimizers.legacy.Adam.\n"
     ]
    },
    {
     "name": "stdout",
     "output_type": "stream",
     "text": [
      "Epoch 1/10\n",
      "89/89 - 50s - loss: 0.3816 - accuracy: 0.8206 - val_loss: 0.1997 - val_accuracy: 0.9219 - 50s/epoch - 567ms/step\n",
      "Epoch 2/10\n",
      "89/89 - 45s - loss: 0.1928 - accuracy: 0.9236 - val_loss: 0.1595 - val_accuracy: 0.9384 - 45s/epoch - 503ms/step\n",
      "Epoch 3/10\n",
      "89/89 - 48s - loss: 0.1360 - accuracy: 0.9488 - val_loss: 0.0982 - val_accuracy: 0.9662 - 48s/epoch - 539ms/step\n",
      "Epoch 4/10\n",
      "89/89 - 48s - loss: 0.1041 - accuracy: 0.9616 - val_loss: 0.0796 - val_accuracy: 0.9708 - 48s/epoch - 535ms/step\n",
      "Epoch 5/10\n",
      "89/89 - 46s - loss: 0.0744 - accuracy: 0.9726 - val_loss: 0.0607 - val_accuracy: 0.9789 - 46s/epoch - 514ms/step\n",
      "Epoch 6/10\n",
      "89/89 - 45s - loss: 0.0794 - accuracy: 0.9717 - val_loss: 0.0731 - val_accuracy: 0.9736 - 45s/epoch - 500ms/step\n",
      "Epoch 7/10\n",
      "89/89 - 46s - loss: 0.0725 - accuracy: 0.9733 - val_loss: 0.1064 - val_accuracy: 0.9571 - 46s/epoch - 513ms/step\n",
      "Epoch 8/10\n",
      "89/89 - 47s - loss: 0.0763 - accuracy: 0.9721 - val_loss: 0.0619 - val_accuracy: 0.9778 - 47s/epoch - 530ms/step\n",
      "Epoch 9/10\n",
      "89/89 - 48s - loss: 0.0614 - accuracy: 0.9778 - val_loss: 0.0473 - val_accuracy: 0.9817 - 48s/epoch - 542ms/step\n",
      "Epoch 10/10\n",
      "89/89 - 47s - loss: 0.0593 - accuracy: 0.9795 - val_loss: 0.0582 - val_accuracy: 0.9820 - 47s/epoch - 530ms/step\n",
      "Found 11367 validated image filenames belonging to 2 classes.\n",
      "Found 2841 validated image filenames belonging to 2 classes.\n"
     ]
    },
    {
     "name": "stderr",
     "output_type": "stream",
     "text": [
      "WARNING:absl:`lr` is deprecated in Keras optimizer, please use `learning_rate` or use the legacy optimizer, e.g.,tf.keras.optimizers.legacy.Adam.\n"
     ]
    },
    {
     "name": "stdout",
     "output_type": "stream",
     "text": [
      "Epoch 1/10\n",
      "89/89 - 48s - loss: 0.3403 - accuracy: 0.8379 - val_loss: 0.2113 - val_accuracy: 0.9138 - 48s/epoch - 535ms/step\n",
      "Epoch 2/10\n",
      "89/89 - 46s - loss: 0.1566 - accuracy: 0.9399 - val_loss: 0.2056 - val_accuracy: 0.9282 - 46s/epoch - 522ms/step\n",
      "Epoch 3/10\n",
      "89/89 - 46s - loss: 0.1178 - accuracy: 0.9565 - val_loss: 0.0830 - val_accuracy: 0.9704 - 46s/epoch - 522ms/step\n",
      "Epoch 4/10\n",
      "89/89 - 49s - loss: 0.0884 - accuracy: 0.9672 - val_loss: 0.0841 - val_accuracy: 0.9725 - 49s/epoch - 545ms/step\n",
      "Epoch 5/10\n",
      "89/89 - 45s - loss: 0.0685 - accuracy: 0.9762 - val_loss: 0.0568 - val_accuracy: 0.9778 - 45s/epoch - 501ms/step\n",
      "Epoch 6/10\n",
      "89/89 - 47s - loss: 0.0776 - accuracy: 0.9726 - val_loss: 0.0615 - val_accuracy: 0.9771 - 47s/epoch - 533ms/step\n",
      "Epoch 7/10\n",
      "89/89 - 49s - loss: 0.0694 - accuracy: 0.9748 - val_loss: 0.0571 - val_accuracy: 0.9828 - 49s/epoch - 547ms/step\n",
      "Epoch 8/10\n",
      "89/89 - 49s - loss: 0.0621 - accuracy: 0.9789 - val_loss: 0.0556 - val_accuracy: 0.9813 - 49s/epoch - 548ms/step\n",
      "Epoch 9/10\n",
      "89/89 - 40s - loss: 0.0573 - accuracy: 0.9795 - val_loss: 0.0494 - val_accuracy: 0.9835 - 40s/epoch - 454ms/step\n",
      "Epoch 10/10\n",
      "89/89 - 38s - loss: 0.0581 - accuracy: 0.9797 - val_loss: 0.0373 - val_accuracy: 0.9870 - 38s/epoch - 428ms/step\n",
      "Found 11367 validated image filenames belonging to 2 classes.\n",
      "Found 2841 validated image filenames belonging to 2 classes.\n"
     ]
    },
    {
     "name": "stderr",
     "output_type": "stream",
     "text": [
      "WARNING:absl:`lr` is deprecated in Keras optimizer, please use `learning_rate` or use the legacy optimizer, e.g.,tf.keras.optimizers.legacy.Adam.\n"
     ]
    },
    {
     "name": "stdout",
     "output_type": "stream",
     "text": [
      "Epoch 1/10\n",
      "89/89 - 42s - loss: 0.3834 - accuracy: 0.8196 - val_loss: 0.2105 - val_accuracy: 0.9208 - 42s/epoch - 473ms/step\n",
      "Epoch 2/10\n",
      "89/89 - 39s - loss: 0.1931 - accuracy: 0.9263 - val_loss: 0.1252 - val_accuracy: 0.9585 - 39s/epoch - 437ms/step\n",
      "Epoch 3/10\n",
      "89/89 - 38s - loss: 0.1100 - accuracy: 0.9594 - val_loss: 0.0707 - val_accuracy: 0.9750 - 38s/epoch - 423ms/step\n",
      "Epoch 4/10\n",
      "89/89 - 55s - loss: 0.0908 - accuracy: 0.9683 - val_loss: 0.0875 - val_accuracy: 0.9662 - 55s/epoch - 616ms/step\n",
      "Epoch 5/10\n",
      "89/89 - 118s - loss: 0.0715 - accuracy: 0.9740 - val_loss: 0.0655 - val_accuracy: 0.9747 - 118s/epoch - 1s/step\n",
      "Epoch 6/10\n",
      "89/89 - 29s - loss: 0.0765 - accuracy: 0.9729 - val_loss: 0.0549 - val_accuracy: 0.9824 - 29s/epoch - 321ms/step\n",
      "Epoch 7/10\n",
      "89/89 - 40s - loss: 0.0651 - accuracy: 0.9764 - val_loss: 0.0534 - val_accuracy: 0.9778 - 40s/epoch - 444ms/step\n",
      "Epoch 8/10\n",
      "89/89 - 38s - loss: 0.0570 - accuracy: 0.9800 - val_loss: 0.0413 - val_accuracy: 0.9845 - 38s/epoch - 423ms/step\n",
      "Epoch 9/10\n",
      "89/89 - 48s - loss: 0.0527 - accuracy: 0.9821 - val_loss: 0.0543 - val_accuracy: 0.9799 - 48s/epoch - 535ms/step\n",
      "Epoch 10/10\n",
      "89/89 - 47s - loss: 0.0540 - accuracy: 0.9815 - val_loss: 0.0487 - val_accuracy: 0.9828 - 47s/epoch - 524ms/step\n",
      "Found 11367 validated image filenames belonging to 2 classes.\n",
      "Found 2841 validated image filenames belonging to 2 classes.\n"
     ]
    },
    {
     "name": "stderr",
     "output_type": "stream",
     "text": [
      "WARNING:absl:`lr` is deprecated in Keras optimizer, please use `learning_rate` or use the legacy optimizer, e.g.,tf.keras.optimizers.legacy.Adam.\n"
     ]
    },
    {
     "name": "stdout",
     "output_type": "stream",
     "text": [
      "Epoch 1/10\n",
      "89/89 - 49s - loss: 0.3198 - accuracy: 0.8519 - val_loss: 0.1290 - val_accuracy: 0.9521 - 49s/epoch - 552ms/step\n",
      "Epoch 2/10\n",
      "89/89 - 45s - loss: 0.1557 - accuracy: 0.9394 - val_loss: 0.0979 - val_accuracy: 0.9676 - 45s/epoch - 507ms/step\n",
      "Epoch 3/10\n",
      "89/89 - 46s - loss: 0.0997 - accuracy: 0.9634 - val_loss: 0.0964 - val_accuracy: 0.9637 - 46s/epoch - 515ms/step\n",
      "Epoch 4/10\n",
      "89/89 - 50s - loss: 0.0869 - accuracy: 0.9674 - val_loss: 0.0764 - val_accuracy: 0.9743 - 50s/epoch - 557ms/step\n",
      "Epoch 5/10\n",
      "89/89 - 47s - loss: 0.0724 - accuracy: 0.9748 - val_loss: 0.0675 - val_accuracy: 0.9740 - 47s/epoch - 523ms/step\n",
      "Epoch 6/10\n",
      "89/89 - 44s - loss: 0.0741 - accuracy: 0.9733 - val_loss: 0.0509 - val_accuracy: 0.9831 - 44s/epoch - 494ms/step\n",
      "Epoch 7/10\n",
      "89/89 - 45s - loss: 0.0610 - accuracy: 0.9792 - val_loss: 0.0492 - val_accuracy: 0.9838 - 45s/epoch - 501ms/step\n",
      "Epoch 8/10\n",
      "89/89 - 46s - loss: 0.0575 - accuracy: 0.9798 - val_loss: 0.0503 - val_accuracy: 0.9799 - 46s/epoch - 515ms/step\n",
      "Epoch 9/10\n",
      "89/89 - 50s - loss: 0.0528 - accuracy: 0.9799 - val_loss: 0.0412 - val_accuracy: 0.9852 - 50s/epoch - 557ms/step\n",
      "Epoch 10/10\n",
      "89/89 - 46s - loss: 0.0534 - accuracy: 0.9817 - val_loss: 0.0376 - val_accuracy: 0.9866 - 46s/epoch - 515ms/step\n",
      "Best parameters: {'learning_rate': 0.0011421052631578948, 'batch_size': 128, 'shear_range': 0.2, 'zoom_range': 0.3, 'rotation_range': 35, 'width_shift_range': 0.3, 'height_shift_range': 0.1}, Best accuracy: 0.9887363314628601\n"
     ]
    }
   ],
   "source": [
    "import numpy as np\n",
    "import tensorflow as tf\n",
    "from tensorflow.keras.preprocessing.image import ImageDataGenerator\n",
    "from tensorflow.keras.models import Sequential\n",
    "from tensorflow.keras.layers import Conv2D, MaxPool2D, Flatten, Dense, Dropout\n",
    "from tensorflow.keras.optimizers import Adam\n",
    "\n",
    "# Function to create model\n",
    "def create_model(learning_rate=0.001):\n",
    "    model = Sequential([\n",
    "        Conv2D(filters=32, kernel_size=(3,3), padding='Same', activation='relu', input_shape=(64,64,3)),\n",
    "        MaxPool2D(pool_size=(2,2)),\n",
    "        Conv2D(filters=64, kernel_size=(3,3), padding='Same', activation='relu'),\n",
    "        MaxPool2D(pool_size=(2,2)),\n",
    "        Flatten(),\n",
    "        Dense(512, activation=\"relu\"),\n",
    "        Dropout(0.2),\n",
    "        Dense(256, activation=\"relu\"),\n",
    "        Dropout(0.2),\n",
    "        Dense(64, activation=\"relu\"),\n",
    "        Dense(2, activation=\"softmax\")\n",
    "    ])\n",
    "\n",
    "    optimizer = Adam(lr=learning_rate)\n",
    "    model.compile(optimizer=optimizer, loss='categorical_crossentropy', metrics=['accuracy'])\n",
    "    return model\n",
    "\n",
    "# Hyperparameter ranges\n",
    "learning_rate_range = np.linspace(0.0001, 0.01, 20)\n",
    "batch_size_options = [16, 32, 64, 128]\n",
    "shear_range_options = [0.1, 0.2, 0.3]\n",
    "zoom_range_options = [0.1, 0.2, 0.3]\n",
    "rotation_range_options = [15, 25, 35]\n",
    "width_shift_range_options = [0.1, 0.2, 0.3]\n",
    "height_shift_range_options = [0.1, 0.2, 0.3]\n",
    "\n",
    "num_trials = 10\n",
    "best_accuracy = 0\n",
    "best_params = {}\n",
    "\n",
    "for trial in range(num_trials):\n",
    "    # Randomly pick hyperparameters from the ranges\n",
    "    learning_rate = np.random.choice(learning_rate_range)\n",
    "    batch_size = np.random.choice(batch_size_options)\n",
    "    shear_range = np.random.choice(shear_range_options)\n",
    "    zoom_range = np.random.choice(zoom_range_options)\n",
    "    rotation_range = np.random.choice(rotation_range_options)\n",
    "    width_shift_range = np.random.choice(width_shift_range_options)\n",
    "    height_shift_range = np.random.choice(height_shift_range_options)\n",
    "\n",
    "    # Create ImageDataGenerator with the chosen parameters\n",
    "    train_datagen = ImageDataGenerator(\n",
    "        rescale=1./255,\n",
    "        shear_range=shear_range,\n",
    "        zoom_range=zoom_range,\n",
    "        rotation_range=rotation_range,\n",
    "        width_shift_range=width_shift_range,\n",
    "        height_shift_range=height_shift_range,\n",
    "        horizontal_flip=True,\n",
    "        validation_split=0.2\n",
    "    )\n",
    "\n",
    "    test_datagen = ImageDataGenerator(rescale=1./255)\n",
    "\n",
    "    # Set up your data generators as before\n",
    "    train_generator = train_datagen.flow_from_dataframe(\n",
    "        dataframe=X_train,\n",
    "        x_col=\"image\",\n",
    "        y_col=\"label\",\n",
    "        target_size=(64, 64),\n",
    "        color_mode=\"rgb\",\n",
    "        class_mode=\"categorical\",\n",
    "        batch_size=batch_size,\n",
    "        shuffle=True,\n",
    "        seed=2,\n",
    "        subset=\"training\")\n",
    "\n",
    "    validation_generator = train_datagen.flow_from_dataframe(\n",
    "        dataframe=X_train,\n",
    "        x_col=\"image\",\n",
    "        y_col=\"label\",\n",
    "        target_size=(64, 64),\n",
    "        color_mode=\"rgb\",\n",
    "        class_mode=\"categorical\",\n",
    "        batch_size=batch_size,\n",
    "        shuffle=True,\n",
    "        seed=2,\n",
    "        subset=\"validation\")\n",
    "\n",
    "    # Create and compile a new model with the chosen learning rate\n",
    "    model = create_model(learning_rate)\n",
    "\n",
    "    # Train the model using the train generator with the chosen batch size\n",
    "    model.fit(train_generator, epochs=10, validation_data=validation_generator, verbose=2)\n",
    "\n",
    "    # Evaluate the model using the validation generator\n",
    "    loss, accuracy = model.evaluate(validation_generator, verbose=0)\n",
    "\n",
    "    # Update the best hyperparameters if the current model is better\n",
    "    if accuracy > best_accuracy:\n",
    "        best_accuracy = accuracy\n",
    "        best_params = {\n",
    "            'learning_rate': learning_rate,\n",
    "            'batch_size': batch_size,\n",
    "            'shear_range': shear_range,\n",
    "            'zoom_range': zoom_range,\n",
    "            'rotation_range': rotation_range,\n",
    "            'width_shift_range': width_shift_range,\n",
    "            'height_shift_range': height_shift_range\n",
    "        }\n",
    "        print(f\"Trial {trial+1}/{num_trials}: Improved accuracy to {best_accuracy:.4f} with parameters {best_params}\")\n",
    "\n",
    "print(f\"Best parameters: {best_params}, Best accuracy: {best_accuracy}\")\n"
   ]
  },
  {
   "cell_type": "markdown",
   "id": "85a0560f-7748-4fd6-bc39-8f3548ac76dd",
   "metadata": {},
   "source": [
    "{'learning_rate': 0.0011421052631578948, 'batch_size': 128, 'shear_range': 0.2, 'zoom_range': 0.3, 'rotation_range': 35, 'width_shift_range': 0.3, 'height_shift_range': 0.1}"
   ]
  },
  {
   "cell_type": "markdown",
   "id": "e7b7d35e",
   "metadata": {},
   "source": [
    "`the best parameters are:\n",
    "    rescale = 1./255,\n",
    "    shear_range = 0.2,\n",
    "    zoom_range = 0.1,\n",
    "    rotation_range = 25,\n",
    "    width_shift_range = 0.1,\n",
    "    height_shift_range = 0.1,\n",
    "    horizontal_flip = True,\n",
    "    validation_split = 0.2`"
   ]
  },
  {
   "cell_type": "code",
   "execution_count": 107,
   "id": "1436eb1a",
   "metadata": {},
   "outputs": [
    {
     "name": "stdout",
     "output_type": "stream",
     "text": [
      "Found 11367 validated image filenames belonging to 2 classes.\n",
      "Found 2841 validated image filenames belonging to 2 classes.\n",
      "Found 3552 validated image filenames belonging to 2 classes.\n"
     ]
    }
   ],
   "source": [
    "training_set = train_datagen.flow_from_dataframe(\n",
    "    dataframe = X_train,\n",
    "    x_col = \"image\",\n",
    "    y_col = \"label\",\n",
    "    target_size = (64, 64),\n",
    "    color_mode = \"rgb\",\n",
    "    class_mode = \"categorical\",\n",
    "    batch_size = 32,\n",
    "    shuffle = True,\n",
    "    seed = 2,\n",
    "    subset = \"training\")\n",
    "\n",
    "validation_set = train_datagen.flow_from_dataframe(\n",
    "    dataframe = X_train,\n",
    "    x_col = \"image\",\n",
    "    y_col = \"label\",\n",
    "    target_size = (64, 64),\n",
    "    color_mode =\"rgb\",\n",
    "    class_mode = \"categorical\",\n",
    "    batch_size = 32,\n",
    "    shuffle = True,\n",
    "    seed = 2,\n",
    "    subset = \"validation\")\n",
    "\n",
    "test_set = test_datagen.flow_from_dataframe(\n",
    "    dataframe = X_final_test,\n",
    "    x_col = \"image\",\n",
    "    y_col = \"label\",\n",
    "    target_size = (64, 64),\n",
    "    color_mode =\"rgb\",\n",
    "    class_mode = \"categorical\",\n",
    "    shuffle = False,\n",
    "    batch_size = 32)"
   ]
  },
  {
   "cell_type": "code",
   "execution_count": 112,
   "id": "c6380b2d",
   "metadata": {},
   "outputs": [
    {
     "name": "stdout",
     "output_type": "stream",
     "text": [
      "Found 11367 validated image filenames belonging to 2 classes.\n",
      "Found 2841 validated image filenames belonging to 2 classes.\n"
     ]
    },
    {
     "name": "stderr",
     "output_type": "stream",
     "text": [
      "WARNING:absl:`lr` is deprecated in Keras optimizer, please use `learning_rate` or use the legacy optimizer, e.g.,tf.keras.optimizers.legacy.Adam.\n"
     ]
    },
    {
     "name": "stdout",
     "output_type": "stream",
     "text": [
      "Epoch 1/10\n",
      "285/285 - 50s - loss: 0.2536 - accuracy: 0.8892 - val_loss: 0.1603 - val_accuracy: 0.9345 - 50s/epoch - 175ms/step\n",
      "Epoch 2/10\n",
      "285/285 - 48s - loss: 0.1090 - accuracy: 0.9582 - val_loss: 0.0608 - val_accuracy: 0.9715 - 48s/epoch - 168ms/step\n",
      "Epoch 3/10\n",
      "285/285 - 47s - loss: 0.0811 - accuracy: 0.9720 - val_loss: 0.0584 - val_accuracy: 0.9810 - 47s/epoch - 164ms/step\n",
      "Epoch 4/10\n",
      "285/285 - 48s - loss: 0.0683 - accuracy: 0.9772 - val_loss: 0.0507 - val_accuracy: 0.9806 - 48s/epoch - 169ms/step\n",
      "Epoch 5/10\n",
      "285/285 - 49s - loss: 0.0533 - accuracy: 0.9815 - val_loss: 0.0411 - val_accuracy: 0.9852 - 49s/epoch - 171ms/step\n",
      "Epoch 6/10\n",
      "285/285 - 50s - loss: 0.0452 - accuracy: 0.9843 - val_loss: 0.0359 - val_accuracy: 0.9880 - 50s/epoch - 175ms/step\n",
      "Epoch 7/10\n",
      "285/285 - 48s - loss: 0.0484 - accuracy: 0.9822 - val_loss: 0.0359 - val_accuracy: 0.9880 - 48s/epoch - 170ms/step\n",
      "Epoch 8/10\n",
      "285/285 - 47s - loss: 0.0386 - accuracy: 0.9860 - val_loss: 0.0239 - val_accuracy: 0.9916 - 47s/epoch - 166ms/step\n",
      "Epoch 9/10\n",
      "285/285 - 47s - loss: 0.0456 - accuracy: 0.9845 - val_loss: 0.0383 - val_accuracy: 0.9870 - 47s/epoch - 165ms/step\n",
      "Epoch 10/10\n",
      "285/285 - 47s - loss: 0.0410 - accuracy: 0.9851 - val_loss: 0.0392 - val_accuracy: 0.9856 - 47s/epoch - 166ms/step\n",
      "Accuracy: 0.9859204292297363\n"
     ]
    }
   ],
   "source": [
    "# Function to create model\n",
    "def create_model(learning_rate=0.001):\n",
    "    model = Sequential([\n",
    "        Conv2D(filters=32, kernel_size=(3,3), padding='Same', activation='relu', input_shape=(64,64,3)),\n",
    "        MaxPool2D(pool_size=(2,2)),\n",
    "        Conv2D(filters=64, kernel_size=(3,3), padding='Same', activation='relu'),\n",
    "        MaxPool2D(pool_size=(2,2)),\n",
    "        Flatten(),\n",
    "        Dense(512, activation=\"relu\"),\n",
    "        Dropout(0.2),\n",
    "        Dense(256, activation=\"relu\"),\n",
    "        Dropout(0.2),\n",
    "        Dense(64, activation=\"relu\"),\n",
    "        Dense(2, activation=\"softmax\")\n",
    "    ])\n",
    "\n",
    "    optimizer = Adam(lr=learning_rate)\n",
    "    model.compile(optimizer=optimizer, loss='categorical_crossentropy', metrics=['accuracy'])\n",
    "    return model\n",
    "\n",
    "\n",
    "\n",
    "train_datagen = ImageDataGenerator(rescale = 1./255,\n",
    "                                    shear_range = 0.2,\n",
    "                                    zoom_range = 0.1,\n",
    "                                    rotation_range = 25,\n",
    "                                    width_shift_range = 0.1,\n",
    "                                    height_shift_range = 0.1,\n",
    "                                    horizontal_flip = True,\n",
    "                                    validation_split = 0.2)\n",
    "\n",
    "test_datagen = ImageDataGenerator(rescale = 1./255)\n",
    "    \n",
    "    # Set up your data generators as before\n",
    "train_generator = train_datagen.flow_from_dataframe(\n",
    "    dataframe=X_train,\n",
    "    x_col=\"image\",\n",
    "    y_col=\"label\",\n",
    "    target_size=(64, 64),\n",
    "    color_mode=\"rgb\",\n",
    "    class_mode=\"categorical\",\n",
    "    batch_size=40,\n",
    "    shuffle=True,\n",
    "    seed=2,\n",
    "    subset=\"training\")\n",
    "\n",
    "validation_generator = train_datagen.flow_from_dataframe(\n",
    "    dataframe=X_train,\n",
    "    x_col=\"image\",\n",
    "    y_col=\"label\",\n",
    "    target_size=(64, 64),\n",
    "    color_mode=\"rgb\",\n",
    "    class_mode=\"categorical\",\n",
    "    batch_size=40,\n",
    "    shuffle=True,\n",
    "    seed=2,\n",
    "    subset=\"validation\")\n",
    "\n",
    "    # Create and compile a new model with the chosen learning rate\n",
    "model = create_model(0.001)\n",
    "\n",
    "# Train the model using the train generator with the chosen batch size\n",
    "model.fit(train_generator, epochs=10, validation_data=validation_generator, verbose=2)\n",
    "\n",
    "# Evaluate the model using the validation generator\n",
    "loss, accuracy = model.evaluate(validation_generator, verbose=0)\n",
    "\n",
    "# Update the best hyperparameters if the current model is better\n",
    "print(f\"Accuracy: {accuracy}\")"
   ]
  },
  {
   "cell_type": "code",
   "execution_count": 113,
   "id": "ee1267b1-d6f5-43fc-8b1e-d91690dfef4b",
   "metadata": {},
   "outputs": [
    {
     "name": "stdout",
     "output_type": "stream",
     "text": [
      "Accuracy: [0.016442682594060898, 0.994087815284729]\n"
     ]
    }
   ],
   "source": [
    "accuracy = model.evaluate(test_set, verbose=0)\n",
    "print(f\"Accuracy: {accuracy}\")"
   ]
  },
  {
   "cell_type": "code",
   "execution_count": 114,
   "id": "26116594-2cbd-46e5-8a9b-663465be305c",
   "metadata": {},
   "outputs": [
    {
     "name": "stdout",
     "output_type": "stream",
     "text": [
      "111/111 [==============================] - 5s 45ms/step\n",
      "3552\n"
     ]
    },
    {
     "data": {
      "image/png": "[encoded data removed]",
      "text/plain": [
       "<Figure size 700x600 with 2 Axes>"
      ]
     },
     "metadata": {},
     "output_type": "display_data"
    }
   ],
   "source": [
    "from sklearn.metrics import confusion_matrix\n",
    "import matplotlib.pyplot as plt\n",
    "import seaborn as sns\n",
    "\n",
    "predictions = model.predict(test_set)\n",
    "predicted_labels = np.argmax(predictions, axis=1)\n",
    "print(len(predicted_labels))\n",
    "true_labels = test_set.classes\n",
    "\n",
    "# Compute confusion matrix\n",
    "cm = confusion_matrix(np.array(true_labels), predicted_labels)\n",
    "\n",
    "# Plot confusion matrix\n",
    "plt.figure(figsize=(7, 6))\n",
    "sns.heatmap(cm, fmt='d',cmap=\"Blues\", xticklabels=test_set.class_indices.keys(), yticklabels=test_set.class_indices.keys(),annot=True)\n",
    "plt.xlabel('Predicted labels')\n",
    "plt.ylabel('True labels')\n",
    "plt.title('Confusion Matrix')\n",
    "plt.tight_layout()\n",
    "plt.show()"
   ]
  },
  {
   "cell_type": "code",
   "execution_count": null,
   "id": "8fef8e50-db67-472c-93ec-a2067b41f974",
   "metadata": {},
   "outputs": [],
   "source": []
  },
  {
   "cell_type": "code",
   "execution_count": 115,
   "id": "2bc29c81-abb6-47f9-b2f1-68d34cdace82",
   "metadata": {},
   "outputs": [
    {
     "name": "stdout",
     "output_type": "stream",
     "text": [
      "Confusion Matrix:\n",
      "              non-vehicles  vehicles\n",
      "non-vehicles          1791         8\n",
      "vehicles                13      1740\n"
     ]
    }
   ],
   "source": [
    "cm_df = pd.DataFrame(cm, index=test_set.class_indices.keys(), columns=test_set.class_indices.keys())\n",
    "\n",
    "print(\"Confusion Matrix:\")\n",
    "print(cm_df)"
   ]
  },
  {
   "cell_type": "code",
   "execution_count": null,
   "id": "24fa6874-2c52-49b2-9b55-5f6cf7874916",
   "metadata": {},
   "outputs": [],
   "source": []
  },
  {
   "cell_type": "code",
   "execution_count": null,
   "id": "ac302fad-8bed-4514-aee0-1c4bfd9deab0",
   "metadata": {},
   "outputs": [],
   "source": []
  },
  {
   "cell_type": "code",
   "execution_count": null,
   "id": "c7ddf486-3105-4845-8c04-771d5b4d4772",
   "metadata": {},
   "outputs": [],
   "source": []
  }
 ],
 "metadata": {
  "kernelspec": {
   "display_name": "Python 3 (ipykernel)",
   "language": "python",
   "name": "python3"
  },
  "language_info": {
   "codemirror_mode": {
    "name": "ipython",
    "version": 3
   },
   "file_extension": ".py",
   "mimetype": "text/x-python",
   "name": "python",
   "nbconvert_exporter": "python",
   "pygments_lexer": "ipython3",
   "version": "3.11.5"
  }
 },
 "nbformat": 4,
 "nbformat_minor": 5
}
