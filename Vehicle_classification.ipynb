{
 "cells": [
  {
   "cell_type": "code",
   "execution_count": 37,
   "id": "ce730d0a",
   "metadata": {},
   "outputs": [],
   "source": [
    "import os\n",
    "import glob\n",
    "import cv2\n",
    "import pandas as pd\n",
    "import matplotlib.pyplot as plt\n",
    "import numpy as np\n",
    "import tensorflow as tf\n",
    "from PIL import Image\n",
    "from sklearn.model_selection import train_test_split\n",
    "from tensorflow.keras.preprocessing.image import ImageDataGenerator\n",
    "from tensorflow.keras.models import Sequential\n",
    "from tensorflow.keras.layers import Dense, Flatten, Conv2D, MaxPool2D, Dropout\n",
    "from sklearn.metrics import confusion_matrix, classification_report,ConfusionMatrixDisplay\n",
    "%matplotlib inline\n",
    "import seaborn as sns\n",
    "import warnings\n",
    "warnings.filterwarnings('ignore')\n",
    "from tqdm import tqdm\n",
    "from numpy import asarray\n",
    "np.set_printoptions(precision=5)#show 5 number after decimal point \n",
    "\n",
    "from sklearn.decomposition import PCA\n",
    "from sklearn.pipeline import Pipeline\n",
    "from sklearn.cluster import KMeans\n",
    "from sklearn.linear_model import LogisticRegression\n",
    "from sklearn.dummy import DummyClassifier\n",
    "\n",
    "from sklearn import metrics\n",
    "from sklearn.metrics import accuracy_score, precision_score, recall_score\n"
   ]
  },
  {
   "cell_type": "code",
   "execution_count": 2,
   "id": "4c415e3b",
   "metadata": {},
   "outputs": [],
   "source": [
    "base_dir = r\"data\"  # Define your base directory\n",
    "label = []       # Labels for each category\n",
    "images_path = [] # Paths of all images\n",
    "all_images = []  # Names of all images\n",
    "img_label = []   # Labels corresponding to each image\n",
    "\n",
    "for directory in os.listdir(base_dir):\n",
    "    if os.path.isdir(os.path.join(base_dir, directory)):\n",
    "        label.append(directory)\n",
    "        # Using glob to find all jpg, jpeg, and png files\n",
    "        for img_path in glob.glob(os.path.join(base_dir, directory, '*.jpg')) + \\\n",
    "                        glob.glob(os.path.join(base_dir, directory, '*.jpeg')) + \\\n",
    "                        glob.glob(os.path.join(base_dir, directory, '*.png')):\n",
    "            img_name = os.path.basename(img_path)\n",
    "            all_images.append(img_name)\n",
    "            images_path.append(img_path)\n",
    "            img_label.append(directory)\n"
   ]
  },
  {
   "cell_type": "code",
   "execution_count": 45,
   "id": "656f2744",
   "metadata": {},
   "outputs": [],
   "source": [
    "def upload_data(vehicle_dir, non_vehicle_dir):\n",
    "    data_in_matrix = []\n",
    "    \n",
    "    for img_name in tqdm(os.listdir(vehicle_dir)):\n",
    "        img_path = os.path.join(vehicle_dir, img_name)\n",
    "        image = Image.open(img_path)  # No conversion to 'L' here\n",
    "        image_array = np.asarray(image)\n",
    "        data_in_matrix.append([image_array, 1]) \n",
    "\n",
    "    # Upload non-vehicle images\n",
    "    for img_name in tqdm(os.listdir(non_vehicle_dir)):\n",
    "        img_path = os.path.join(non_vehicle_dir, img_name)\n",
    "        image = Image.open(img_path)  # No conversion to 'L' here\n",
    "        image_array = np.asarray(image)\n",
    "        data_in_matrix.append([image_array, 0])  \n",
    "\n",
    "    # Convert data to a NumPy array\n",
    "    data_in_matrix = np.array(data_in_matrix, dtype=object)\n",
    "    \n",
    "    return data_in_matrix\n",
    "\n",
    "# Define the paths\n",
    "vehicles_url = r\"data\\vehicles\"\n",
    "non_vehicles_url = r\"data\\non-vehicles\""
   ]
  },
  {
   "cell_type": "code",
   "execution_count": 46,
   "id": "ac54394d",
   "metadata": {},
   "outputs": [
    {
     "name": "stderr",
     "output_type": "stream",
     "text": [
      "100%|█████████████████████████████████████████████████████████████████████████████| 8792/8792 [00:14<00:00, 620.60it/s]\n",
      "100%|█████████████████████████████████████████████████████████████████████████████| 8968/8968 [00:14<00:00, 606.67it/s]\n"
     ]
    }
   ],
   "source": [
    "data_in_matrix = upload_data(vehicles_url, non_vehicles_url)"
   ]
  },
  {
   "cell_type": "code",
   "execution_count": 47,
   "id": "6a849628",
   "metadata": {},
   "outputs": [],
   "source": [
    "def extract_features_labels(data):\n",
    "    X = []\n",
    "    y = []\n",
    "\n",
    "    for image_array, label in data:\n",
    "        X.append(image_array)\n",
    "        y.append(label)\n",
    "\n",
    "    X = np.array(X)\n",
    "    y = np.array(y)\n",
    "\n",
    "    return X, y\n"
   ]
  },
  {
   "cell_type": "code",
   "execution_count": 48,
   "id": "c68941d1",
   "metadata": {},
   "outputs": [],
   "source": [
    "# Extract features (X) and labels (y)\n",
    "mat_x, mat_y = extract_features_labels(data_in_matrix)"
   ]
  },
  {
   "cell_type": "code",
   "execution_count": 50,
   "id": "def24962",
   "metadata": {},
   "outputs": [],
   "source": [
    "mat_x = mat_x/255.0"
   ]
  },
  {
   "cell_type": "code",
   "execution_count": 51,
   "id": "c5fd1eda",
   "metadata": {},
   "outputs": [],
   "source": [
    "#split the data to train and test \n",
    "X_train_mat, X_test_mat, y_train_mat, y_test_mat = train_test_split(mat_x,mat_y, test_size=0.2, random_state=42)\n",
    "#split the train\n",
    "X_train_mat, X_val_mat, y_train_mat, y_val_mat = train_test_split(X_train_mat,y_train_mat, test_size=0.2, random_state=42)"
   ]
  },
  {
   "cell_type": "code",
   "execution_count": 3,
   "id": "aa686aa0",
   "metadata": {},
   "outputs": [
    {
     "name": "stdout",
     "output_type": "stream",
     "text": [
      "Labels : ['non-vehicles', 'vehicles']\n",
      "Total Images : 17760\n",
      " Images shape : (64, 64, 3)\n"
     ]
    }
   ],
   "source": [
    "img_shape = cv2.imread(images_path[0])\n",
    "\n",
    "print(f\"Labels : { label}\")\n",
    "print(f\"Total Images : {len(all_images)}\")\n",
    "print(f\" Images shape : {img_shape.shape}\")"
   ]
  },
  {
   "cell_type": "code",
   "execution_count": 75,
   "id": "05ddb1d0",
   "metadata": {},
   "outputs": [
    {
     "data": {
      "text/html": [
       "<div>\n",
       "<style scoped>\n",
       "    .dataframe tbody tr th:only-of-type {\n",
       "        vertical-align: middle;\n",
       "    }\n",
       "\n",
       "    .dataframe tbody tr th {\n",
       "        vertical-align: top;\n",
       "    }\n",
       "\n",
       "    .dataframe thead th {\n",
       "        text-align: right;\n",
       "    }\n",
       "</style>\n",
       "<table border=\"1\" class=\"dataframe\">\n",
       "  <thead>\n",
       "    <tr style=\"text-align: right;\">\n",
       "      <th></th>\n",
       "      <th>image</th>\n",
       "      <th>label</th>\n",
       "    </tr>\n",
       "  </thead>\n",
       "  <tbody>\n",
       "    <tr>\n",
       "      <th>0</th>\n",
       "      <td>data\\non-vehicles\\extra1.png</td>\n",
       "      <td>non-vehicles</td>\n",
       "    </tr>\n",
       "    <tr>\n",
       "      <th>1</th>\n",
       "      <td>data\\non-vehicles\\extra10.png</td>\n",
       "      <td>non-vehicles</td>\n",
       "    </tr>\n",
       "    <tr>\n",
       "      <th>2</th>\n",
       "      <td>data\\non-vehicles\\extra100.png</td>\n",
       "      <td>non-vehicles</td>\n",
       "    </tr>\n",
       "    <tr>\n",
       "      <th>3</th>\n",
       "      <td>data\\non-vehicles\\extra1000.png</td>\n",
       "      <td>non-vehicles</td>\n",
       "    </tr>\n",
       "    <tr>\n",
       "      <th>4</th>\n",
       "      <td>data\\non-vehicles\\extra1001.png</td>\n",
       "      <td>non-vehicles</td>\n",
       "    </tr>\n",
       "    <tr>\n",
       "      <th>...</th>\n",
       "      <td>...</td>\n",
       "      <td>...</td>\n",
       "    </tr>\n",
       "    <tr>\n",
       "      <th>17755</th>\n",
       "      <td>data\\vehicles\\right (95).png</td>\n",
       "      <td>vehicles</td>\n",
       "    </tr>\n",
       "    <tr>\n",
       "      <th>17756</th>\n",
       "      <td>data\\vehicles\\right (96).png</td>\n",
       "      <td>vehicles</td>\n",
       "    </tr>\n",
       "    <tr>\n",
       "      <th>17757</th>\n",
       "      <td>data\\vehicles\\right (97).png</td>\n",
       "      <td>vehicles</td>\n",
       "    </tr>\n",
       "    <tr>\n",
       "      <th>17758</th>\n",
       "      <td>data\\vehicles\\right (98).png</td>\n",
       "      <td>vehicles</td>\n",
       "    </tr>\n",
       "    <tr>\n",
       "      <th>17759</th>\n",
       "      <td>data\\vehicles\\right (99).png</td>\n",
       "      <td>vehicles</td>\n",
       "    </tr>\n",
       "  </tbody>\n",
       "</table>\n",
       "<p>17760 rows × 2 columns</p>\n",
       "</div>"
      ],
      "text/plain": [
       "                                 image         label\n",
       "0         data\\non-vehicles\\extra1.png  non-vehicles\n",
       "1        data\\non-vehicles\\extra10.png  non-vehicles\n",
       "2       data\\non-vehicles\\extra100.png  non-vehicles\n",
       "3      data\\non-vehicles\\extra1000.png  non-vehicles\n",
       "4      data\\non-vehicles\\extra1001.png  non-vehicles\n",
       "...                                ...           ...\n",
       "17755     data\\vehicles\\right (95).png      vehicles\n",
       "17756     data\\vehicles\\right (96).png      vehicles\n",
       "17757     data\\vehicles\\right (97).png      vehicles\n",
       "17758     data\\vehicles\\right (98).png      vehicles\n",
       "17759     data\\vehicles\\right (99).png      vehicles\n",
       "\n",
       "[17760 rows x 2 columns]"
      ]
     },
     "execution_count": 75,
     "metadata": {},
     "output_type": "execute_result"
    }
   ],
   "source": [
    "data =pd.DataFrame({'image':images_path,'label':img_label}) \n",
    "data"
   ]
  },
  {
   "cell_type": "code",
   "execution_count": 76,
   "id": "c03ebbce",
   "metadata": {},
   "outputs": [
    {
     "data": {
      "text/html": [
       "<div>\n",
       "<style scoped>\n",
       "    .dataframe tbody tr th:only-of-type {\n",
       "        vertical-align: middle;\n",
       "    }\n",
       "\n",
       "    .dataframe tbody tr th {\n",
       "        vertical-align: top;\n",
       "    }\n",
       "\n",
       "    .dataframe thead th {\n",
       "        text-align: right;\n",
       "    }\n",
       "</style>\n",
       "<table border=\"1\" class=\"dataframe\">\n",
       "  <thead>\n",
       "    <tr style=\"text-align: right;\">\n",
       "      <th></th>\n",
       "      <th>index</th>\n",
       "      <th>image</th>\n",
       "      <th>label</th>\n",
       "    </tr>\n",
       "  </thead>\n",
       "  <tbody>\n",
       "    <tr>\n",
       "      <th>0</th>\n",
       "      <td>941</td>\n",
       "      <td>data\\non-vehicles\\extra2104.png</td>\n",
       "      <td>non-vehicles</td>\n",
       "    </tr>\n",
       "    <tr>\n",
       "      <th>1</th>\n",
       "      <td>1316</td>\n",
       "      <td>data\\non-vehicles\\extra2490.png</td>\n",
       "      <td>non-vehicles</td>\n",
       "    </tr>\n",
       "    <tr>\n",
       "      <th>2</th>\n",
       "      <td>16805</td>\n",
       "      <td>data\\vehicles\\middle (214).png</td>\n",
       "      <td>vehicles</td>\n",
       "    </tr>\n",
       "    <tr>\n",
       "      <th>3</th>\n",
       "      <td>1289</td>\n",
       "      <td>data\\non-vehicles\\extra2466.png</td>\n",
       "      <td>non-vehicles</td>\n",
       "    </tr>\n",
       "    <tr>\n",
       "      <th>4</th>\n",
       "      <td>7761</td>\n",
       "      <td>data\\non-vehicles\\image3422.png</td>\n",
       "      <td>non-vehicles</td>\n",
       "    </tr>\n",
       "  </tbody>\n",
       "</table>\n",
       "</div>"
      ],
      "text/plain": [
       "   index                            image         label\n",
       "0    941  data\\non-vehicles\\extra2104.png  non-vehicles\n",
       "1   1316  data\\non-vehicles\\extra2490.png  non-vehicles\n",
       "2  16805   data\\vehicles\\middle (214).png      vehicles\n",
       "3   1289  data\\non-vehicles\\extra2466.png  non-vehicles\n",
       "4   7761  data\\non-vehicles\\image3422.png  non-vehicles"
      ]
     },
     "execution_count": 76,
     "metadata": {},
     "output_type": "execute_result"
    }
   ],
   "source": [
    "data = data.sample(frac=1).reset_index()\n",
    "data.head()"
   ]
  },
  {
   "cell_type": "code",
   "execution_count": 77,
   "id": "70f2f0ce",
   "metadata": {},
   "outputs": [
    {
     "data": {
      "image/png": "[encoded data removed]",
      "text/plain": [
       "<Figure size 1080x1080 with 4 Axes>"
      ]
     },
     "metadata": {
      "needs_background": "light"
     },
     "output_type": "display_data"
    }
   ],
   "source": [
    "fig = plt.figure(figsize=(15,15))\n",
    "\n",
    "for i in range(4):\n",
    "    fig.add_subplot(4,4,i+1).set_title(data['label'][i])\n",
    "    img = cv2.imread(data['image'][i])\n",
    "    plt.imshow(img)\n",
    "    \n",
    "plt.show()"
   ]
  },
  {
   "cell_type": "code",
   "execution_count": 78,
   "id": "7ebebc09",
   "metadata": {},
   "outputs": [
    {
     "name": "stdout",
     "output_type": "stream",
     "text": [
      "<class 'pandas.core.frame.DataFrame'>\n",
      "RangeIndex: 17760 entries, 0 to 17759\n",
      "Data columns (total 3 columns):\n",
      " #   Column  Non-Null Count  Dtype \n",
      "---  ------  --------------  ----- \n",
      " 0   index   17760 non-null  int64 \n",
      " 1   image   17760 non-null  object\n",
      " 2   label   17760 non-null  object\n",
      "dtypes: int64(1), object(2)\n",
      "memory usage: 416.4+ KB\n"
     ]
    }
   ],
   "source": [
    "data.info()"
   ]
  },
  {
   "cell_type": "code",
   "execution_count": 79,
   "id": "c42d5d9c",
   "metadata": {},
   "outputs": [
    {
     "data": {
      "text/plain": [
       "non-vehicles    8968\n",
       "vehicles        8792\n",
       "Name: label, dtype: int64"
      ]
     },
     "execution_count": 79,
     "metadata": {},
     "output_type": "execute_result"
    }
   ],
   "source": [
    "data['label'].value_counts()"
   ]
  },
  {
   "cell_type": "markdown",
   "id": "311739f1",
   "metadata": {},
   "source": [
    "# As we can see the data is more or less equally distributed."
   ]
  },
  {
   "cell_type": "code",
   "execution_count": 90,
   "id": "494b0f1e",
   "metadata": {},
   "outputs": [],
   "source": [
    "X = data.drop('index',axis=1)\n",
    "# X = X.drop('index',axis=1)\n",
    "Y = data.label"
   ]
  },
  {
   "cell_type": "code",
   "execution_count": 91,
   "id": "dac94ec8",
   "metadata": {},
   "outputs": [
    {
     "data": {
      "text/html": [
       "<div>\n",
       "<style scoped>\n",
       "    .dataframe tbody tr th:only-of-type {\n",
       "        vertical-align: middle;\n",
       "    }\n",
       "\n",
       "    .dataframe tbody tr th {\n",
       "        vertical-align: top;\n",
       "    }\n",
       "\n",
       "    .dataframe thead th {\n",
       "        text-align: right;\n",
       "    }\n",
       "</style>\n",
       "<table border=\"1\" class=\"dataframe\">\n",
       "  <thead>\n",
       "    <tr style=\"text-align: right;\">\n",
       "      <th></th>\n",
       "      <th>image</th>\n",
       "      <th>label</th>\n",
       "    </tr>\n",
       "  </thead>\n",
       "  <tbody>\n",
       "    <tr>\n",
       "      <th>0</th>\n",
       "      <td>data\\non-vehicles\\extra2104.png</td>\n",
       "      <td>non-vehicles</td>\n",
       "    </tr>\n",
       "    <tr>\n",
       "      <th>1</th>\n",
       "      <td>data\\non-vehicles\\extra2490.png</td>\n",
       "      <td>non-vehicles</td>\n",
       "    </tr>\n",
       "    <tr>\n",
       "      <th>2</th>\n",
       "      <td>data\\vehicles\\middle (214).png</td>\n",
       "      <td>vehicles</td>\n",
       "    </tr>\n",
       "    <tr>\n",
       "      <th>3</th>\n",
       "      <td>data\\non-vehicles\\extra2466.png</td>\n",
       "      <td>non-vehicles</td>\n",
       "    </tr>\n",
       "    <tr>\n",
       "      <th>4</th>\n",
       "      <td>data\\non-vehicles\\image3422.png</td>\n",
       "      <td>non-vehicles</td>\n",
       "    </tr>\n",
       "    <tr>\n",
       "      <th>...</th>\n",
       "      <td>...</td>\n",
       "      <td>...</td>\n",
       "    </tr>\n",
       "    <tr>\n",
       "      <th>17755</th>\n",
       "      <td>data\\non-vehicles\\extra550.png</td>\n",
       "      <td>non-vehicles</td>\n",
       "    </tr>\n",
       "    <tr>\n",
       "      <th>17756</th>\n",
       "      <td>data\\vehicles\\middle (64).png</td>\n",
       "      <td>vehicles</td>\n",
       "    </tr>\n",
       "    <tr>\n",
       "      <th>17757</th>\n",
       "      <td>data\\non-vehicles\\image2496.png</td>\n",
       "      <td>non-vehicles</td>\n",
       "    </tr>\n",
       "    <tr>\n",
       "      <th>17758</th>\n",
       "      <td>data\\vehicles\\left (601).png</td>\n",
       "      <td>vehicles</td>\n",
       "    </tr>\n",
       "    <tr>\n",
       "      <th>17759</th>\n",
       "      <td>data\\non-vehicles\\extra5333.png</td>\n",
       "      <td>non-vehicles</td>\n",
       "    </tr>\n",
       "  </tbody>\n",
       "</table>\n",
       "<p>17760 rows × 2 columns</p>\n",
       "</div>"
      ],
      "text/plain": [
       "                                 image         label\n",
       "0      data\\non-vehicles\\extra2104.png  non-vehicles\n",
       "1      data\\non-vehicles\\extra2490.png  non-vehicles\n",
       "2       data\\vehicles\\middle (214).png      vehicles\n",
       "3      data\\non-vehicles\\extra2466.png  non-vehicles\n",
       "4      data\\non-vehicles\\image3422.png  non-vehicles\n",
       "...                                ...           ...\n",
       "17755   data\\non-vehicles\\extra550.png  non-vehicles\n",
       "17756    data\\vehicles\\middle (64).png      vehicles\n",
       "17757  data\\non-vehicles\\image2496.png  non-vehicles\n",
       "17758     data\\vehicles\\left (601).png      vehicles\n",
       "17759  data\\non-vehicles\\extra5333.png  non-vehicles\n",
       "\n",
       "[17760 rows x 2 columns]"
      ]
     },
     "execution_count": 91,
     "metadata": {},
     "output_type": "execute_result"
    }
   ],
   "source": [
    "X"
   ]
  },
  {
   "cell_type": "code",
   "execution_count": 93,
   "id": "3ff51ac0",
   "metadata": {},
   "outputs": [
    {
     "name": "stdout",
     "output_type": "stream",
     "text": [
      "(14208, 2)\n",
      "(3552, 2)\n"
     ]
    }
   ],
   "source": [
    "X_train, X_final_test, y_train, y_final_test = train_test_split(X,Y, test_size=0.2, random_state=42)\n",
    "print(X_train.shape)\n",
    "print(X_final_test.shape)"
   ]
  },
  {
   "cell_type": "code",
   "execution_count": 95,
   "id": "0e369594",
   "metadata": {},
   "outputs": [
    {
     "data": {
      "text/plain": [
       "15610    non-vehicles\n",
       "5230     non-vehicles\n",
       "15224    non-vehicles\n",
       "83           vehicles\n",
       "14570    non-vehicles\n",
       "             ...     \n",
       "11284    non-vehicles\n",
       "11964        vehicles\n",
       "5390     non-vehicles\n",
       "860          vehicles\n",
       "15795    non-vehicles\n",
       "Name: label, Length: 14208, dtype: object"
      ]
     },
     "execution_count": 95,
     "metadata": {},
     "output_type": "execute_result"
    }
   ],
   "source": [
    "y_train"
   ]
  },
  {
   "cell_type": "code",
   "execution_count": 96,
   "id": "0086068a",
   "metadata": {},
   "outputs": [],
   "source": [
    "train_datagen = ImageDataGenerator(rescale = 1./255,\n",
    "                                    shear_range = 0.2,\n",
    "                                    zoom_range = 0.1,\n",
    "                                    rotation_range = 25,\n",
    "                                    width_shift_range = 0.1,\n",
    "                                    height_shift_range = 0.1,\n",
    "                                    horizontal_flip = True,\n",
    "                                    validation_split = 0.2)\n",
    "\n",
    "test_datagen = ImageDataGenerator(rescale = 1./255)"
   ]
  },
  {
   "cell_type": "code",
   "execution_count": 88,
   "id": "5b9142ff",
   "metadata": {},
   "outputs": [
    {
     "name": "stdout",
     "output_type": "stream",
     "text": [
      "The DummyClassifier score is: 0.497\n"
     ]
    }
   ],
   "source": [
    "# Before we try real models, we will try a dummyClassifier. we will try to get high score than the dummyModel.\n",
    "dummy_clf = DummyClassifier(strategy=\"most_frequent\", random_state=42)\n",
    "dummy_clf.fit(X_train_mat, y_train_mat)\n",
    "y_pred = dummy_clf.predict(X_val_mat)\n",
    "print(\"The DummyClassifier score is:\" ,round(accuracy_score(y_pred,y_val_mat),3))"
   ]
  },
  {
   "cell_type": "code",
   "execution_count": 66,
   "id": "1e84a4a7",
   "metadata": {},
   "outputs": [
    {
     "name": "stdout",
     "output_type": "stream",
     "text": [
      "Epoch 1/50\n",
      "356/356 [==============================] - 2s 3ms/step - loss: 0.3996 - accuracy: 0.8301 - val_loss: 0.2963 - val_accuracy: 0.8930\n",
      "Epoch 2/50\n",
      "356/356 [==============================] - 1s 3ms/step - loss: 0.3074 - accuracy: 0.8779 - val_loss: 0.2779 - val_accuracy: 0.8973\n",
      "Epoch 3/50\n",
      "356/356 [==============================] - 1s 3ms/step - loss: 0.2787 - accuracy: 0.8968 - val_loss: 0.2554 - val_accuracy: 0.9071\n",
      "Epoch 4/50\n",
      "356/356 [==============================] - 1s 2ms/step - loss: 0.2546 - accuracy: 0.9014 - val_loss: 0.2773 - val_accuracy: 0.8927\n",
      "Epoch 5/50\n",
      "356/356 [==============================] - 1s 3ms/step - loss: 0.2460 - accuracy: 0.9081 - val_loss: 0.2426 - val_accuracy: 0.9124\n",
      "Epoch 6/50\n",
      "356/356 [==============================] - 1s 2ms/step - loss: 0.2369 - accuracy: 0.9099 - val_loss: 0.2364 - val_accuracy: 0.9131\n",
      "Epoch 7/50\n",
      "356/356 [==============================] - 1s 2ms/step - loss: 0.2253 - accuracy: 0.9149 - val_loss: 0.2397 - val_accuracy: 0.9106\n",
      "Epoch 8/50\n",
      "356/356 [==============================] - 1s 3ms/step - loss: 0.2167 - accuracy: 0.9198 - val_loss: 0.2281 - val_accuracy: 0.9229\n",
      "Epoch 9/50\n",
      "356/356 [==============================] - 1s 3ms/step - loss: 0.2065 - accuracy: 0.9248 - val_loss: 0.2231 - val_accuracy: 0.9233\n",
      "Epoch 10/50\n",
      "356/356 [==============================] - 1s 3ms/step - loss: 0.2139 - accuracy: 0.9225 - val_loss: 0.2086 - val_accuracy: 0.9324\n",
      "Epoch 11/50\n",
      "356/356 [==============================] - 1s 3ms/step - loss: 0.1875 - accuracy: 0.9328 - val_loss: 0.2177 - val_accuracy: 0.9233\n",
      "Epoch 12/50\n",
      "356/356 [==============================] - 1s 3ms/step - loss: 0.1919 - accuracy: 0.9287 - val_loss: 0.2135 - val_accuracy: 0.9268\n",
      "Epoch 13/50\n",
      "356/356 [==============================] - 1s 3ms/step - loss: 0.1920 - accuracy: 0.9292 - val_loss: 0.2025 - val_accuracy: 0.9342\n",
      "Epoch 14/50\n",
      "356/356 [==============================] - 1s 3ms/step - loss: 0.1825 - accuracy: 0.9353 - val_loss: 0.2162 - val_accuracy: 0.9240\n",
      "Epoch 15/50\n",
      "356/356 [==============================] - 1s 3ms/step - loss: 0.1871 - accuracy: 0.9334 - val_loss: 0.2099 - val_accuracy: 0.9289\n",
      "Epoch 16/50\n",
      "356/356 [==============================] - 1s 2ms/step - loss: 0.1903 - accuracy: 0.9304 - val_loss: 0.2153 - val_accuracy: 0.9268\n",
      "Epoch 17/50\n",
      "356/356 [==============================] - 1s 2ms/step - loss: 0.1983 - accuracy: 0.9273 - val_loss: 0.3260 - val_accuracy: 0.8934\n",
      "Epoch 18/50\n",
      "356/356 [==============================] - 1s 3ms/step - loss: 0.1748 - accuracy: 0.9374 - val_loss: 0.2763 - val_accuracy: 0.9096\n",
      "Epoch 19/50\n",
      "356/356 [==============================] - 1s 2ms/step - loss: 0.1749 - accuracy: 0.9387 - val_loss: 0.2251 - val_accuracy: 0.9201\n",
      "Epoch 20/50\n",
      "356/356 [==============================] - 1s 2ms/step - loss: 0.1678 - accuracy: 0.9424 - val_loss: 0.3853 - val_accuracy: 0.8286\n",
      "Epoch 21/50\n",
      "356/356 [==============================] - 1s 3ms/step - loss: 0.1656 - accuracy: 0.9436 - val_loss: 0.1978 - val_accuracy: 0.9388\n",
      "Epoch 22/50\n",
      "356/356 [==============================] - 1s 3ms/step - loss: 0.1840 - accuracy: 0.9364 - val_loss: 0.2039 - val_accuracy: 0.9356\n",
      "Epoch 23/50\n",
      "356/356 [==============================] - 1s 3ms/step - loss: 0.1647 - accuracy: 0.9418 - val_loss: 0.2362 - val_accuracy: 0.9173\n",
      "Epoch 24/50\n",
      "356/356 [==============================] - 1s 3ms/step - loss: 0.1664 - accuracy: 0.9426 - val_loss: 0.2046 - val_accuracy: 0.9367\n",
      "Epoch 25/50\n",
      "356/356 [==============================] - 1s 3ms/step - loss: 0.1723 - accuracy: 0.9389 - val_loss: 0.5381 - val_accuracy: 0.8395\n",
      "Epoch 26/50\n",
      "356/356 [==============================] - 1s 3ms/step - loss: 0.1696 - accuracy: 0.9396 - val_loss: 0.2166 - val_accuracy: 0.9282\n",
      "Epoch 27/50\n",
      "356/356 [==============================] - 1s 2ms/step - loss: 0.1556 - accuracy: 0.9443 - val_loss: 0.2061 - val_accuracy: 0.9342\n",
      "Epoch 28/50\n",
      "356/356 [==============================] - 1s 3ms/step - loss: 0.1623 - accuracy: 0.9433 - val_loss: 0.2081 - val_accuracy: 0.9324\n",
      "Epoch 29/50\n",
      "356/356 [==============================] - 1s 2ms/step - loss: 0.1621 - accuracy: 0.9413 - val_loss: 0.1954 - val_accuracy: 0.9398\n",
      "Epoch 30/50\n",
      "356/356 [==============================] - 1s 3ms/step - loss: 0.1575 - accuracy: 0.9451 - val_loss: 0.2011 - val_accuracy: 0.9367\n",
      "Epoch 31/50\n",
      "356/356 [==============================] - 1s 4ms/step - loss: 0.1616 - accuracy: 0.9417 - val_loss: 0.2661 - val_accuracy: 0.9120\n",
      "Epoch 32/50\n",
      "356/356 [==============================] - 1s 2ms/step - loss: 0.1439 - accuracy: 0.9523 - val_loss: 0.2340 - val_accuracy: 0.9212\n",
      "Epoch 33/50\n",
      "356/356 [==============================] - 1s 2ms/step - loss: 0.1501 - accuracy: 0.9477 - val_loss: 0.2508 - val_accuracy: 0.9201\n",
      "Epoch 34/50\n",
      "356/356 [==============================] - 1s 2ms/step - loss: 0.1515 - accuracy: 0.9483 - val_loss: 0.2037 - val_accuracy: 0.9346\n",
      "Epoch 35/50\n",
      "356/356 [==============================] - 1s 3ms/step - loss: 0.1556 - accuracy: 0.9439 - val_loss: 0.1980 - val_accuracy: 0.9402\n",
      "Epoch 36/50\n",
      "356/356 [==============================] - 1s 3ms/step - loss: 0.1481 - accuracy: 0.9504 - val_loss: 0.2990 - val_accuracy: 0.9053\n",
      "Epoch 37/50\n",
      "356/356 [==============================] - 1s 3ms/step - loss: 0.1464 - accuracy: 0.9498 - val_loss: 0.1963 - val_accuracy: 0.9388\n",
      "Epoch 38/50\n",
      "356/356 [==============================] - 1s 2ms/step - loss: 0.1547 - accuracy: 0.9440 - val_loss: 0.1982 - val_accuracy: 0.9377\n",
      "Epoch 39/50\n",
      "356/356 [==============================] - 1s 2ms/step - loss: 0.1395 - accuracy: 0.9496 - val_loss: 0.2148 - val_accuracy: 0.9331\n",
      "Epoch 40/50\n",
      "356/356 [==============================] - 1s 3ms/step - loss: 0.1333 - accuracy: 0.9554 - val_loss: 0.2147 - val_accuracy: 0.9282\n",
      "Epoch 41/50\n",
      "356/356 [==============================] - 1s 2ms/step - loss: 0.1480 - accuracy: 0.9485 - val_loss: 0.2025 - val_accuracy: 0.9391\n",
      "Epoch 42/50\n",
      "356/356 [==============================] - 1s 2ms/step - loss: 0.1415 - accuracy: 0.9515 - val_loss: 0.2036 - val_accuracy: 0.9384\n",
      "Epoch 43/50\n",
      "356/356 [==============================] - 1s 3ms/step - loss: 0.1389 - accuracy: 0.9531 - val_loss: 0.2191 - val_accuracy: 0.9279\n",
      "Epoch 44/50\n",
      "356/356 [==============================] - 1s 3ms/step - loss: 0.1403 - accuracy: 0.9518 - val_loss: 0.2016 - val_accuracy: 0.9395\n",
      "Epoch 45/50\n",
      "356/356 [==============================] - 1s 2ms/step - loss: 0.1378 - accuracy: 0.9520 - val_loss: 0.2264 - val_accuracy: 0.9279\n",
      "Epoch 46/50\n",
      "356/356 [==============================] - 1s 2ms/step - loss: 0.1307 - accuracy: 0.9561 - val_loss: 0.3943 - val_accuracy: 0.8839\n",
      "Epoch 47/50\n",
      "356/356 [==============================] - 1s 3ms/step - loss: 0.1378 - accuracy: 0.9548 - val_loss: 0.2041 - val_accuracy: 0.9342\n",
      "Epoch 48/50\n",
      "356/356 [==============================] - 1s 3ms/step - loss: 0.1309 - accuracy: 0.9536 - val_loss: 0.2752 - val_accuracy: 0.9145\n",
      "Epoch 49/50\n",
      "356/356 [==============================] - 1s 3ms/step - loss: 0.1376 - accuracy: 0.9528 - val_loss: 0.2052 - val_accuracy: 0.9356\n",
      "Epoch 50/50\n",
      "356/356 [==============================] - 1s 3ms/step - loss: 0.1402 - accuracy: 0.9515 - val_loss: 0.2891 - val_accuracy: 0.9127\n",
      "111/111 [==============================] - 0s 2ms/step - loss: 0.2870 - accuracy: 0.9082\n",
      "Test Accuracy: 0.9082207083702087\n",
      "111/111 [==============================] - 0s 2ms/step\n",
      "Accuracy Score: 0.9082207207207207\n"
     ]
    }
   ],
   "source": [
    "# Define logistic regression model using TensorFlow 2.x\n",
    "class LogisticRegression(tf.keras.Model):\n",
    "    def __init__(self):\n",
    "        super(LogisticRegression, self).__init__()\n",
    "        self.flatten = tf.keras.layers.Flatten(input_shape=(64, 64))  # Flatten input images\n",
    "        self.dense = tf.keras.layers.Dense(1, activation='sigmoid')  # Output layer with sigmoid activation\n",
    "\n",
    "    def call(self, x):\n",
    "        x = self.flatten(x)\n",
    "        return self.dense(x)\n",
    "\n",
    "# Create an instance of the logistic regression model\n",
    "model = LogisticRegression()\n",
    "\n",
    "# Compile the model\n",
    "model.compile(optimizer='adam',\n",
    "              loss='binary_crossentropy',\n",
    "              metrics=['accuracy'])\n",
    "\n",
    "# Train the model\n",
    "history = model.fit(X_train_mat, y_train_mat, epochs=50, batch_size=32, validation_data=(X_val_mat, y_val_mat))\n",
    "\n",
    "# Evaluate the model on the test set\n",
    "test_loss, test_acc = model.evaluate(X_test_mat, y_test_mat)\n",
    "\n",
    "print(\"Test Accuracy:\", test_acc)\n",
    "\n",
    "# Predictions on the test set\n",
    "y_pred_prob = model.predict(X_test_mat)\n",
    "\n",
    "# Convert probabilities to class labels based on a threshold (e.g., 0.5)\n",
    "y_pred = (y_pred_prob > 0.5).astype(int)\n",
    "\n",
    "# Calculate accuracy\n",
    "accuracy = accuracy_score(y_test_mat, y_pred)\n",
    "print(\"Accuracy Score:\", accuracy)"
   ]
  },
  {
   "cell_type": "code",
   "execution_count": 98,
   "id": "1436eb1a",
   "metadata": {},
   "outputs": [
    {
     "name": "stdout",
     "output_type": "stream",
     "text": [
      "Found 11367 validated image filenames belonging to 2 classes.\n",
      "Found 2841 validated image filenames belonging to 2 classes.\n",
      "Found 3552 validated image filenames belonging to 2 classes.\n"
     ]
    }
   ],
   "source": [
    "training_set = train_datagen.flow_from_dataframe(\n",
    "    dataframe = X_train,\n",
    "    x_col = \"image\",\n",
    "    y_col = \"label\",\n",
    "    target_size = (64, 64),\n",
    "    color_mode = \"rgb\",\n",
    "    class_mode = \"categorical\",\n",
    "    batch_size = 32,\n",
    "    shuffle = True,\n",
    "    seed = 2,\n",
    "    subset = \"training\")\n",
    "\n",
    "validation_set = train_datagen.flow_from_dataframe(\n",
    "    dataframe = X_train,\n",
    "    x_col = \"image\",\n",
    "    y_col = \"label\",\n",
    "    target_size = (64, 64),\n",
    "    color_mode =\"rgb\",\n",
    "    class_mode = \"categorical\",\n",
    "    batch_size = 32,\n",
    "    shuffle = True,\n",
    "    seed = 2,\n",
    "    subset = \"validation\")\n",
    "\n",
    "test_set = test_datagen.flow_from_dataframe(\n",
    "    dataframe = X_test,\n",
    "    x_col = \"image\",\n",
    "    y_col = \"label\",\n",
    "    target_size = (64, 64),\n",
    "    color_mode =\"rgb\",\n",
    "    class_mode = \"categorical\",\n",
    "    shuffle = False,\n",
    "    batch_size = 32)"
   ]
  },
  {
   "cell_type": "code",
   "execution_count": 99,
   "id": "91dea706",
   "metadata": {},
   "outputs": [],
   "source": [
    "model = Sequential()\n",
    "model.add(Conv2D(filters = 32, kernel_size = (3,3),padding = 'Same', \n",
    "                 activation ='relu', input_shape = (64,64,3)))\n",
    "model.add(MaxPool2D(pool_size=(2,2)))\n",
    "model.add(Conv2D(filters = 64, kernel_size = (3,3),padding = 'Same', \n",
    "                 activation ='relu'))\n",
    "model.add(MaxPool2D(pool_size=(2,2)))\n",
    "model.add(Conv2D(filters = 128, kernel_size = (3,3),padding = 'Same', \n",
    "                 activation ='relu'))\n",
    "model.add(MaxPool2D(pool_size=(2,2)))\n",
    "model.add(Conv2D(filters = 512, kernel_size = (3,3),padding = 'Same', \n",
    "                 activation ='relu'))\n",
    "model.add(MaxPool2D(pool_size=(2,2)))\n",
    "model.add(Conv2D(filters = 512, kernel_size = (3,3),padding = 'Same', \n",
    "                 activation ='relu'))\n",
    "model.add(MaxPool2D(pool_size=(2,2)))\n",
    "model.add(Flatten())\n",
    "model.add(Dense(512, activation = \"relu\"))\n",
    "model.add(Dropout(0.2))\n",
    "model.add(Dense(256, activation = \"relu\"))\n",
    "model.add(Dropout(0.2))\n",
    "model.add(Dense(64, activation = \"relu\"))\n",
    "model.add(Dense(2, activation = \"softmax\"))"
   ]
  },
  {
   "cell_type": "code",
   "execution_count": 100,
   "id": "d74f31b7",
   "metadata": {},
   "outputs": [],
   "source": [
    "model.compile(optimizer = 'adam', loss= \"categorical_crossentropy\", metrics=[\"acc\"])"
   ]
  },
  {
   "cell_type": "code",
   "execution_count": 101,
   "id": "57cab079",
   "metadata": {},
   "outputs": [],
   "source": [
    "from tensorflow.keras.callbacks import EarlyStopping\n",
    "early_stopping = EarlyStopping(monitor='val_loss', patience=1, verbose=1)"
   ]
  },
  {
   "cell_type": "code",
   "execution_count": 102,
   "id": "b517c646",
   "metadata": {},
   "outputs": [
    {
     "name": "stdout",
     "output_type": "stream",
     "text": [
      "Epoch 1/10\n",
      "356/356 [==============================] - 60s 166ms/step - loss: 0.2516 - acc: 0.8906 - val_loss: 0.1172 - val_acc: 0.9539\n",
      "Epoch 2/10\n",
      "356/356 [==============================] - 59s 165ms/step - loss: 0.1043 - acc: 0.9629 - val_loss: 0.0999 - val_acc: 0.9676\n",
      "Epoch 3/10\n",
      "356/356 [==============================] - 60s 169ms/step - loss: 0.0665 - acc: 0.9770 - val_loss: 0.0637 - val_acc: 0.9799\n",
      "Epoch 4/10\n",
      "356/356 [==============================] - 60s 167ms/step - loss: 0.0613 - acc: 0.9792 - val_loss: 0.0368 - val_acc: 0.9880\n",
      "Epoch 5/10\n",
      "356/356 [==============================] - 60s 169ms/step - loss: 0.0532 - acc: 0.9842 - val_loss: 0.0277 - val_acc: 0.9901\n",
      "Epoch 6/10\n",
      "356/356 [==============================] - 60s 169ms/step - loss: 0.0325 - acc: 0.9885 - val_loss: 0.0350 - val_acc: 0.9884\n",
      "Epoch 6: early stopping\n"
     ]
    }
   ],
   "source": [
    "history = model.fit(training_set, epochs=10,validation_data = validation_set, callbacks=[early_stopping],batch_size=32)"
   ]
  },
  {
   "cell_type": "code",
   "execution_count": 103,
   "id": "214b6ca9",
   "metadata": {},
   "outputs": [
    {
     "name": "stdout",
     "output_type": "stream",
     "text": [
      "111/111 [==============================] - 6s 57ms/step - loss: 0.0266 - acc: 0.9896\n"
     ]
    }
   ],
   "source": [
    "test_score = model.evaluate(test_set)"
   ]
  },
  {
   "cell_type": "code",
   "execution_count": 104,
   "id": "12ad2749",
   "metadata": {},
   "outputs": [
    {
     "name": "stdout",
     "output_type": "stream",
     "text": [
      "Test Score:0.9895833134651184\n",
      "Test Loss:0.026605362072587013\n"
     ]
    }
   ],
   "source": [
    "print(f'Test Score:{test_score[1]}')\n",
    "print(f'Test Loss:{test_score[0]}')"
   ]
  },
  {
   "cell_type": "code",
   "execution_count": null,
   "id": "c6380b2d",
   "metadata": {},
   "outputs": [],
   "source": []
  }
 ],
 "metadata": {
  "kernelspec": {
   "display_name": "Python 3 (ipykernel)",
   "language": "python",
   "name": "python3"
  },
  "language_info": {
   "codemirror_mode": {
    "name": "ipython",
    "version": 3
   },
   "file_extension": ".py",
   "mimetype": "text/x-python",
   "name": "python",
   "nbconvert_exporter": "python",
   "pygments_lexer": "ipython3",
   "version": "3.9.12"
  }
 },
 "nbformat": 4,
 "nbformat_minor": 5
}
